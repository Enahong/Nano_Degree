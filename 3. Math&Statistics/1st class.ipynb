{
 "cells": [
  {
   "cell_type": "code",
   "execution_count": null,
   "id": "987217e8",
   "metadata": {},
   "outputs": [],
   "source": [
    "# import pyreader as pr\n",
    "# result=pr.read_r('class1.RData')\n",
    "# result[]"
   ]
  },
  {
   "cell_type": "code",
   "execution_count": 1,
   "id": "b88c1423",
   "metadata": {},
   "outputs": [
    {
     "data": {
      "text/html": [
       "<div>\n",
       "<style scoped>\n",
       "    .dataframe tbody tr th:only-of-type {\n",
       "        vertical-align: middle;\n",
       "    }\n",
       "\n",
       "    .dataframe tbody tr th {\n",
       "        vertical-align: top;\n",
       "    }\n",
       "\n",
       "    .dataframe thead th {\n",
       "        text-align: right;\n",
       "    }\n",
       "</style>\n",
       "<table border=\"1\" class=\"dataframe\">\n",
       "  <thead>\n",
       "    <tr style=\"text-align: right;\">\n",
       "      <th></th>\n",
       "      <th>CRIM</th>\n",
       "      <th>NOX</th>\n",
       "      <th>RAD</th>\n",
       "      <th>PTRATIO</th>\n",
       "      <th>Target</th>\n",
       "    </tr>\n",
       "  </thead>\n",
       "  <tbody>\n",
       "    <tr>\n",
       "      <th>0</th>\n",
       "      <td>0.00632</td>\n",
       "      <td>0.538</td>\n",
       "      <td>1.0</td>\n",
       "      <td>15.3</td>\n",
       "      <td>24.0</td>\n",
       "    </tr>\n",
       "    <tr>\n",
       "      <th>1</th>\n",
       "      <td>0.02731</td>\n",
       "      <td>0.469</td>\n",
       "      <td>2.0</td>\n",
       "      <td>17.8</td>\n",
       "      <td>21.6</td>\n",
       "    </tr>\n",
       "    <tr>\n",
       "      <th>2</th>\n",
       "      <td>0.02729</td>\n",
       "      <td>0.469</td>\n",
       "      <td>2.0</td>\n",
       "      <td>17.8</td>\n",
       "      <td>34.7</td>\n",
       "    </tr>\n",
       "    <tr>\n",
       "      <th>3</th>\n",
       "      <td>0.03237</td>\n",
       "      <td>0.458</td>\n",
       "      <td>3.0</td>\n",
       "      <td>18.7</td>\n",
       "      <td>33.4</td>\n",
       "    </tr>\n",
       "    <tr>\n",
       "      <th>4</th>\n",
       "      <td>0.06905</td>\n",
       "      <td>0.458</td>\n",
       "      <td>3.0</td>\n",
       "      <td>18.7</td>\n",
       "      <td>36.2</td>\n",
       "    </tr>\n",
       "  </tbody>\n",
       "</table>\n",
       "</div>"
      ],
      "text/plain": [
       "      CRIM    NOX  RAD  PTRATIO  Target\n",
       "0  0.00632  0.538  1.0     15.3    24.0\n",
       "1  0.02731  0.469  2.0     17.8    21.6\n",
       "2  0.02729  0.469  2.0     17.8    34.7\n",
       "3  0.03237  0.458  3.0     18.7    33.4\n",
       "4  0.06905  0.458  3.0     18.7    36.2"
      ]
     },
     "execution_count": 1,
     "metadata": {},
     "output_type": "execute_result"
    }
   ],
   "source": [
    "import pandas as pd \n",
    "from sklearn.datasets import load_boston \n",
    "\n",
    "df_load = load_boston()\n",
    "\n",
    "df = pd.DataFrame( df_load.data, columns = df_load.feature_names)\n",
    "df['Target'] = df_load.target\n",
    "fdf = df[['CRIM', 'NOX', 'RAD', 'PTRATIO', 'Target']]\n",
    "\n",
    "fdf.head()"
   ]
  },
  {
   "cell_type": "code",
   "execution_count": 2,
   "id": "142ffb2b",
   "metadata": {},
   "outputs": [],
   "source": [
    "from sklearn.model_selection import train_test_split\n",
    "X_train, X_test, Y_train, Y_test = train_test_split(fdf.drop('Target', axis=1), fdf['Target'],  test_size=0.25, random_state=1636)"
   ]
  },
  {
   "cell_type": "code",
   "execution_count": 3,
   "id": "1aad60a1",
   "metadata": {},
   "outputs": [
    {
     "name": "stdout",
     "output_type": "stream",
     "text": [
      "The score is \t 0.42348610370924133 .\n",
      "\n",
      "The coefficients are \t [ -0.21485117 -28.32552274   0.19909558  -2.02818669] .\n",
      "\n",
      "Printed output\n",
      " [30.49115337 19.74384394 25.9503992  21.57935888 15.86306047 23.92800057\n",
      " 19.54755967 26.19733265 34.00463954 19.98891599 18.24580005 19.08333981\n",
      " 27.78199119 25.02631387 27.21769157 22.26486604 24.55059956 26.32821002\n",
      " 20.01077495 25.62577638 15.73294793 28.13661165 17.18699363 17.28374243\n",
      " 13.95322045 26.23036387 28.64244913 19.24915336 25.21541785 24.06116593\n",
      " 19.67387499 22.33253127 23.54947003 21.56911692 13.10604402 22.45196369\n",
      " 25.02457787 21.15012821 20.01052572 18.21494592 16.32840949 27.23593029\n",
      " 24.76875016 24.78288307 29.65943328 20.16209548 15.93483423 22.34831209\n",
      " 24.48867091 17.2098626  25.91439024 29.065131   30.31540811 29.74503392\n",
      " 25.05963925 16.51760945 24.80124753 24.03172058 30.41099977 23.14835711\n",
      " 33.55427041 29.74196585 17.09076806 24.3068313  25.0266963  13.21668489\n",
      " 37.75552645  3.95249561 23.49334016 22.50023617 28.14732842 23.94314758\n",
      " 16.77974937 37.75745582 19.00151594 20.8118007  32.20170729 19.80829714\n",
      " 23.93371132 14.3698823  18.16252374 33.55749533 20.41387313 16.4837097\n",
      " 25.44859625 17.18537979 28.64326342 15.19647181 22.24827161 14.43605217\n",
      " 14.27530385 25.03572042 25.04402657 21.87442197 21.57127618 29.67152081\n",
      " 15.5343125  24.79991975 17.19604961 17.19655881 25.03434323 22.37846215\n",
      " 22.2381113  19.99760672 24.7337595  26.29280899 22.38020889 15.72921811\n",
      " 29.7465744  25.21700345 32.58297769 18.82095695 25.93853306 21.86845058\n",
      " 25.0595619  24.7777073  15.85955519 24.77204812 15.45710856 24.55232482\n",
      " 23.93237494 19.79597599 20.51970452 18.20634543 24.79536377 26.2360832\n",
      " 24.56248856]\n"
     ]
    }
   ],
   "source": [
    "from sklearn.linear_model import LinearRegression\n",
    "lr = LinearRegression() # 선형 회귀분석\n",
    "lr.fit(X_train,Y_train)\n",
    "sc=lr.score(X_train,Y_train)\n",
    "coef=lr.coef_\n",
    "pred=lr.predict(X_test)\n",
    "print('The score is \\t',sc,'.\\n\\nThe coefficients are \\t',coef,'.\\n\\nPrinted output\\n',pred)\n",
    "\n",
    "# coefficients(계수) -> x 값 "
   ]
  },
  {
   "cell_type": "code",
   "execution_count": 4,
   "id": "eb813dda",
   "metadata": {},
   "outputs": [
    {
     "data": {
      "text/html": [
       "<table class=\"simpletable\">\n",
       "<caption>OLS Regression Results</caption>\n",
       "<tr>\n",
       "  <th>Dep. Variable:</th>         <td>Target</td>      <th>  R-squared:         </th> <td>   0.423</td>\n",
       "</tr>\n",
       "<tr>\n",
       "  <th>Model:</th>                   <td>OLS</td>       <th>  Adj. R-squared:    </th> <td>   0.417</td>\n",
       "</tr>\n",
       "<tr>\n",
       "  <th>Method:</th>             <td>Least Squares</td>  <th>  F-statistic:       </th> <td>   68.68</td>\n",
       "</tr>\n",
       "<tr>\n",
       "  <th>Date:</th>             <td>Mon, 09 Aug 2021</td> <th>  Prob (F-statistic):</th> <td>1.50e-43</td>\n",
       "</tr>\n",
       "<tr>\n",
       "  <th>Time:</th>                 <td>16:21:53</td>     <th>  Log-Likelihood:    </th> <td> -1270.1</td>\n",
       "</tr>\n",
       "<tr>\n",
       "  <th>No. Observations:</th>      <td>   379</td>      <th>  AIC:               </th> <td>   2550.</td>\n",
       "</tr>\n",
       "<tr>\n",
       "  <th>Df Residuals:</th>          <td>   374</td>      <th>  BIC:               </th> <td>   2570.</td>\n",
       "</tr>\n",
       "<tr>\n",
       "  <th>Df Model:</th>              <td>     4</td>      <th>                     </th>     <td> </td>   \n",
       "</tr>\n",
       "<tr>\n",
       "  <th>Covariance Type:</th>      <td>nonrobust</td>    <th>                     </th>     <td> </td>   \n",
       "</tr>\n",
       "</table>\n",
       "<table class=\"simpletable\">\n",
       "<tr>\n",
       "     <td></td>        <th>coef</th>     <th>std err</th>      <th>t</th>      <th>P>|t|</th>  <th>[0.025</th>    <th>0.975]</th>  \n",
       "</tr>\n",
       "<tr>\n",
       "  <th>const</th>   <td>   74.3660</td> <td>    3.953</td> <td>   18.813</td> <td> 0.000</td> <td>   66.593</td> <td>   82.139</td>\n",
       "</tr>\n",
       "<tr>\n",
       "  <th>CRIM</th>    <td>   -0.2149</td> <td>    0.052</td> <td>   -4.159</td> <td> 0.000</td> <td>   -0.316</td> <td>   -0.113</td>\n",
       "</tr>\n",
       "<tr>\n",
       "  <th>NOX</th>     <td>  -28.3255</td> <td>    3.893</td> <td>   -7.275</td> <td> 0.000</td> <td>  -35.981</td> <td>  -20.670</td>\n",
       "</tr>\n",
       "<tr>\n",
       "  <th>RAD</th>     <td>    0.1991</td> <td>    0.066</td> <td>    3.023</td> <td> 0.003</td> <td>    0.070</td> <td>    0.329</td>\n",
       "</tr>\n",
       "<tr>\n",
       "  <th>PTRATIO</th> <td>   -2.0282</td> <td>    0.183</td> <td>  -11.077</td> <td> 0.000</td> <td>   -2.388</td> <td>   -1.668</td>\n",
       "</tr>\n",
       "</table>\n",
       "<table class=\"simpletable\">\n",
       "<tr>\n",
       "  <th>Omnibus:</th>       <td>121.024</td> <th>  Durbin-Watson:     </th> <td>   2.022</td>\n",
       "</tr>\n",
       "<tr>\n",
       "  <th>Prob(Omnibus):</th> <td> 0.000</td>  <th>  Jarque-Bera (JB):  </th> <td> 362.814</td>\n",
       "</tr>\n",
       "<tr>\n",
       "  <th>Skew:</th>          <td> 1.475</td>  <th>  Prob(JB):          </th> <td>1.64e-79</td>\n",
       "</tr>\n",
       "<tr>\n",
       "  <th>Kurtosis:</th>      <td> 6.778</td>  <th>  Cond. No.          </th> <td>    308.</td>\n",
       "</tr>\n",
       "</table><br/><br/>Notes:<br/>[1] Standard Errors assume that the covariance matrix of the errors is correctly specified."
      ],
      "text/plain": [
       "<class 'statsmodels.iolib.summary.Summary'>\n",
       "\"\"\"\n",
       "                            OLS Regression Results                            \n",
       "==============================================================================\n",
       "Dep. Variable:                 Target   R-squared:                       0.423\n",
       "Model:                            OLS   Adj. R-squared:                  0.417\n",
       "Method:                 Least Squares   F-statistic:                     68.68\n",
       "Date:                Mon, 09 Aug 2021   Prob (F-statistic):           1.50e-43\n",
       "Time:                        16:21:53   Log-Likelihood:                -1270.1\n",
       "No. Observations:                 379   AIC:                             2550.\n",
       "Df Residuals:                     374   BIC:                             2570.\n",
       "Df Model:                           4                                         \n",
       "Covariance Type:            nonrobust                                         \n",
       "==============================================================================\n",
       "                 coef    std err          t      P>|t|      [0.025      0.975]\n",
       "------------------------------------------------------------------------------\n",
       "const         74.3660      3.953     18.813      0.000      66.593      82.139\n",
       "CRIM          -0.2149      0.052     -4.159      0.000      -0.316      -0.113\n",
       "NOX          -28.3255      3.893     -7.275      0.000     -35.981     -20.670\n",
       "RAD            0.1991      0.066      3.023      0.003       0.070       0.329\n",
       "PTRATIO       -2.0282      0.183    -11.077      0.000      -2.388      -1.668\n",
       "==============================================================================\n",
       "Omnibus:                      121.024   Durbin-Watson:                   2.022\n",
       "Prob(Omnibus):                  0.000   Jarque-Bera (JB):              362.814\n",
       "Skew:                           1.475   Prob(JB):                     1.64e-79\n",
       "Kurtosis:                       6.778   Cond. No.                         308.\n",
       "==============================================================================\n",
       "\n",
       "Notes:\n",
       "[1] Standard Errors assume that the covariance matrix of the errors is correctly specified.\n",
       "\"\"\""
      ]
     },
     "execution_count": 4,
     "metadata": {},
     "output_type": "execute_result"
    }
   ],
   "source": [
    "import statsmodels.api as sm \n",
    "\n",
    "X_train2 = sm.add_constant(X_train)\n",
    "lr2 = sm.OLS(Y_train, X_train2)\n",
    "result = lr2.fit()\n",
    "result.summary()"
   ]
  },
  {
   "cell_type": "code",
   "execution_count": 5,
   "id": "a55c515a",
   "metadata": {},
   "outputs": [
    {
     "data": {
      "text/plain": [
       "263    30.491153\n",
       "424    19.743844\n",
       "343    25.950399\n",
       "326    21.579359\n",
       "446    15.863060\n",
       "         ...    \n",
       "150    20.519705\n",
       "106    18.206345\n",
       "252    24.795364\n",
       "233    26.236083\n",
       "291    24.562489\n",
       "Length: 127, dtype: float64"
      ]
     },
     "execution_count": 5,
     "metadata": {},
     "output_type": "execute_result"
    }
   ],
   "source": [
    "X_test2 = sm.add_constant(X_test)\n",
    "result.predict(X_test2)"
   ]
  },
  {
   "cell_type": "code",
   "execution_count": null,
   "id": "f43e5f27",
   "metadata": {},
   "outputs": [],
   "source": [
    "# sklearn와 statsmodels 패키지의 차이점\n",
    "# sklearn 머신러닝을 위한 패키지라서 / 가설검정에 부적합하디.\n",
    "# statsmodels는 통계를 위한 패키지라서 표형태로 나온다. 이 표를 변수로 저장해서 다른 분석에 사용 가능 / 가설검정에 필요"
   ]
  }
 ],
 "metadata": {
  "kernelspec": {
   "display_name": "Python 3",
   "language": "python",
   "name": "python3"
  },
  "language_info": {
   "codemirror_mode": {
    "name": "ipython",
    "version": 3
   },
   "file_extension": ".py",
   "mimetype": "text/x-python",
   "name": "python",
   "nbconvert_exporter": "python",
   "pygments_lexer": "ipython3",
   "version": "3.8.8"
  },
  "toc": {
   "base_numbering": 1,
   "nav_menu": {},
   "number_sections": true,
   "sideBar": true,
   "skip_h1_title": false,
   "title_cell": "Table of Contents",
   "title_sidebar": "Contents",
   "toc_cell": false,
   "toc_position": {},
   "toc_section_display": true,
   "toc_window_display": false
  },
  "varInspector": {
   "cols": {
    "lenName": 16,
    "lenType": 16,
    "lenVar": 40
   },
   "kernels_config": {
    "python": {
     "delete_cmd_postfix": "",
     "delete_cmd_prefix": "del ",
     "library": "var_list.py",
     "varRefreshCmd": "print(var_dic_list())"
    },
    "r": {
     "delete_cmd_postfix": ") ",
     "delete_cmd_prefix": "rm(",
     "library": "var_list.r",
     "varRefreshCmd": "cat(var_dic_list()) "
    }
   },
   "types_to_exclude": [
    "module",
    "function",
    "builtin_function_or_method",
    "instance",
    "_Feature"
   ],
   "window_display": false
  }
 },
 "nbformat": 4,
 "nbformat_minor": 5
}
