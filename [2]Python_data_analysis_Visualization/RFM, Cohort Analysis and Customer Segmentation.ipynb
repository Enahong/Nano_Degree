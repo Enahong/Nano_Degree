{
 "cells": [
  {
   "cell_type": "markdown",
   "metadata": {
    "id": "mfEPGHnOrMWW"
   },
   "source": [
    "* 출처 : https://www.kaggle.com/vernon360961/rfm-cohort-analysis-and-customer-segmentation\n",
    "* 데이터셋 : https://archive.ics.uci.edu/ml/datasets/Online+Retail#"
   ]
  },
  {
   "cell_type": "markdown",
   "metadata": {
    "id": "gGYjaOFbrMWa"
   },
   "source": [
    "In this day and age, the field of Marketing is constantly changing. This is the age of data, the use of sophisticated models,multivariate\n",
    "statistics and well thought out digital marketing strategies is habitual. With the dawn of the data era, it’s almost evident tha t institutions\n",
    "update their curriculum to what meets the current requirements of the market.\n",
    "As daunting as this may seem for someone new to the field, the\n",
    "blend of Data Science and Marketing has been known to\n",
    "provide insights that can help businesses refine their strategies\n",
    "leading to more calculated decision making and improved ROI.\n",
    "Marketing Science has already made huge leaps and bounds in\n",
    "existing methodologies, some of which include:\n",
    "1.   Customer Lifetime Value Analysis\n",
    "1.   Market Segmentation\n",
    "1.   Recency, Frequency, Monetary models\n",
    "1.   A/B Testing\n",
    "1.   Customer Churn Prediction\n",
    "1.   Cohort Analysis\n",
    "And that’s just the tip of the iceberg.\n",
    "\n",
    "\n",
    "오늘날, 마케팅 분야는 끊임없이 변화하고 있습니다. 이것은 데이터의 시대, 정교한 모델의 사용, 다변량\n",
    "통계와 잘 생각 된 디지털 마케팅 전략은 습관적입니다. 데이터 시대가 시작되면서 거의 모든 기관이\n",
    "커리큘럼을 시장의 현재 요구 사항을 충족하는 것으로 업데이트합니다.\n",
    "이 분야에 새로운 사람을 위해이 것처럼 보일 수도 있지만,\n",
    "데이터 과학과 마케팅의 조화는\n",
    "비즈니스 전략 개선에 도움이되는 통찰력 제공\n",
    "보다 계산 된 의사 결정과 향상된 ROI로 이어집니다.\n",
    "마케팅 과학은 이미 큰 도약과 한계를 뛰어 넘었습니다.\n",
    "기존 방법론 중 일부는 다음과 같습니다.\n",
    "1. LTV : 고객 평생 가치 분석\n",
    "1. 시장 세분화\n",
    "1. 최근 성, 빈도, 통화 모델\n",
    "1. A / B 테스트\n",
    "1. Churn : 고객 이탈 예측\n",
    "1. 코호트 분석\n",
    "빙산의 일각에 불과합니다."
   ]
  },
  {
   "cell_type": "code",
   "execution_count": 1,
   "metadata": {
    "id": "9KBdrpqorMWb"
   },
   "outputs": [],
   "source": [
    "# This Python 3 environment comes with many helpful analytics libraries installed\n",
    "# It is defined by the kaggle/python docker image: https://github.com/kaggle/docker-python\n",
    "# For example, here's several helpful packages to load in \n",
    "\n",
    "import numpy as np # linear algebra\n",
    "import pandas as pd # data processing, CSV file I/O (e.g. pd.read_csv)"
   ]
  },
  {
   "cell_type": "code",
   "execution_count": 2,
   "metadata": {
    "_cell_guid": "79c7e3d0-c299-4dcb-8224-4455121ee9b0",
    "_uuid": "d629ff2d2480ee46fbb7e2d37f6b5fab8052498a",
    "id": "YVbtxrLBrMWc"
   },
   "outputs": [],
   "source": [
    "import pandas as pd\n",
    "import numpy as np\n",
    "import seaborn as sns\n",
    "import datetime as dt\n",
    "import matplotlib.pyplot as plt"
   ]
  },
  {
   "cell_type": "code",
   "execution_count": 3,
   "metadata": {
    "id": "rNXX4xTXrMWc",
    "outputId": "797693c6-4a3f-4bec-e1ee-0b36cd95b856"
   },
   "outputs": [
    {
     "data": {
      "text/plain": [
       "(541909, 8)"
      ]
     },
     "execution_count": 3,
     "metadata": {},
     "output_type": "execute_result"
    }
   ],
   "source": [
    "# df = pd.read_excel(\"http://archive.ics.uci.edu/ml/machine-learning-databases/00352/Online%20Retail.xlsx\")\n",
    "df = pd.read_excel('data/Online Retail.xlsx')\n",
    "df.shape"
   ]
  },
  {
   "cell_type": "markdown",
   "metadata": {
    "id": "Fn_Mzz17rMWd"
   },
   "source": [
    "Having a clear idea and workflow is crucial. With the current state of data collection, you’re constantly being exposed to data in large volume and in very short intervals. Not having the right resources to deal with this data can set you back exponentially. \n",
    "\n",
    "The use of machine learning and statistical modelling has helped businesses take advantage of this abundance of data. Whether it’s segmenting customers using clustering or predicting customer churn using logistic regression and decision trees, the possibilities are endless. Of course the use of any advanced modelling can sound quite interesting in a presentation or meeting but the entire process comes to a stand until after the data has been prepared and analyzed appropriately, certain decisions require domain knowledge and the right temperament.\n",
    "\n",
    "Let's take a look at the dataset and do a little Exploratory Data Analysis before we dive deeper.\n",
    "\n",
    "명확한 아이디어와 워크 플로우를 갖는 것이 중요합니다. 현재 데이터 수집 상태에서는 대량의 데이터와 매우 짧은 간격으로 데이터에 지속적으로 노출됩니다. 이 데이터를 처리 할 적절한 리소스가 없으면 기하 급수적으로 되돌릴 수 있습니다.\n",
    "\n",
    "머신 러닝 및 통계 모델링을 사용하여 기업은 이러한 풍부한 데이터를 활용할 수있었습니다. 클러스터링을 사용하여 고객을 분류하든 로지스틱 회귀 및 의사 결정 트리를 사용하여 고객 이탈을 예측하든 그 가능성은 무한합니다. 물론 고급 모델링의 사용은 프리젠 테이션이나 회의에서 상당히 흥미롭게 들릴 수 있지만 데이터가 적절하게 준비되고 분석 될 때까지 특정 프로세스를 수행하려면 도메인 지식과 올바른 기질이 필요합니다.\n",
    "\n",
    "자세히 알아보기 전에 데이터 세트를 살펴보고 약간의 탐색 데이터 분석을 수행하겠습니다."
   ]
  },
  {
   "cell_type": "markdown",
   "metadata": {
    "id": "2CevlQaarMWe"
   },
   "source": [
    "# Data Cleaning"
   ]
  },
  {
   "cell_type": "code",
   "execution_count": 4,
   "metadata": {
    "id": "aiHMlQ9frMWe",
    "outputId": "76c15615-bda9-49cd-e400-7a7e0cd9746a"
   },
   "outputs": [
    {
     "data": {
      "text/html": [
       "<div>\n",
       "<style scoped>\n",
       "    .dataframe tbody tr th:only-of-type {\n",
       "        vertical-align: middle;\n",
       "    }\n",
       "\n",
       "    .dataframe tbody tr th {\n",
       "        vertical-align: top;\n",
       "    }\n",
       "\n",
       "    .dataframe thead th {\n",
       "        text-align: right;\n",
       "    }\n",
       "</style>\n",
       "<table border=\"1\" class=\"dataframe\">\n",
       "  <thead>\n",
       "    <tr style=\"text-align: right;\">\n",
       "      <th></th>\n",
       "      <th>InvoiceNo</th>\n",
       "      <th>StockCode</th>\n",
       "      <th>Description</th>\n",
       "      <th>Quantity</th>\n",
       "      <th>InvoiceDate</th>\n",
       "      <th>UnitPrice</th>\n",
       "      <th>CustomerID</th>\n",
       "      <th>Country</th>\n",
       "    </tr>\n",
       "  </thead>\n",
       "  <tbody>\n",
       "    <tr>\n",
       "      <th>40051</th>\n",
       "      <td>539718</td>\n",
       "      <td>85170D</td>\n",
       "      <td>SET/6 PINK BIRD T-LIGHT CANDLES</td>\n",
       "      <td>1</td>\n",
       "      <td>2010-12-21 13:06:00</td>\n",
       "      <td>4.21</td>\n",
       "      <td>NaN</td>\n",
       "      <td>United Kingdom</td>\n",
       "    </tr>\n",
       "    <tr>\n",
       "      <th>30040</th>\n",
       "      <td>538843</td>\n",
       "      <td>22727</td>\n",
       "      <td>ALARM CLOCK BAKELIKE RED</td>\n",
       "      <td>5</td>\n",
       "      <td>2010-12-14 13:18:00</td>\n",
       "      <td>3.75</td>\n",
       "      <td>16033.0</td>\n",
       "      <td>United Kingdom</td>\n",
       "    </tr>\n",
       "    <tr>\n",
       "      <th>354179</th>\n",
       "      <td>567866</td>\n",
       "      <td>85099B</td>\n",
       "      <td>JUMBO BAG RED RETROSPOT</td>\n",
       "      <td>4</td>\n",
       "      <td>2011-09-22 14:13:00</td>\n",
       "      <td>2.08</td>\n",
       "      <td>16669.0</td>\n",
       "      <td>United Kingdom</td>\n",
       "    </tr>\n",
       "    <tr>\n",
       "      <th>131691</th>\n",
       "      <td>547583</td>\n",
       "      <td>21977</td>\n",
       "      <td>PACK OF 60 PINK PAISLEY CAKE CASES</td>\n",
       "      <td>60</td>\n",
       "      <td>2011-03-24 11:07:00</td>\n",
       "      <td>0.55</td>\n",
       "      <td>12901.0</td>\n",
       "      <td>United Kingdom</td>\n",
       "    </tr>\n",
       "    <tr>\n",
       "      <th>177239</th>\n",
       "      <td>552051</td>\n",
       "      <td>82600</td>\n",
       "      <td>NO SINGING METAL SIGN</td>\n",
       "      <td>3</td>\n",
       "      <td>2011-05-06 10:10:00</td>\n",
       "      <td>2.10</td>\n",
       "      <td>14796.0</td>\n",
       "      <td>United Kingdom</td>\n",
       "    </tr>\n",
       "  </tbody>\n",
       "</table>\n",
       "</div>"
      ],
      "text/plain": [
       "       InvoiceNo StockCode                         Description  Quantity  \\\n",
       "40051     539718    85170D     SET/6 PINK BIRD T-LIGHT CANDLES         1   \n",
       "30040     538843     22727           ALARM CLOCK BAKELIKE RED          5   \n",
       "354179    567866    85099B             JUMBO BAG RED RETROSPOT         4   \n",
       "131691    547583     21977  PACK OF 60 PINK PAISLEY CAKE CASES        60   \n",
       "177239    552051     82600               NO SINGING METAL SIGN         3   \n",
       "\n",
       "               InvoiceDate  UnitPrice  CustomerID         Country  \n",
       "40051  2010-12-21 13:06:00       4.21         NaN  United Kingdom  \n",
       "30040  2010-12-14 13:18:00       3.75     16033.0  United Kingdom  \n",
       "354179 2011-09-22 14:13:00       2.08     16669.0  United Kingdom  \n",
       "131691 2011-03-24 11:07:00       0.55     12901.0  United Kingdom  \n",
       "177239 2011-05-06 10:10:00       2.10     14796.0  United Kingdom  "
      ]
     },
     "execution_count": 4,
     "metadata": {},
     "output_type": "execute_result"
    }
   ],
   "source": [
    "df.sample(5)"
   ]
  },
  {
   "cell_type": "markdown",
   "metadata": {
    "id": "CXcAOjH1rMWf"
   },
   "source": [
    "From the above sample, we can see that the data set contains information on orders made on an e-commerce store. Some of the information here can be crucial to building a better model.\n",
    "\n",
    "위의 샘플에서 데이터 세트에 전자 상거래 상점에서의 주문 정보가 포함되어 있음을 알 수 있습니다. 여기에있는 정보 중 일부는 더 나은 모델을 구축하는 데 중요 할 수 있습니다."
   ]
  },
  {
   "cell_type": "code",
   "execution_count": 5,
   "metadata": {
    "id": "EK9auZqHrMWf",
    "outputId": "0b15ae4b-19ee-472e-a349-b6533a44e3fd"
   },
   "outputs": [
    {
     "data": {
      "text/html": [
       "<div>\n",
       "<style scoped>\n",
       "    .dataframe tbody tr th:only-of-type {\n",
       "        vertical-align: middle;\n",
       "    }\n",
       "\n",
       "    .dataframe tbody tr th {\n",
       "        vertical-align: top;\n",
       "    }\n",
       "\n",
       "    .dataframe thead th {\n",
       "        text-align: right;\n",
       "    }\n",
       "</style>\n",
       "<table border=\"1\" class=\"dataframe\">\n",
       "  <thead>\n",
       "    <tr style=\"text-align: right;\">\n",
       "      <th></th>\n",
       "      <th>Quantity</th>\n",
       "      <th>UnitPrice</th>\n",
       "      <th>CustomerID</th>\n",
       "    </tr>\n",
       "  </thead>\n",
       "  <tbody>\n",
       "    <tr>\n",
       "      <th>count</th>\n",
       "      <td>541909.000000</td>\n",
       "      <td>541909.000000</td>\n",
       "      <td>406829.000000</td>\n",
       "    </tr>\n",
       "    <tr>\n",
       "      <th>mean</th>\n",
       "      <td>9.552250</td>\n",
       "      <td>4.611114</td>\n",
       "      <td>15287.690570</td>\n",
       "    </tr>\n",
       "    <tr>\n",
       "      <th>std</th>\n",
       "      <td>218.081158</td>\n",
       "      <td>96.759853</td>\n",
       "      <td>1713.600303</td>\n",
       "    </tr>\n",
       "    <tr>\n",
       "      <th>min</th>\n",
       "      <td>-80995.000000</td>\n",
       "      <td>-11062.060000</td>\n",
       "      <td>12346.000000</td>\n",
       "    </tr>\n",
       "    <tr>\n",
       "      <th>25%</th>\n",
       "      <td>1.000000</td>\n",
       "      <td>1.250000</td>\n",
       "      <td>13953.000000</td>\n",
       "    </tr>\n",
       "    <tr>\n",
       "      <th>50%</th>\n",
       "      <td>3.000000</td>\n",
       "      <td>2.080000</td>\n",
       "      <td>15152.000000</td>\n",
       "    </tr>\n",
       "    <tr>\n",
       "      <th>75%</th>\n",
       "      <td>10.000000</td>\n",
       "      <td>4.130000</td>\n",
       "      <td>16791.000000</td>\n",
       "    </tr>\n",
       "    <tr>\n",
       "      <th>max</th>\n",
       "      <td>80995.000000</td>\n",
       "      <td>38970.000000</td>\n",
       "      <td>18287.000000</td>\n",
       "    </tr>\n",
       "  </tbody>\n",
       "</table>\n",
       "</div>"
      ],
      "text/plain": [
       "            Quantity      UnitPrice     CustomerID\n",
       "count  541909.000000  541909.000000  406829.000000\n",
       "mean        9.552250       4.611114   15287.690570\n",
       "std       218.081158      96.759853    1713.600303\n",
       "min    -80995.000000  -11062.060000   12346.000000\n",
       "25%         1.000000       1.250000   13953.000000\n",
       "50%         3.000000       2.080000   15152.000000\n",
       "75%        10.000000       4.130000   16791.000000\n",
       "max     80995.000000   38970.000000   18287.000000"
      ]
     },
     "execution_count": 5,
     "metadata": {},
     "output_type": "execute_result"
    }
   ],
   "source": [
    "df.describe()"
   ]
  },
  {
   "cell_type": "markdown",
   "metadata": {
    "id": "_4Ms8Ce_rMWg"
   },
   "source": [
    "The table above gave us quite a bit of information. The things that standout are the negative values for our Quantity and UnitPrice columns. We might need to take care of them before we do any analysis as the negative values are probably an indication of a certain type of transaction as opposed to negative values.\n",
    "\n",
    "위의 표는 우리에게 많은 정보를 제공합니다. 눈에 띄는 것은 수량 및 단가 열의 음수 값입니다. 음수 값은 음수 값이 아닌 특정 유형의 트랜잭션을 나타내는 것일 수 있으므로 분석을 수행하기 전에 이를 처리해야 할 수도 있습니다."
   ]
  },
  {
   "cell_type": "code",
   "execution_count": 6,
   "metadata": {
    "id": "wnXQl2WurMWg",
    "outputId": "31c87c48-2283-4116-d0b3-41b838f5a49a"
   },
   "outputs": [
    {
     "data": {
      "text/plain": [
       "541909"
      ]
     },
     "execution_count": 6,
     "metadata": {},
     "output_type": "execute_result"
    }
   ],
   "source": [
    "df.shape[0]"
   ]
  },
  {
   "cell_type": "code",
   "execution_count": 7,
   "metadata": {
    "id": "BPS-cAVerMWg",
    "outputId": "84f83d30-8177-4568-a722-e07abbf34214"
   },
   "outputs": [
    {
     "data": {
      "text/html": [
       "<div>\n",
       "<style scoped>\n",
       "    .dataframe tbody tr th:only-of-type {\n",
       "        vertical-align: middle;\n",
       "    }\n",
       "\n",
       "    .dataframe tbody tr th {\n",
       "        vertical-align: top;\n",
       "    }\n",
       "\n",
       "    .dataframe thead th {\n",
       "        text-align: right;\n",
       "    }\n",
       "</style>\n",
       "<table border=\"1\" class=\"dataframe\">\n",
       "  <thead>\n",
       "    <tr style=\"text-align: right;\">\n",
       "      <th></th>\n",
       "      <th>Percentage</th>\n",
       "    </tr>\n",
       "  </thead>\n",
       "  <tbody>\n",
       "    <tr>\n",
       "      <th>CustomerID</th>\n",
       "      <td>24.926694</td>\n",
       "    </tr>\n",
       "    <tr>\n",
       "      <th>Description</th>\n",
       "      <td>0.268311</td>\n",
       "    </tr>\n",
       "    <tr>\n",
       "      <th>InvoiceNo</th>\n",
       "      <td>0.000000</td>\n",
       "    </tr>\n",
       "    <tr>\n",
       "      <th>StockCode</th>\n",
       "      <td>0.000000</td>\n",
       "    </tr>\n",
       "    <tr>\n",
       "      <th>Quantity</th>\n",
       "      <td>0.000000</td>\n",
       "    </tr>\n",
       "    <tr>\n",
       "      <th>InvoiceDate</th>\n",
       "      <td>0.000000</td>\n",
       "    </tr>\n",
       "    <tr>\n",
       "      <th>UnitPrice</th>\n",
       "      <td>0.000000</td>\n",
       "    </tr>\n",
       "    <tr>\n",
       "      <th>Country</th>\n",
       "      <td>0.000000</td>\n",
       "    </tr>\n",
       "  </tbody>\n",
       "</table>\n",
       "</div>"
      ],
      "text/plain": [
       "             Percentage\n",
       "CustomerID    24.926694\n",
       "Description    0.268311\n",
       "InvoiceNo      0.000000\n",
       "StockCode      0.000000\n",
       "Quantity       0.000000\n",
       "InvoiceDate    0.000000\n",
       "UnitPrice      0.000000\n",
       "Country        0.000000"
      ]
     },
     "execution_count": 7,
     "metadata": {},
     "output_type": "execute_result"
    }
   ],
   "source": [
    "missing_percent = pd.DataFrame(df.isnull().mean()*100)\n",
    "missing_percent.rename(columns={0:'Percentage'}\n",
    "           ,inplace= True)\n",
    "missing_percent.sort_values(ascending=False, by= ['Percentage'])\n",
    "\n",
    "#This allows us to find the percentage of missing vales. \n",
    "#As we can see below, nearly 25% of customer ids are missing. -> 비회원 구매"
   ]
  },
  {
   "cell_type": "markdown",
   "metadata": {
    "id": "JSzekAzarMWh"
   },
   "source": [
    "Before cleaning our data, the dataset contained 541,909 observations. Let's start examining our null values a little closer. It seems like there are quite a few missing customer ids, nearly 25% of our customer ids are missing.\n",
    "\n",
    "데이터를 정리하기 전에 데이터 집합에 541,909 개의 관측치가 포함되었습니다. null 값을 조금 더 자세히 살펴 보겠습니다. 고객 ID가 거의없는 것처럼 보입니다. 고객 ID의 거의 25 %가 누락되었습니다."
   ]
  },
  {
   "cell_type": "code",
   "execution_count": 9,
   "metadata": {
    "id": "Vs63JxR5rMWh"
   },
   "outputs": [
    {
     "data": {
      "text/html": [
       "<div>\n",
       "<style scoped>\n",
       "    .dataframe tbody tr th:only-of-type {\n",
       "        vertical-align: middle;\n",
       "    }\n",
       "\n",
       "    .dataframe tbody tr th {\n",
       "        vertical-align: top;\n",
       "    }\n",
       "\n",
       "    .dataframe thead th {\n",
       "        text-align: right;\n",
       "    }\n",
       "</style>\n",
       "<table border=\"1\" class=\"dataframe\">\n",
       "  <thead>\n",
       "    <tr style=\"text-align: right;\">\n",
       "      <th></th>\n",
       "      <th>InvoiceNo</th>\n",
       "      <th>StockCode</th>\n",
       "      <th>Description</th>\n",
       "      <th>Quantity</th>\n",
       "      <th>InvoiceDate</th>\n",
       "      <th>UnitPrice</th>\n",
       "      <th>CustomerID</th>\n",
       "      <th>Country</th>\n",
       "      <th>id_null</th>\n",
       "    </tr>\n",
       "  </thead>\n",
       "  <tbody>\n",
       "    <tr>\n",
       "      <th>0</th>\n",
       "      <td>536365</td>\n",
       "      <td>85123A</td>\n",
       "      <td>WHITE HANGING HEART T-LIGHT HOLDER</td>\n",
       "      <td>6</td>\n",
       "      <td>2010-12-01 08:26:00</td>\n",
       "      <td>2.55</td>\n",
       "      <td>17850.0</td>\n",
       "      <td>United Kingdom</td>\n",
       "      <td>0</td>\n",
       "    </tr>\n",
       "    <tr>\n",
       "      <th>1</th>\n",
       "      <td>536365</td>\n",
       "      <td>71053</td>\n",
       "      <td>WHITE METAL LANTERN</td>\n",
       "      <td>6</td>\n",
       "      <td>2010-12-01 08:26:00</td>\n",
       "      <td>3.39</td>\n",
       "      <td>17850.0</td>\n",
       "      <td>United Kingdom</td>\n",
       "      <td>0</td>\n",
       "    </tr>\n",
       "    <tr>\n",
       "      <th>2</th>\n",
       "      <td>536365</td>\n",
       "      <td>84406B</td>\n",
       "      <td>CREAM CUPID HEARTS COAT HANGER</td>\n",
       "      <td>8</td>\n",
       "      <td>2010-12-01 08:26:00</td>\n",
       "      <td>2.75</td>\n",
       "      <td>17850.0</td>\n",
       "      <td>United Kingdom</td>\n",
       "      <td>0</td>\n",
       "    </tr>\n",
       "    <tr>\n",
       "      <th>3</th>\n",
       "      <td>536365</td>\n",
       "      <td>84029G</td>\n",
       "      <td>KNITTED UNION FLAG HOT WATER BOTTLE</td>\n",
       "      <td>6</td>\n",
       "      <td>2010-12-01 08:26:00</td>\n",
       "      <td>3.39</td>\n",
       "      <td>17850.0</td>\n",
       "      <td>United Kingdom</td>\n",
       "      <td>0</td>\n",
       "    </tr>\n",
       "    <tr>\n",
       "      <th>4</th>\n",
       "      <td>536365</td>\n",
       "      <td>84029E</td>\n",
       "      <td>RED WOOLLY HOTTIE WHITE HEART.</td>\n",
       "      <td>6</td>\n",
       "      <td>2010-12-01 08:26:00</td>\n",
       "      <td>3.39</td>\n",
       "      <td>17850.0</td>\n",
       "      <td>United Kingdom</td>\n",
       "      <td>0</td>\n",
       "    </tr>\n",
       "  </tbody>\n",
       "</table>\n",
       "</div>"
      ],
      "text/plain": [
       "  InvoiceNo StockCode                          Description  Quantity  \\\n",
       "0    536365    85123A   WHITE HANGING HEART T-LIGHT HOLDER         6   \n",
       "1    536365     71053                  WHITE METAL LANTERN         6   \n",
       "2    536365    84406B       CREAM CUPID HEARTS COAT HANGER         8   \n",
       "3    536365    84029G  KNITTED UNION FLAG HOT WATER BOTTLE         6   \n",
       "4    536365    84029E       RED WOOLLY HOTTIE WHITE HEART.         6   \n",
       "\n",
       "          InvoiceDate  UnitPrice  CustomerID         Country  id_null  \n",
       "0 2010-12-01 08:26:00       2.55     17850.0  United Kingdom        0  \n",
       "1 2010-12-01 08:26:00       3.39     17850.0  United Kingdom        0  \n",
       "2 2010-12-01 08:26:00       2.75     17850.0  United Kingdom        0  \n",
       "3 2010-12-01 08:26:00       3.39     17850.0  United Kingdom        0  \n",
       "4 2010-12-01 08:26:00       3.39     17850.0  United Kingdom        0  "
      ]
     },
     "execution_count": 9,
     "metadata": {},
     "output_type": "execute_result"
    }
   ],
   "source": [
    "# Creating a column holding information on whether customer id is null or not\n",
    "# CustomerID 가 없는 값은 id_null 이라는 컬럼을 만들어 값을 체크합니다.\n",
    "\n",
    "# 또 np.where 를 사용해서 True 는 1로 False는 0으로 변경합니다. \n",
    "# (이제까지는 loc를 이용하여 특정 조건에 따른 데이터를 가지고 왔지만 여기서는 np.where를 사용하고 있다.)\n",
    "\n",
    "df['id_null'] = np.where(df['CustomerID'].isnull(),1,0)\n",
    "df.head()"
   ]
  },
  {
   "cell_type": "code",
   "execution_count": 15,
   "metadata": {
    "id": "0H7zpCDfrMWh",
    "outputId": "30f28007-983b-486b-b8df-253fc95be65f"
   },
   "outputs": [
    {
     "data": {
      "text/html": [
       "<div>\n",
       "<style scoped>\n",
       "    .dataframe tbody tr th:only-of-type {\n",
       "        vertical-align: middle;\n",
       "    }\n",
       "\n",
       "    .dataframe tbody tr th {\n",
       "        vertical-align: top;\n",
       "    }\n",
       "\n",
       "    .dataframe thead th {\n",
       "        text-align: right;\n",
       "    }\n",
       "</style>\n",
       "<table border=\"1\" class=\"dataframe\">\n",
       "  <thead>\n",
       "    <tr style=\"text-align: right;\">\n",
       "      <th></th>\n",
       "      <th>Percentage</th>\n",
       "    </tr>\n",
       "    <tr>\n",
       "      <th>Country</th>\n",
       "      <th></th>\n",
       "    </tr>\n",
       "  </thead>\n",
       "  <tbody>\n",
       "    <tr>\n",
       "      <th>Hong Kong</th>\n",
       "      <td>100.000000</td>\n",
       "    </tr>\n",
       "    <tr>\n",
       "      <th>Unspecified</th>\n",
       "      <td>45.291480</td>\n",
       "    </tr>\n",
       "    <tr>\n",
       "      <th>United Kingdom</th>\n",
       "      <td>26.963861</td>\n",
       "    </tr>\n",
       "    <tr>\n",
       "      <th>Israel</th>\n",
       "      <td>15.824916</td>\n",
       "    </tr>\n",
       "    <tr>\n",
       "      <th>Bahrain</th>\n",
       "      <td>10.526316</td>\n",
       "    </tr>\n",
       "    <tr>\n",
       "      <th>EIRE</th>\n",
       "      <td>8.674963</td>\n",
       "    </tr>\n",
       "    <tr>\n",
       "      <th>Switzerland</th>\n",
       "      <td>6.243756</td>\n",
       "    </tr>\n",
       "    <tr>\n",
       "      <th>Portugal</th>\n",
       "      <td>2.567479</td>\n",
       "    </tr>\n",
       "    <tr>\n",
       "      <th>France</th>\n",
       "      <td>0.771298</td>\n",
       "    </tr>\n",
       "    <tr>\n",
       "      <th>Sweden</th>\n",
       "      <td>0.000000</td>\n",
       "    </tr>\n",
       "  </tbody>\n",
       "</table>\n",
       "</div>"
      ],
      "text/plain": [
       "                Percentage\n",
       "Country                   \n",
       "Hong Kong       100.000000\n",
       "Unspecified      45.291480\n",
       "United Kingdom   26.963861\n",
       "Israel           15.824916\n",
       "Bahrain          10.526316\n",
       "EIRE              8.674963\n",
       "Switzerland       6.243756\n",
       "Portugal          2.567479\n",
       "France            0.771298\n",
       "Sweden            0.000000"
      ]
     },
     "execution_count": 15,
     "metadata": {},
     "output_type": "execute_result"
    }
   ],
   "source": [
    "# Percentage of missing customer ids per country\n",
    "# 국가별로 id_null 값의 비율을 구해서 null_by_country 라는 변수에 담고 비율이 높은 순으로 정렬 합니다.\n",
    "# id_null 비율이 높은 국가 10개를 봅니다.\n",
    "\n",
    "null_by_country = df.groupby('Country')['id_null'].mean().to_frame()\n",
    "null_by_country.rename(columns={'id_null':'Percentage'}\n",
    "           ,inplace= True)\n",
    "null_by_country = null_by_country.sort_values('Percentage', ascending =False)*100\n",
    "null_by_country.head(10)\n",
    "\n",
    "# 국가별로 어느 국가가 비회원 구매가 많은지 알 수 있음\n",
    "\n",
    "# Unspecified : 국가 모름 \n",
    "# 여기서 함정에 빠지지 말아야 할것이, 홍콩이 100% 인데 1명만 구매 했는데 그 사람이 비회원으로 구매 했을 수도 있음"
   ]
  },
  {
   "cell_type": "markdown",
   "metadata": {
    "id": "3qD5-EERrMWh"
   },
   "source": [
    "Upon grouping the data by Country, we were able to find out where we had most of our missing data. Having a strategy in place to prevent these issues from happening in the furture is crucial and being able to pinpoint the areas that need attention makes things easier for developers, product managers and operations.\n",
    "\n",
    "국가별로 데이터를 그룹화하면 대부분의 누락 된 데이터가있는 위치를 찾을 수있었습니다. 이러한 문제가 미래에 발생하는 것을 방지하기위한 전략을 세우는 것이 중요하며,주의가 필요한 영역을 정확하게 파악할 수 있으면 개발자, 제품 관리자 및 운영 부서가보다 쉽게 작업 할 수 있습니다."
   ]
  },
  {
   "cell_type": "code",
   "execution_count": 16,
   "metadata": {
    "id": "tcFC0VOprMWi",
    "outputId": "6520e618-8348-4a29-84a1-321501c20735"
   },
   "outputs": [
    {
     "data": {
      "text/plain": [
       "<AxesSubplot:>"
      ]
     },
     "execution_count": 16,
     "metadata": {},
     "output_type": "execute_result"
    },
    {
     "data": {
      "image/png": "[encoded data removed]",
      "text/plain": [
       "<Figure size 864x360 with 2 Axes>"
      ]
     },
     "metadata": {
      "needs_background": "light"
     },
     "output_type": "display_data"
    }
   ],
   "source": [
    "# 결측치를 heatmap으로 시각화 합니다.\n",
    "plt.figure(figsize=(12,5))\n",
    "sns.heatmap(df.isnull(), cmap='Greys_r')"
   ]
  },
  {
   "cell_type": "markdown",
   "metadata": {
    "id": "yaG4vnNCrMWi"
   },
   "source": [
    "Seaborn's heatmap can help us visualize where most of our missing data is present. Looks like eliminating the data with missing customer ids is going to cut down a huge chunk of our dataset. \n",
    "\n",
    "\n",
    "Seaborn의 히트 맵은 대부분의 누락 된 데이터가있는 위치를 시각화하는 데 도움이됩니다. 고객 ID가 누락 된 데이터를 제거하면 데이터 세트가 크게 줄어들 것 같습니다.\n",
    "\n",
    "누락된 ID는 코호트 분석시 추정이 안되기 때문에 제거하고 분석에 들어갑니다."
   ]
  },
  {
   "cell_type": "code",
   "execution_count": 20,
   "metadata": {
    "id": "nf1TCVE1rMWi"
   },
   "outputs": [],
   "source": [
    "df = df.dropna(subset=['CustomerID'])"
   ]
  },
  {
   "cell_type": "code",
   "execution_count": 21,
   "metadata": {
    "id": "AbS2X3AirMWi",
    "outputId": "f70d340e-c64d-455b-b22f-beb973202e13"
   },
   "outputs": [
    {
     "data": {
      "text/plain": [
       "InvoiceNo      0\n",
       "StockCode      0\n",
       "Description    0\n",
       "Quantity       0\n",
       "InvoiceDate    0\n",
       "UnitPrice      0\n",
       "CustomerID     0\n",
       "Country        0\n",
       "id_null        0\n",
       "dtype: int64"
      ]
     },
     "execution_count": 21,
     "metadata": {},
     "output_type": "execute_result"
    }
   ],
   "source": [
    "df.isna().sum()"
   ]
  },
  {
   "cell_type": "code",
   "execution_count": 23,
   "metadata": {
    "id": "1z-znaEmrMWj",
    "outputId": "2dfca043-ac9f-4635-e477-9f9f1c3062f7"
   },
   "outputs": [
    {
     "name": "stdout",
     "output_type": "stream",
     "text": [
      "(406829, 9)\n"
     ]
    },
    {
     "data": {
      "text/html": [
       "<div>\n",
       "<style scoped>\n",
       "    .dataframe tbody tr th:only-of-type {\n",
       "        vertical-align: middle;\n",
       "    }\n",
       "\n",
       "    .dataframe tbody tr th {\n",
       "        vertical-align: top;\n",
       "    }\n",
       "\n",
       "    .dataframe thead th {\n",
       "        text-align: right;\n",
       "    }\n",
       "</style>\n",
       "<table border=\"1\" class=\"dataframe\">\n",
       "  <thead>\n",
       "    <tr style=\"text-align: right;\">\n",
       "      <th></th>\n",
       "      <th>Quantity</th>\n",
       "      <th>UnitPrice</th>\n",
       "      <th>CustomerID</th>\n",
       "      <th>id_null</th>\n",
       "    </tr>\n",
       "  </thead>\n",
       "  <tbody>\n",
       "    <tr>\n",
       "      <th>count</th>\n",
       "      <td>406829.000000</td>\n",
       "      <td>406829.000000</td>\n",
       "      <td>406829.000000</td>\n",
       "      <td>406829.0</td>\n",
       "    </tr>\n",
       "    <tr>\n",
       "      <th>mean</th>\n",
       "      <td>12.061303</td>\n",
       "      <td>3.460471</td>\n",
       "      <td>15287.690570</td>\n",
       "      <td>0.0</td>\n",
       "    </tr>\n",
       "    <tr>\n",
       "      <th>std</th>\n",
       "      <td>248.693370</td>\n",
       "      <td>69.315162</td>\n",
       "      <td>1713.600303</td>\n",
       "      <td>0.0</td>\n",
       "    </tr>\n",
       "    <tr>\n",
       "      <th>min</th>\n",
       "      <td>-80995.000000</td>\n",
       "      <td>0.000000</td>\n",
       "      <td>12346.000000</td>\n",
       "      <td>0.0</td>\n",
       "    </tr>\n",
       "    <tr>\n",
       "      <th>25%</th>\n",
       "      <td>2.000000</td>\n",
       "      <td>1.250000</td>\n",
       "      <td>13953.000000</td>\n",
       "      <td>0.0</td>\n",
       "    </tr>\n",
       "    <tr>\n",
       "      <th>50%</th>\n",
       "      <td>5.000000</td>\n",
       "      <td>1.950000</td>\n",
       "      <td>15152.000000</td>\n",
       "      <td>0.0</td>\n",
       "    </tr>\n",
       "    <tr>\n",
       "      <th>75%</th>\n",
       "      <td>12.000000</td>\n",
       "      <td>3.750000</td>\n",
       "      <td>16791.000000</td>\n",
       "      <td>0.0</td>\n",
       "    </tr>\n",
       "    <tr>\n",
       "      <th>max</th>\n",
       "      <td>80995.000000</td>\n",
       "      <td>38970.000000</td>\n",
       "      <td>18287.000000</td>\n",
       "      <td>0.0</td>\n",
       "    </tr>\n",
       "  </tbody>\n",
       "</table>\n",
       "</div>"
      ],
      "text/plain": [
       "            Quantity      UnitPrice     CustomerID   id_null\n",
       "count  406829.000000  406829.000000  406829.000000  406829.0\n",
       "mean       12.061303       3.460471   15287.690570       0.0\n",
       "std       248.693370      69.315162    1713.600303       0.0\n",
       "min    -80995.000000       0.000000   12346.000000       0.0\n",
       "25%         2.000000       1.250000   13953.000000       0.0\n",
       "50%         5.000000       1.950000   15152.000000       0.0\n",
       "75%        12.000000       3.750000   16791.000000       0.0\n",
       "max     80995.000000   38970.000000   18287.000000       0.0"
      ]
     },
     "execution_count": 23,
     "metadata": {},
     "output_type": "execute_result"
    }
   ],
   "source": [
    "print(df.shape)\n",
    "df.describe()"
   ]
  },
  {
   "cell_type": "markdown",
   "metadata": {
    "id": "Ghc58IyvrMWj"
   },
   "source": [
    "Now that we've removed the null values, we have a little over 400,000 observations remaining. That's nearly 20% of our data set eliminated. That's not all the cleaning we have here. from the previous table it looks like there are quite a few negative values. What could this be?\n",
    "\n",
    "이제 null 값을 제거 했으므로 400,000 개가 넘는 관측치가 남아 있습니다. 데이터 세트의 거의 20%가 제거되었습니다. 전처리가 다 된게 아닙니다. 이전 표에서 꽤 음의 값이있는 것처럼 보입니다. 이것이 무엇일까요?"
   ]
  },
  {
   "cell_type": "code",
   "execution_count": 24,
   "metadata": {
    "id": "uvj_dJQQrMWj",
    "outputId": "899db978-feed-4520-ec30-bbead3b9ff58"
   },
   "outputs": [
    {
     "data": {
      "text/html": [
       "<div>\n",
       "<style scoped>\n",
       "    .dataframe tbody tr th:only-of-type {\n",
       "        vertical-align: middle;\n",
       "    }\n",
       "\n",
       "    .dataframe tbody tr th {\n",
       "        vertical-align: top;\n",
       "    }\n",
       "\n",
       "    .dataframe thead th {\n",
       "        text-align: right;\n",
       "    }\n",
       "</style>\n",
       "<table border=\"1\" class=\"dataframe\">\n",
       "  <thead>\n",
       "    <tr style=\"text-align: right;\">\n",
       "      <th></th>\n",
       "      <th>InvoiceNo</th>\n",
       "      <th>StockCode</th>\n",
       "      <th>Description</th>\n",
       "      <th>Quantity</th>\n",
       "      <th>InvoiceDate</th>\n",
       "      <th>UnitPrice</th>\n",
       "      <th>CustomerID</th>\n",
       "      <th>Country</th>\n",
       "      <th>id_null</th>\n",
       "    </tr>\n",
       "  </thead>\n",
       "  <tbody>\n",
       "    <tr>\n",
       "      <th>141</th>\n",
       "      <td>C536379</td>\n",
       "      <td>D</td>\n",
       "      <td>Discount</td>\n",
       "      <td>-1</td>\n",
       "      <td>2010-12-01 09:41:00</td>\n",
       "      <td>27.50</td>\n",
       "      <td>14527.0</td>\n",
       "      <td>United Kingdom</td>\n",
       "      <td>0</td>\n",
       "    </tr>\n",
       "    <tr>\n",
       "      <th>154</th>\n",
       "      <td>C536383</td>\n",
       "      <td>35004C</td>\n",
       "      <td>SET OF 3 COLOURED  FLYING DUCKS</td>\n",
       "      <td>-1</td>\n",
       "      <td>2010-12-01 09:49:00</td>\n",
       "      <td>4.65</td>\n",
       "      <td>15311.0</td>\n",
       "      <td>United Kingdom</td>\n",
       "      <td>0</td>\n",
       "    </tr>\n",
       "    <tr>\n",
       "      <th>235</th>\n",
       "      <td>C536391</td>\n",
       "      <td>22556</td>\n",
       "      <td>PLASTERS IN TIN CIRCUS PARADE</td>\n",
       "      <td>-12</td>\n",
       "      <td>2010-12-01 10:24:00</td>\n",
       "      <td>1.65</td>\n",
       "      <td>17548.0</td>\n",
       "      <td>United Kingdom</td>\n",
       "      <td>0</td>\n",
       "    </tr>\n",
       "    <tr>\n",
       "      <th>236</th>\n",
       "      <td>C536391</td>\n",
       "      <td>21984</td>\n",
       "      <td>PACK OF 12 PINK PAISLEY TISSUES</td>\n",
       "      <td>-24</td>\n",
       "      <td>2010-12-01 10:24:00</td>\n",
       "      <td>0.29</td>\n",
       "      <td>17548.0</td>\n",
       "      <td>United Kingdom</td>\n",
       "      <td>0</td>\n",
       "    </tr>\n",
       "    <tr>\n",
       "      <th>237</th>\n",
       "      <td>C536391</td>\n",
       "      <td>21983</td>\n",
       "      <td>PACK OF 12 BLUE PAISLEY TISSUES</td>\n",
       "      <td>-24</td>\n",
       "      <td>2010-12-01 10:24:00</td>\n",
       "      <td>0.29</td>\n",
       "      <td>17548.0</td>\n",
       "      <td>United Kingdom</td>\n",
       "      <td>0</td>\n",
       "    </tr>\n",
       "    <tr>\n",
       "      <th>...</th>\n",
       "      <td>...</td>\n",
       "      <td>...</td>\n",
       "      <td>...</td>\n",
       "      <td>...</td>\n",
       "      <td>...</td>\n",
       "      <td>...</td>\n",
       "      <td>...</td>\n",
       "      <td>...</td>\n",
       "      <td>...</td>\n",
       "    </tr>\n",
       "    <tr>\n",
       "      <th>540449</th>\n",
       "      <td>C581490</td>\n",
       "      <td>23144</td>\n",
       "      <td>ZINC T-LIGHT HOLDER STARS SMALL</td>\n",
       "      <td>-11</td>\n",
       "      <td>2011-12-09 09:57:00</td>\n",
       "      <td>0.83</td>\n",
       "      <td>14397.0</td>\n",
       "      <td>United Kingdom</td>\n",
       "      <td>0</td>\n",
       "    </tr>\n",
       "    <tr>\n",
       "      <th>541541</th>\n",
       "      <td>C581499</td>\n",
       "      <td>M</td>\n",
       "      <td>Manual</td>\n",
       "      <td>-1</td>\n",
       "      <td>2011-12-09 10:28:00</td>\n",
       "      <td>224.69</td>\n",
       "      <td>15498.0</td>\n",
       "      <td>United Kingdom</td>\n",
       "      <td>0</td>\n",
       "    </tr>\n",
       "    <tr>\n",
       "      <th>541715</th>\n",
       "      <td>C581568</td>\n",
       "      <td>21258</td>\n",
       "      <td>VICTORIAN SEWING BOX LARGE</td>\n",
       "      <td>-5</td>\n",
       "      <td>2011-12-09 11:57:00</td>\n",
       "      <td>10.95</td>\n",
       "      <td>15311.0</td>\n",
       "      <td>United Kingdom</td>\n",
       "      <td>0</td>\n",
       "    </tr>\n",
       "    <tr>\n",
       "      <th>541716</th>\n",
       "      <td>C581569</td>\n",
       "      <td>84978</td>\n",
       "      <td>HANGING HEART JAR T-LIGHT HOLDER</td>\n",
       "      <td>-1</td>\n",
       "      <td>2011-12-09 11:58:00</td>\n",
       "      <td>1.25</td>\n",
       "      <td>17315.0</td>\n",
       "      <td>United Kingdom</td>\n",
       "      <td>0</td>\n",
       "    </tr>\n",
       "    <tr>\n",
       "      <th>541717</th>\n",
       "      <td>C581569</td>\n",
       "      <td>20979</td>\n",
       "      <td>36 PENCILS TUBE RED RETROSPOT</td>\n",
       "      <td>-5</td>\n",
       "      <td>2011-12-09 11:58:00</td>\n",
       "      <td>1.25</td>\n",
       "      <td>17315.0</td>\n",
       "      <td>United Kingdom</td>\n",
       "      <td>0</td>\n",
       "    </tr>\n",
       "  </tbody>\n",
       "</table>\n",
       "<p>8905 rows × 9 columns</p>\n",
       "</div>"
      ],
      "text/plain": [
       "       InvoiceNo StockCode                       Description  Quantity  \\\n",
       "141      C536379         D                          Discount        -1   \n",
       "154      C536383    35004C   SET OF 3 COLOURED  FLYING DUCKS        -1   \n",
       "235      C536391     22556    PLASTERS IN TIN CIRCUS PARADE        -12   \n",
       "236      C536391     21984  PACK OF 12 PINK PAISLEY TISSUES        -24   \n",
       "237      C536391     21983  PACK OF 12 BLUE PAISLEY TISSUES        -24   \n",
       "...          ...       ...                               ...       ...   \n",
       "540449   C581490     23144   ZINC T-LIGHT HOLDER STARS SMALL       -11   \n",
       "541541   C581499         M                            Manual        -1   \n",
       "541715   C581568     21258        VICTORIAN SEWING BOX LARGE        -5   \n",
       "541716   C581569     84978  HANGING HEART JAR T-LIGHT HOLDER        -1   \n",
       "541717   C581569     20979     36 PENCILS TUBE RED RETROSPOT        -5   \n",
       "\n",
       "               InvoiceDate  UnitPrice  CustomerID         Country  id_null  \n",
       "141    2010-12-01 09:41:00      27.50     14527.0  United Kingdom        0  \n",
       "154    2010-12-01 09:49:00       4.65     15311.0  United Kingdom        0  \n",
       "235    2010-12-01 10:24:00       1.65     17548.0  United Kingdom        0  \n",
       "236    2010-12-01 10:24:00       0.29     17548.0  United Kingdom        0  \n",
       "237    2010-12-01 10:24:00       0.29     17548.0  United Kingdom        0  \n",
       "...                    ...        ...         ...             ...      ...  \n",
       "540449 2011-12-09 09:57:00       0.83     14397.0  United Kingdom        0  \n",
       "541541 2011-12-09 10:28:00     224.69     15498.0  United Kingdom        0  \n",
       "541715 2011-12-09 11:57:00      10.95     15311.0  United Kingdom        0  \n",
       "541716 2011-12-09 11:58:00       1.25     17315.0  United Kingdom        0  \n",
       "541717 2011-12-09 11:58:00       1.25     17315.0  United Kingdom        0  \n",
       "\n",
       "[8905 rows x 9 columns]"
      ]
     },
     "execution_count": 24,
     "metadata": {},
     "output_type": "execute_result"
    }
   ],
   "source": [
    "df[df['Quantity'] < 0]\n",
    "\n",
    "# C => cancel된거 구나"
   ]
  },
  {
   "cell_type": "markdown",
   "metadata": {
    "id": "2FXKzwFbrMWk"
   },
   "source": [
    "Let's take one of the above customers so we can investigate a little further.\n",
    "\n",
    "좀 더 자세히 조사 할 수 있도록 위의 고객 중 하나를 살펴 보겠습니다."
   ]
  },
  {
   "cell_type": "code",
   "execution_count": 25,
   "metadata": {
    "id": "EptNsCjlrMWk",
    "outputId": "8c0afd0b-3948-409d-ccd0-e902a04d41b9"
   },
   "outputs": [
    {
     "data": {
      "text/html": [
       "<div>\n",
       "<style scoped>\n",
       "    .dataframe tbody tr th:only-of-type {\n",
       "        vertical-align: middle;\n",
       "    }\n",
       "\n",
       "    .dataframe tbody tr th {\n",
       "        vertical-align: top;\n",
       "    }\n",
       "\n",
       "    .dataframe thead th {\n",
       "        text-align: right;\n",
       "    }\n",
       "</style>\n",
       "<table border=\"1\" class=\"dataframe\">\n",
       "  <thead>\n",
       "    <tr style=\"text-align: right;\">\n",
       "      <th></th>\n",
       "      <th>InvoiceNo</th>\n",
       "      <th>StockCode</th>\n",
       "      <th>Description</th>\n",
       "      <th>Quantity</th>\n",
       "      <th>InvoiceDate</th>\n",
       "      <th>UnitPrice</th>\n",
       "      <th>CustomerID</th>\n",
       "      <th>Country</th>\n",
       "      <th>id_null</th>\n",
       "    </tr>\n",
       "  </thead>\n",
       "  <tbody>\n",
       "    <tr>\n",
       "      <th>235</th>\n",
       "      <td>C536391</td>\n",
       "      <td>22556</td>\n",
       "      <td>PLASTERS IN TIN CIRCUS PARADE</td>\n",
       "      <td>-12</td>\n",
       "      <td>2010-12-01 10:24:00</td>\n",
       "      <td>1.65</td>\n",
       "      <td>17548.0</td>\n",
       "      <td>United Kingdom</td>\n",
       "      <td>0</td>\n",
       "    </tr>\n",
       "    <tr>\n",
       "      <th>236</th>\n",
       "      <td>C536391</td>\n",
       "      <td>21984</td>\n",
       "      <td>PACK OF 12 PINK PAISLEY TISSUES</td>\n",
       "      <td>-24</td>\n",
       "      <td>2010-12-01 10:24:00</td>\n",
       "      <td>0.29</td>\n",
       "      <td>17548.0</td>\n",
       "      <td>United Kingdom</td>\n",
       "      <td>0</td>\n",
       "    </tr>\n",
       "    <tr>\n",
       "      <th>237</th>\n",
       "      <td>C536391</td>\n",
       "      <td>21983</td>\n",
       "      <td>PACK OF 12 BLUE PAISLEY TISSUES</td>\n",
       "      <td>-24</td>\n",
       "      <td>2010-12-01 10:24:00</td>\n",
       "      <td>0.29</td>\n",
       "      <td>17548.0</td>\n",
       "      <td>United Kingdom</td>\n",
       "      <td>0</td>\n",
       "    </tr>\n",
       "    <tr>\n",
       "      <th>238</th>\n",
       "      <td>C536391</td>\n",
       "      <td>21980</td>\n",
       "      <td>PACK OF 12 RED RETROSPOT TISSUES</td>\n",
       "      <td>-24</td>\n",
       "      <td>2010-12-01 10:24:00</td>\n",
       "      <td>0.29</td>\n",
       "      <td>17548.0</td>\n",
       "      <td>United Kingdom</td>\n",
       "      <td>0</td>\n",
       "    </tr>\n",
       "    <tr>\n",
       "      <th>239</th>\n",
       "      <td>C536391</td>\n",
       "      <td>21484</td>\n",
       "      <td>CHICK GREY HOT WATER BOTTLE</td>\n",
       "      <td>-12</td>\n",
       "      <td>2010-12-01 10:24:00</td>\n",
       "      <td>3.45</td>\n",
       "      <td>17548.0</td>\n",
       "      <td>United Kingdom</td>\n",
       "      <td>0</td>\n",
       "    </tr>\n",
       "    <tr>\n",
       "      <th>240</th>\n",
       "      <td>C536391</td>\n",
       "      <td>22557</td>\n",
       "      <td>PLASTERS IN TIN VINTAGE PAISLEY</td>\n",
       "      <td>-12</td>\n",
       "      <td>2010-12-01 10:24:00</td>\n",
       "      <td>1.65</td>\n",
       "      <td>17548.0</td>\n",
       "      <td>United Kingdom</td>\n",
       "      <td>0</td>\n",
       "    </tr>\n",
       "    <tr>\n",
       "      <th>241</th>\n",
       "      <td>C536391</td>\n",
       "      <td>22553</td>\n",
       "      <td>PLASTERS IN TIN SKULLS</td>\n",
       "      <td>-24</td>\n",
       "      <td>2010-12-01 10:24:00</td>\n",
       "      <td>1.65</td>\n",
       "      <td>17548.0</td>\n",
       "      <td>United Kingdom</td>\n",
       "      <td>0</td>\n",
       "    </tr>\n",
       "    <tr>\n",
       "      <th>165024</th>\n",
       "      <td>550755</td>\n",
       "      <td>22585</td>\n",
       "      <td>PACK OF 6 BIRDY GIFT TAGS</td>\n",
       "      <td>24</td>\n",
       "      <td>2011-04-20 12:01:00</td>\n",
       "      <td>1.25</td>\n",
       "      <td>17548.0</td>\n",
       "      <td>United Kingdom</td>\n",
       "      <td>0</td>\n",
       "    </tr>\n",
       "    <tr>\n",
       "      <th>165025</th>\n",
       "      <td>550755</td>\n",
       "      <td>22082</td>\n",
       "      <td>RIBBON REEL STRIPES DESIGN</td>\n",
       "      <td>10</td>\n",
       "      <td>2011-04-20 12:01:00</td>\n",
       "      <td>1.65</td>\n",
       "      <td>17548.0</td>\n",
       "      <td>United Kingdom</td>\n",
       "      <td>0</td>\n",
       "    </tr>\n",
       "    <tr>\n",
       "      <th>165026</th>\n",
       "      <td>550755</td>\n",
       "      <td>22081</td>\n",
       "      <td>RIBBON REEL FLORA + FAUNA</td>\n",
       "      <td>10</td>\n",
       "      <td>2011-04-20 12:01:00</td>\n",
       "      <td>1.65</td>\n",
       "      <td>17548.0</td>\n",
       "      <td>United Kingdom</td>\n",
       "      <td>0</td>\n",
       "    </tr>\n",
       "    <tr>\n",
       "      <th>165027</th>\n",
       "      <td>550755</td>\n",
       "      <td>22079</td>\n",
       "      <td>RIBBON REEL HEARTS DESIGN</td>\n",
       "      <td>10</td>\n",
       "      <td>2011-04-20 12:01:00</td>\n",
       "      <td>1.65</td>\n",
       "      <td>17548.0</td>\n",
       "      <td>United Kingdom</td>\n",
       "      <td>0</td>\n",
       "    </tr>\n",
       "    <tr>\n",
       "      <th>165028</th>\n",
       "      <td>550755</td>\n",
       "      <td>22926</td>\n",
       "      <td>IVORY GIANT GARDEN THERMOMETER</td>\n",
       "      <td>4</td>\n",
       "      <td>2011-04-20 12:01:00</td>\n",
       "      <td>5.95</td>\n",
       "      <td>17548.0</td>\n",
       "      <td>United Kingdom</td>\n",
       "      <td>0</td>\n",
       "    </tr>\n",
       "    <tr>\n",
       "      <th>177223</th>\n",
       "      <td>C552049</td>\n",
       "      <td>22926</td>\n",
       "      <td>IVORY GIANT GARDEN THERMOMETER</td>\n",
       "      <td>-4</td>\n",
       "      <td>2011-05-06 10:00:00</td>\n",
       "      <td>5.95</td>\n",
       "      <td>17548.0</td>\n",
       "      <td>United Kingdom</td>\n",
       "      <td>0</td>\n",
       "    </tr>\n",
       "    <tr>\n",
       "      <th>177224</th>\n",
       "      <td>C552049</td>\n",
       "      <td>22585</td>\n",
       "      <td>PACK OF 6 BIRDY GIFT TAGS</td>\n",
       "      <td>-24</td>\n",
       "      <td>2011-05-06 10:00:00</td>\n",
       "      <td>1.25</td>\n",
       "      <td>17548.0</td>\n",
       "      <td>United Kingdom</td>\n",
       "      <td>0</td>\n",
       "    </tr>\n",
       "    <tr>\n",
       "      <th>177225</th>\n",
       "      <td>C552049</td>\n",
       "      <td>22082</td>\n",
       "      <td>RIBBON REEL STRIPES DESIGN</td>\n",
       "      <td>-10</td>\n",
       "      <td>2011-05-06 10:00:00</td>\n",
       "      <td>1.65</td>\n",
       "      <td>17548.0</td>\n",
       "      <td>United Kingdom</td>\n",
       "      <td>0</td>\n",
       "    </tr>\n",
       "    <tr>\n",
       "      <th>177226</th>\n",
       "      <td>C552049</td>\n",
       "      <td>22081</td>\n",
       "      <td>RIBBON REEL FLORA + FAUNA</td>\n",
       "      <td>-10</td>\n",
       "      <td>2011-05-06 10:00:00</td>\n",
       "      <td>1.65</td>\n",
       "      <td>17548.0</td>\n",
       "      <td>United Kingdom</td>\n",
       "      <td>0</td>\n",
       "    </tr>\n",
       "    <tr>\n",
       "      <th>177227</th>\n",
       "      <td>C552049</td>\n",
       "      <td>22079</td>\n",
       "      <td>RIBBON REEL HEARTS DESIGN</td>\n",
       "      <td>-10</td>\n",
       "      <td>2011-05-06 10:00:00</td>\n",
       "      <td>1.65</td>\n",
       "      <td>17548.0</td>\n",
       "      <td>United Kingdom</td>\n",
       "      <td>0</td>\n",
       "    </tr>\n",
       "  </tbody>\n",
       "</table>\n",
       "</div>"
      ],
      "text/plain": [
       "       InvoiceNo StockCode                        Description  Quantity  \\\n",
       "235      C536391     22556     PLASTERS IN TIN CIRCUS PARADE        -12   \n",
       "236      C536391     21984   PACK OF 12 PINK PAISLEY TISSUES        -24   \n",
       "237      C536391     21983   PACK OF 12 BLUE PAISLEY TISSUES        -24   \n",
       "238      C536391     21980  PACK OF 12 RED RETROSPOT TISSUES        -24   \n",
       "239      C536391     21484        CHICK GREY HOT WATER BOTTLE       -12   \n",
       "240      C536391     22557   PLASTERS IN TIN VINTAGE PAISLEY        -12   \n",
       "241      C536391     22553             PLASTERS IN TIN SKULLS       -24   \n",
       "165024    550755     22585          PACK OF 6 BIRDY GIFT TAGS        24   \n",
       "165025    550755     22082        RIBBON REEL STRIPES DESIGN         10   \n",
       "165026    550755     22081         RIBBON REEL FLORA + FAUNA         10   \n",
       "165027    550755     22079         RIBBON REEL HEARTS DESIGN         10   \n",
       "165028    550755     22926     IVORY GIANT GARDEN THERMOMETER         4   \n",
       "177223   C552049     22926     IVORY GIANT GARDEN THERMOMETER        -4   \n",
       "177224   C552049     22585          PACK OF 6 BIRDY GIFT TAGS       -24   \n",
       "177225   C552049     22082        RIBBON REEL STRIPES DESIGN        -10   \n",
       "177226   C552049     22081         RIBBON REEL FLORA + FAUNA        -10   \n",
       "177227   C552049     22079         RIBBON REEL HEARTS DESIGN        -10   \n",
       "\n",
       "               InvoiceDate  UnitPrice  CustomerID         Country  id_null  \n",
       "235    2010-12-01 10:24:00       1.65     17548.0  United Kingdom        0  \n",
       "236    2010-12-01 10:24:00       0.29     17548.0  United Kingdom        0  \n",
       "237    2010-12-01 10:24:00       0.29     17548.0  United Kingdom        0  \n",
       "238    2010-12-01 10:24:00       0.29     17548.0  United Kingdom        0  \n",
       "239    2010-12-01 10:24:00       3.45     17548.0  United Kingdom        0  \n",
       "240    2010-12-01 10:24:00       1.65     17548.0  United Kingdom        0  \n",
       "241    2010-12-01 10:24:00       1.65     17548.0  United Kingdom        0  \n",
       "165024 2011-04-20 12:01:00       1.25     17548.0  United Kingdom        0  \n",
       "165025 2011-04-20 12:01:00       1.65     17548.0  United Kingdom        0  \n",
       "165026 2011-04-20 12:01:00       1.65     17548.0  United Kingdom        0  \n",
       "165027 2011-04-20 12:01:00       1.65     17548.0  United Kingdom        0  \n",
       "165028 2011-04-20 12:01:00       5.95     17548.0  United Kingdom        0  \n",
       "177223 2011-05-06 10:00:00       5.95     17548.0  United Kingdom        0  \n",
       "177224 2011-05-06 10:00:00       1.25     17548.0  United Kingdom        0  \n",
       "177225 2011-05-06 10:00:00       1.65     17548.0  United Kingdom        0  \n",
       "177226 2011-05-06 10:00:00       1.65     17548.0  United Kingdom        0  \n",
       "177227 2011-05-06 10:00:00       1.65     17548.0  United Kingdom        0  "
      ]
     },
     "execution_count": 25,
     "metadata": {},
     "output_type": "execute_result"
    }
   ],
   "source": [
    "df[df['CustomerID']  == 17548]"
   ]
  },
  {
   "cell_type": "markdown",
   "metadata": {
    "id": "dcabWAWurMWk"
   },
   "source": [
    "Just by observing the invoices of this customer alone, we can see that each quantity which is positive has a negative counterpart. Being an ecommerce store, this can only mean one thing. The item was either returned or cancelled. It also looks like there is a particular trend with the invoice ids of these cancelled transactions, they all seem to have a \"C\" at the start.\n",
    "\n",
    "We can't just assume that all the negative values are a result of a cancellation but for the purpose of our specific analysis, we cannot have negative values in our data set as this would lead to quite with or data modelling during the normalization stage. For that reason, we will remove all the observations with negative values. The negative values as well as the null values could use a whole different analysis as there could be trends to find, especially finding out which products were cancelled most often and why perhaps.\n",
    "\n",
    "이 고객의 송장 만 관찰하면 양의 양이 음수임을 알 수 있습니다. 전자 상거래 상점이므로 한 가지만 의미 할 수 있습니다. 상품이 반품 또는 취소되었습니다. 또한 취소 된 거래의 인보이스 ID에 특정 추세가있는 것 같습니다. 모두 시작시 \"C\"가있는 것 같습니다.\n",
    "\n",
    "모든 음수 값이 취소의 결과라고 가정 할 수는 없지만 특정 분석의 목적으로 정규화 단계에서 데이터 모델링과 함께 또는 데이터 모델링으로 이어질 수 있으므로 데이터 세트에 음수 값을 가질 수 없습니다. 이러한 이유로 음수 값을 가진 모든 관측 값을 제거합니다. 음수 값과 널 (NULL) 값은 특히 어떤 제품이 가장 자주 취소되었는지, 그리고 아마도 이유를 찾는 경향이 있기 때문에 완전히 다른 분석을 사용할 수 있습니다."
   ]
  },
  {
   "cell_type": "code",
   "execution_count": 26,
   "metadata": {
    "id": "Q3hgu8m6rMWl"
   },
   "outputs": [],
   "source": [
    "# Quantity 가 0 보다 큰 값만 df에 담습니다.\n",
    "df = df[df['Quantity'] > 0]"
   ]
  },
  {
   "cell_type": "code",
   "execution_count": 27,
   "metadata": {
    "id": "ERbh7FasrMWl"
   },
   "outputs": [],
   "source": [
    "# UnitPrice 가 0 보다 큰 값만 df에 담습니다.\n",
    "df = df[df['UnitPrice'] > 0]"
   ]
  },
  {
   "cell_type": "markdown",
   "metadata": {
    "id": "Vy9QtVLmrMWl"
   },
   "source": [
    "Getting rid of the duplicate observations is also important inorder to prevent our data from getting skewed.\n",
    "\n",
    "데이터가 왜곡되는 것을 막기 위해 중복 관측 값을 제거하는 것도 중요합니다."
   ]
  },
  {
   "cell_type": "code",
   "execution_count": 28,
   "metadata": {
    "id": "33Jxvk57rMWl"
   },
   "outputs": [
    {
     "name": "stdout",
     "output_type": "stream",
     "text": [
      "(397884, 9)\n"
     ]
    },
    {
     "data": {
      "text/plain": [
       "(392692, 9)"
      ]
     },
     "execution_count": 28,
     "metadata": {},
     "output_type": "execute_result"
    }
   ],
   "source": [
    "# drop_duplicates로 중복을 제거합니다.\n",
    "# 전체행의 모든값이 같은것을 제거\n",
    "\n",
    "print(df.shape)\n",
    "df = df.drop_duplicates()\n",
    "df.shape"
   ]
  },
  {
   "cell_type": "code",
   "execution_count": 29,
   "metadata": {
    "id": "dD3D1pSprMWm",
    "outputId": "4e74ec73-ca02-4993-fe34-eb4d71d89e11",
    "scrolled": true
   },
   "outputs": [
    {
     "data": {
      "text/html": [
       "<div>\n",
       "<style scoped>\n",
       "    .dataframe tbody tr th:only-of-type {\n",
       "        vertical-align: middle;\n",
       "    }\n",
       "\n",
       "    .dataframe tbody tr th {\n",
       "        vertical-align: top;\n",
       "    }\n",
       "\n",
       "    .dataframe thead th {\n",
       "        text-align: right;\n",
       "    }\n",
       "</style>\n",
       "<table border=\"1\" class=\"dataframe\">\n",
       "  <thead>\n",
       "    <tr style=\"text-align: right;\">\n",
       "      <th></th>\n",
       "      <th>Quantity</th>\n",
       "      <th>UnitPrice</th>\n",
       "      <th>CustomerID</th>\n",
       "      <th>id_null</th>\n",
       "    </tr>\n",
       "  </thead>\n",
       "  <tbody>\n",
       "    <tr>\n",
       "      <th>count</th>\n",
       "      <td>392692.000000</td>\n",
       "      <td>392692.000000</td>\n",
       "      <td>392692.000000</td>\n",
       "      <td>392692.0</td>\n",
       "    </tr>\n",
       "    <tr>\n",
       "      <th>mean</th>\n",
       "      <td>13.119702</td>\n",
       "      <td>3.125914</td>\n",
       "      <td>15287.843865</td>\n",
       "      <td>0.0</td>\n",
       "    </tr>\n",
       "    <tr>\n",
       "      <th>std</th>\n",
       "      <td>180.492832</td>\n",
       "      <td>22.241836</td>\n",
       "      <td>1713.539549</td>\n",
       "      <td>0.0</td>\n",
       "    </tr>\n",
       "    <tr>\n",
       "      <th>min</th>\n",
       "      <td>1.000000</td>\n",
       "      <td>0.001000</td>\n",
       "      <td>12346.000000</td>\n",
       "      <td>0.0</td>\n",
       "    </tr>\n",
       "    <tr>\n",
       "      <th>25%</th>\n",
       "      <td>2.000000</td>\n",
       "      <td>1.250000</td>\n",
       "      <td>13955.000000</td>\n",
       "      <td>0.0</td>\n",
       "    </tr>\n",
       "    <tr>\n",
       "      <th>50%</th>\n",
       "      <td>6.000000</td>\n",
       "      <td>1.950000</td>\n",
       "      <td>15150.000000</td>\n",
       "      <td>0.0</td>\n",
       "    </tr>\n",
       "    <tr>\n",
       "      <th>75%</th>\n",
       "      <td>12.000000</td>\n",
       "      <td>3.750000</td>\n",
       "      <td>16791.000000</td>\n",
       "      <td>0.0</td>\n",
       "    </tr>\n",
       "    <tr>\n",
       "      <th>max</th>\n",
       "      <td>80995.000000</td>\n",
       "      <td>8142.750000</td>\n",
       "      <td>18287.000000</td>\n",
       "      <td>0.0</td>\n",
       "    </tr>\n",
       "  </tbody>\n",
       "</table>\n",
       "</div>"
      ],
      "text/plain": [
       "            Quantity      UnitPrice     CustomerID   id_null\n",
       "count  392692.000000  392692.000000  392692.000000  392692.0\n",
       "mean       13.119702       3.125914   15287.843865       0.0\n",
       "std       180.492832      22.241836    1713.539549       0.0\n",
       "min         1.000000       0.001000   12346.000000       0.0\n",
       "25%         2.000000       1.250000   13955.000000       0.0\n",
       "50%         6.000000       1.950000   15150.000000       0.0\n",
       "75%        12.000000       3.750000   16791.000000       0.0\n",
       "max     80995.000000    8142.750000   18287.000000       0.0"
      ]
     },
     "execution_count": 29,
     "metadata": {},
     "output_type": "execute_result"
    }
   ],
   "source": [
    "df.describe()\n",
    "\n",
    "# QTY 의 min 값에 - 값이 사라진것을 확일 할 수 있음\n",
    "# UnitPrice의 표준편차도 전과 비교해서 작아적음"
   ]
  },
  {
   "cell_type": "markdown",
   "metadata": {
    "id": "TTemb0HfrMWm"
   },
   "source": [
    "# EDA\n",
    "\n",
    "Now that we've taken care of the data cleaning, we can finally do some exploratory data analysis. We can see that our data set has been cut down even further to around 392,692 observations.\n",
    "\n",
    "데이터 정리를 처리 했으므로 이제 탐색 적 데이터 분석을 수행 할 수 있습니다. 데이터 세트가 약 392,692 개의 관측치로 훨씬 더 축소되었음을 알 수 있습니다."
   ]
  },
  {
   "cell_type": "code",
   "execution_count": 30,
   "metadata": {},
   "outputs": [
    {
     "data": {
      "text/html": [
       "<div>\n",
       "<style scoped>\n",
       "    .dataframe tbody tr th:only-of-type {\n",
       "        vertical-align: middle;\n",
       "    }\n",
       "\n",
       "    .dataframe tbody tr th {\n",
       "        vertical-align: top;\n",
       "    }\n",
       "\n",
       "    .dataframe thead th {\n",
       "        text-align: right;\n",
       "    }\n",
       "</style>\n",
       "<table border=\"1\" class=\"dataframe\">\n",
       "  <thead>\n",
       "    <tr style=\"text-align: right;\">\n",
       "      <th></th>\n",
       "      <th>InvoiceNo</th>\n",
       "      <th>StockCode</th>\n",
       "      <th>Description</th>\n",
       "      <th>Quantity</th>\n",
       "      <th>InvoiceDate</th>\n",
       "      <th>UnitPrice</th>\n",
       "      <th>CustomerID</th>\n",
       "      <th>Country</th>\n",
       "      <th>id_null</th>\n",
       "    </tr>\n",
       "  </thead>\n",
       "  <tbody>\n",
       "    <tr>\n",
       "      <th>0</th>\n",
       "      <td>536365</td>\n",
       "      <td>85123A</td>\n",
       "      <td>WHITE HANGING HEART T-LIGHT HOLDER</td>\n",
       "      <td>6</td>\n",
       "      <td>2010-12-01 08:26:00</td>\n",
       "      <td>2.55</td>\n",
       "      <td>17850.0</td>\n",
       "      <td>United Kingdom</td>\n",
       "      <td>0</td>\n",
       "    </tr>\n",
       "  </tbody>\n",
       "</table>\n",
       "</div>"
      ],
      "text/plain": [
       "  InvoiceNo StockCode                         Description  Quantity  \\\n",
       "0    536365    85123A  WHITE HANGING HEART T-LIGHT HOLDER         6   \n",
       "\n",
       "          InvoiceDate  UnitPrice  CustomerID         Country  id_null  \n",
       "0 2010-12-01 08:26:00       2.55     17850.0  United Kingdom        0  "
      ]
     },
     "execution_count": 30,
     "metadata": {},
     "output_type": "execute_result"
    }
   ],
   "source": [
    "df.head(1)"
   ]
  },
  {
   "cell_type": "code",
   "execution_count": 31,
   "metadata": {
    "id": "NmU0rtqVrMWo"
   },
   "outputs": [],
   "source": [
    "# Quantity와 UnitPrice를 곱해서 TotalCost 값을 만듭니다.\n",
    "df['TotalCost']= df['Quantity']*df['UnitPrice']"
   ]
  },
  {
   "cell_type": "markdown",
   "metadata": {
    "id": "fAHqYxagrMWo"
   },
   "source": [
    "There was no total cost of purchase column, something which is the basis of our analysis. I've as a result created a column where we simply multiply the Quantity with the UnitPrice.\n",
    "\n",
    "총 구매 비용 열이 없었으며 수량에 단가를 곱하는 열을 만들었습니다."
   ]
  },
  {
   "cell_type": "code",
   "execution_count": 32,
   "metadata": {
    "id": "mqqx0950rMWp",
    "outputId": "223a0c05-0a11-48d9-d1fc-4e1ed291f3c9",
    "scrolled": true
   },
   "outputs": [
    {
     "data": {
      "text/html": [
       "<div>\n",
       "<style scoped>\n",
       "    .dataframe tbody tr th:only-of-type {\n",
       "        vertical-align: middle;\n",
       "    }\n",
       "\n",
       "    .dataframe tbody tr th {\n",
       "        vertical-align: top;\n",
       "    }\n",
       "\n",
       "    .dataframe thead th {\n",
       "        text-align: right;\n",
       "    }\n",
       "</style>\n",
       "<table border=\"1\" class=\"dataframe\">\n",
       "  <thead>\n",
       "    <tr style=\"text-align: right;\">\n",
       "      <th></th>\n",
       "      <th>InvoiceNo</th>\n",
       "      <th>StockCode</th>\n",
       "      <th>Description</th>\n",
       "      <th>Quantity</th>\n",
       "      <th>InvoiceDate</th>\n",
       "      <th>UnitPrice</th>\n",
       "      <th>CustomerID</th>\n",
       "      <th>Country</th>\n",
       "      <th>id_null</th>\n",
       "      <th>TotalCost</th>\n",
       "    </tr>\n",
       "  </thead>\n",
       "  <tbody>\n",
       "    <tr>\n",
       "      <th>0</th>\n",
       "      <td>536365</td>\n",
       "      <td>85123A</td>\n",
       "      <td>WHITE HANGING HEART T-LIGHT HOLDER</td>\n",
       "      <td>6</td>\n",
       "      <td>2010-12-01 08:26:00</td>\n",
       "      <td>2.55</td>\n",
       "      <td>17850.0</td>\n",
       "      <td>United Kingdom</td>\n",
       "      <td>0</td>\n",
       "      <td>15.30</td>\n",
       "    </tr>\n",
       "    <tr>\n",
       "      <th>1</th>\n",
       "      <td>536365</td>\n",
       "      <td>71053</td>\n",
       "      <td>WHITE METAL LANTERN</td>\n",
       "      <td>6</td>\n",
       "      <td>2010-12-01 08:26:00</td>\n",
       "      <td>3.39</td>\n",
       "      <td>17850.0</td>\n",
       "      <td>United Kingdom</td>\n",
       "      <td>0</td>\n",
       "      <td>20.34</td>\n",
       "    </tr>\n",
       "    <tr>\n",
       "      <th>2</th>\n",
       "      <td>536365</td>\n",
       "      <td>84406B</td>\n",
       "      <td>CREAM CUPID HEARTS COAT HANGER</td>\n",
       "      <td>8</td>\n",
       "      <td>2010-12-01 08:26:00</td>\n",
       "      <td>2.75</td>\n",
       "      <td>17850.0</td>\n",
       "      <td>United Kingdom</td>\n",
       "      <td>0</td>\n",
       "      <td>22.00</td>\n",
       "    </tr>\n",
       "  </tbody>\n",
       "</table>\n",
       "</div>"
      ],
      "text/plain": [
       "  InvoiceNo StockCode                         Description  Quantity  \\\n",
       "0    536365    85123A  WHITE HANGING HEART T-LIGHT HOLDER         6   \n",
       "1    536365     71053                 WHITE METAL LANTERN         6   \n",
       "2    536365    84406B      CREAM CUPID HEARTS COAT HANGER         8   \n",
       "\n",
       "          InvoiceDate  UnitPrice  CustomerID         Country  id_null  \\\n",
       "0 2010-12-01 08:26:00       2.55     17850.0  United Kingdom        0   \n",
       "1 2010-12-01 08:26:00       3.39     17850.0  United Kingdom        0   \n",
       "2 2010-12-01 08:26:00       2.75     17850.0  United Kingdom        0   \n",
       "\n",
       "   TotalCost  \n",
       "0      15.30  \n",
       "1      20.34  \n",
       "2      22.00  "
      ]
     },
     "execution_count": 32,
     "metadata": {},
     "output_type": "execute_result"
    }
   ],
   "source": [
    "df.head(3)"
   ]
  },
  {
   "cell_type": "code",
   "execution_count": 33,
   "metadata": {},
   "outputs": [
    {
     "data": {
      "text/html": [
       "<div>\n",
       "<style scoped>\n",
       "    .dataframe tbody tr th:only-of-type {\n",
       "        vertical-align: middle;\n",
       "    }\n",
       "\n",
       "    .dataframe tbody tr th {\n",
       "        vertical-align: top;\n",
       "    }\n",
       "\n",
       "    .dataframe thead th {\n",
       "        text-align: right;\n",
       "    }\n",
       "</style>\n",
       "<table border=\"1\" class=\"dataframe\">\n",
       "  <thead>\n",
       "    <tr style=\"text-align: right;\">\n",
       "      <th></th>\n",
       "      <th>Quantity</th>\n",
       "      <th>UnitPrice</th>\n",
       "      <th>CustomerID</th>\n",
       "      <th>id_null</th>\n",
       "      <th>TotalCost</th>\n",
       "    </tr>\n",
       "  </thead>\n",
       "  <tbody>\n",
       "    <tr>\n",
       "      <th>count</th>\n",
       "      <td>392692.000000</td>\n",
       "      <td>392692.000000</td>\n",
       "      <td>392692.000000</td>\n",
       "      <td>392692.0</td>\n",
       "      <td>392692.000000</td>\n",
       "    </tr>\n",
       "    <tr>\n",
       "      <th>mean</th>\n",
       "      <td>13.119702</td>\n",
       "      <td>3.125914</td>\n",
       "      <td>15287.843865</td>\n",
       "      <td>0.0</td>\n",
       "      <td>22.631500</td>\n",
       "    </tr>\n",
       "    <tr>\n",
       "      <th>std</th>\n",
       "      <td>180.492832</td>\n",
       "      <td>22.241836</td>\n",
       "      <td>1713.539549</td>\n",
       "      <td>0.0</td>\n",
       "      <td>311.099224</td>\n",
       "    </tr>\n",
       "    <tr>\n",
       "      <th>min</th>\n",
       "      <td>1.000000</td>\n",
       "      <td>0.001000</td>\n",
       "      <td>12346.000000</td>\n",
       "      <td>0.0</td>\n",
       "      <td>0.001000</td>\n",
       "    </tr>\n",
       "    <tr>\n",
       "      <th>25%</th>\n",
       "      <td>2.000000</td>\n",
       "      <td>1.250000</td>\n",
       "      <td>13955.000000</td>\n",
       "      <td>0.0</td>\n",
       "      <td>4.950000</td>\n",
       "    </tr>\n",
       "    <tr>\n",
       "      <th>50%</th>\n",
       "      <td>6.000000</td>\n",
       "      <td>1.950000</td>\n",
       "      <td>15150.000000</td>\n",
       "      <td>0.0</td>\n",
       "      <td>12.450000</td>\n",
       "    </tr>\n",
       "    <tr>\n",
       "      <th>75%</th>\n",
       "      <td>12.000000</td>\n",
       "      <td>3.750000</td>\n",
       "      <td>16791.000000</td>\n",
       "      <td>0.0</td>\n",
       "      <td>19.800000</td>\n",
       "    </tr>\n",
       "    <tr>\n",
       "      <th>max</th>\n",
       "      <td>80995.000000</td>\n",
       "      <td>8142.750000</td>\n",
       "      <td>18287.000000</td>\n",
       "      <td>0.0</td>\n",
       "      <td>168469.600000</td>\n",
       "    </tr>\n",
       "  </tbody>\n",
       "</table>\n",
       "</div>"
      ],
      "text/plain": [
       "            Quantity      UnitPrice     CustomerID   id_null      TotalCost\n",
       "count  392692.000000  392692.000000  392692.000000  392692.0  392692.000000\n",
       "mean       13.119702       3.125914   15287.843865       0.0      22.631500\n",
       "std       180.492832      22.241836    1713.539549       0.0     311.099224\n",
       "min         1.000000       0.001000   12346.000000       0.0       0.001000\n",
       "25%         2.000000       1.250000   13955.000000       0.0       4.950000\n",
       "50%         6.000000       1.950000   15150.000000       0.0      12.450000\n",
       "75%        12.000000       3.750000   16791.000000       0.0      19.800000\n",
       "max     80995.000000    8142.750000   18287.000000       0.0  168469.600000"
      ]
     },
     "execution_count": 33,
     "metadata": {},
     "output_type": "execute_result"
    }
   ],
   "source": [
    "df.describe()\n",
    "\n",
    "# TotalCost의 75% 값은 19.8 인데 max값이 엄청 크네? 이상치 일 수 있으니 확인해 보자"
   ]
  },
  {
   "cell_type": "code",
   "execution_count": 34,
   "metadata": {
    "id": "-Cqg81-prMWp",
    "outputId": "32825828-2a18-4668-a949-ad1c3f3ff268"
   },
   "outputs": [
    {
     "data": {
      "text/html": [
       "<div>\n",
       "<style scoped>\n",
       "    .dataframe tbody tr th:only-of-type {\n",
       "        vertical-align: middle;\n",
       "    }\n",
       "\n",
       "    .dataframe tbody tr th {\n",
       "        vertical-align: top;\n",
       "    }\n",
       "\n",
       "    .dataframe thead th {\n",
       "        text-align: right;\n",
       "    }\n",
       "</style>\n",
       "<table border=\"1\" class=\"dataframe\">\n",
       "  <thead>\n",
       "    <tr style=\"text-align: right;\">\n",
       "      <th></th>\n",
       "      <th>InvoiceNo</th>\n",
       "      <th>StockCode</th>\n",
       "      <th>Description</th>\n",
       "      <th>Quantity</th>\n",
       "      <th>InvoiceDate</th>\n",
       "      <th>UnitPrice</th>\n",
       "      <th>CustomerID</th>\n",
       "      <th>Country</th>\n",
       "      <th>id_null</th>\n",
       "      <th>TotalCost</th>\n",
       "    </tr>\n",
       "  </thead>\n",
       "  <tbody>\n",
       "    <tr>\n",
       "      <th>540421</th>\n",
       "      <td>581483</td>\n",
       "      <td>23843</td>\n",
       "      <td>PAPER CRAFT , LITTLE BIRDIE</td>\n",
       "      <td>80995</td>\n",
       "      <td>2011-12-09 09:15:00</td>\n",
       "      <td>2.08</td>\n",
       "      <td>16446.0</td>\n",
       "      <td>United Kingdom</td>\n",
       "      <td>0</td>\n",
       "      <td>168469.6</td>\n",
       "    </tr>\n",
       "  </tbody>\n",
       "</table>\n",
       "</div>"
      ],
      "text/plain": [
       "       InvoiceNo StockCode                  Description  Quantity  \\\n",
       "540421    581483     23843  PAPER CRAFT , LITTLE BIRDIE     80995   \n",
       "\n",
       "               InvoiceDate  UnitPrice  CustomerID         Country  id_null  \\\n",
       "540421 2011-12-09 09:15:00       2.08     16446.0  United Kingdom        0   \n",
       "\n",
       "        TotalCost  \n",
       "540421   168469.6  "
      ]
     },
     "execution_count": 34,
     "metadata": {},
     "output_type": "execute_result"
    }
   ],
   "source": [
    "# 단체구매건일 가능성이 큼\n",
    "# 분석값 정확도에 영향을 줄 수 있음으로 이값은 제거하자. \n",
    "df[df['TotalCost'] > 160000]"
   ]
  },
  {
   "cell_type": "markdown",
   "metadata": {
    "id": "6bAqkRJrrMWp"
   },
   "source": [
    "During our preliminary analysis, we noticed that there was an outlier in our data set that had made a pretty substantial purchase. Although there are quite a few outliers in our data set, the issue with this values is that this was a cancelled order. For the sake of our Cohort Analysis as well as clustering to be performed later on, it would be in our best interest to eliminate this value as it doesn't add any values to our analysis and tends to mislead us.\n",
    "\n",
    "예비 분석 과정에서 데이터 세트에 상당히 많은 구매가 이루어진 특이 치가 있음을 알았습니다. 데이터 세트에는 꽤 많은 특이 치가 있지만이 값의 문제는 주문이 취소되었다는 것입니다. 코호트 분석 및 클러스터링을 위해 나중에 수행하려면 분석에 값을 추가하지 않고 오해하는 경향이 있으므로이 값을 제거하는 것이 가장 좋습니다."
   ]
  },
  {
   "cell_type": "code",
   "execution_count": 35,
   "metadata": {
    "id": "bTnTlntvrMWp"
   },
   "outputs": [
    {
     "data": {
      "text/plain": [
       "(392691, 10)"
      ]
     },
     "execution_count": 35,
     "metadata": {},
     "output_type": "execute_result"
    }
   ],
   "source": [
    "# TotalCost 가 160000 보다 작은 값만 df 에 담습니다.\n",
    "df = df[df['TotalCost'] < 160000].copy()\n",
    "df.shape"
   ]
  },
  {
   "cell_type": "markdown",
   "metadata": {
    "id": "uIKlc3K8rMWp"
   },
   "source": [
    "## **Most purchased products**"
   ]
  },
  {
   "cell_type": "markdown",
   "metadata": {
    "id": "kXpm2TD1rMWq"
   },
   "source": [
    "Let's find out which products sold best with our customers. This can help us keep track of demand, helping us make sure that we are stocked up and ready to provide the best service.\n",
    "\n",
    "어떤 제품이 고객에게 가장 잘 팔렸는지 알아 봅시다. 이를 통해 수요를 추적하고 최상의 서비스를 제공 할 준비가되었는지 확인할 수 있습니다."
   ]
  },
  {
   "cell_type": "code",
   "execution_count": 40,
   "metadata": {},
   "outputs": [
    {
     "data": {
      "text/plain": [
       "85123A    2023\n",
       "22423     1713\n",
       "85099B    1615\n",
       "84879     1395\n",
       "47566     1389\n",
       "          ... \n",
       "90033        1\n",
       "47579        1\n",
       "22218        1\n",
       "90028        1\n",
       "90048        1\n",
       "Name: StockCode, Length: 3664, dtype: int64"
      ]
     },
     "execution_count": 40,
     "metadata": {},
     "output_type": "execute_result"
    }
   ],
   "source": [
    "df['StockCode'].value_counts()"
   ]
  },
  {
   "cell_type": "code",
   "execution_count": 38,
   "metadata": {
    "scrolled": true
   },
   "outputs": [
    {
     "data": {
      "text/plain": [
       "WHITE HANGING HEART T-LIGHT HOLDER     2016\n",
       "REGENCY CAKESTAND 3 TIER               1713\n",
       "JUMBO BAG RED RETROSPOT                1615\n",
       "ASSORTED COLOUR BIRD ORNAMENT          1395\n",
       "PARTY BUNTING                          1389\n",
       "                                       ... \n",
       "LETTER \"T\" BLING KEY RING                 1\n",
       "SILVER BOOK MARK WITH BEADS               1\n",
       "FLOWER GLASS GARLD NECKL36\"TURQUOIS       1\n",
       "BLACK 3 BEAD DROP EARRINGS                1\n",
       "HEN HOUSE W CHICK IN NEST                 1\n",
       "Name: Description, Length: 3876, dtype: int64"
      ]
     },
     "execution_count": 38,
     "metadata": {},
     "output_type": "execute_result"
    }
   ],
   "source": [
    "df['Description'].value_counts()"
   ]
  },
  {
   "cell_type": "code",
   "execution_count": 36,
   "metadata": {
    "id": "-RCZXmqHrMWq",
    "outputId": "caa2b20a-e886-4987-c635-e4f9cb9bbcdf",
    "scrolled": true
   },
   "outputs": [
    {
     "data": {
      "image/png": "[encoded data removed]",
      "text/plain": [
       "<Figure size 1728x648 with 1 Axes>"
      ]
     },
     "metadata": {
      "needs_background": "light"
     },
     "output_type": "display_data"
    }
   ],
   "source": [
    "most_purchased_prods = pd.DataFrame(df['Description'].value_counts().head(20))\n",
    "most_purchased_prods = most_purchased_prods.rename(columns={'Description':'Count'})\n",
    "\n",
    "\n",
    "plt.figure(figsize=(24,9))\n",
    "plt.xticks(rotation=45)\n",
    "plt.plot(most_purchased_prods, 'ro-') #'ro-':( r : color red / 0 : 점으로 표현하는 마커 / - : 선종류 )\n",
    "plt.grid()\n",
    "\n",
    "# 롱테일 형태구나! "
   ]
  },
  {
   "cell_type": "code",
   "execution_count": 37,
   "metadata": {},
   "outputs": [
    {
     "data": {
      "text/plain": [
       "<AxesSubplot:>"
      ]
     },
     "execution_count": 37,
     "metadata": {},
     "output_type": "execute_result"
    },
    {
     "data": {
      "image/png": "[encoded data removed]",
      "text/plain": [
       "<Figure size 720x360 with 1 Axes>"
      ]
     },
     "metadata": {
      "needs_background": "light"
     },
     "output_type": "display_data"
    }
   ],
   "source": [
    "most_purchased_prods.sort_values('Count').plot.barh(figsize =(10,5))"
   ]
  },
  {
   "cell_type": "markdown",
   "metadata": {
    "id": "P4sk4NAZrMWq"
   },
   "source": [
    "## **Country with the most purchases**"
   ]
  },
  {
   "cell_type": "markdown",
   "metadata": {
    "id": "ArN8SVvJrMWq"
   },
   "source": [
    "From the chart below, we can see that majority of our sales come from the United Kingdom.\n",
    "\n",
    "This doesn’t tell the whole story though. We would also like to do some more exploration on the other countries and find out which ones are doing well.\n",
    "\n",
    "아래 차트에서 판매의 대부분이 영국에서 나온 것을 볼 수 있습니다.\n",
    "\n",
    "그러나 이것은 전체 이야기를 알려주지는 않습니다. 우리는 또한 다른 나라들에 대해 더 많은 탐구를하고 어떤 나라들이 잘하고 있는지 알아 내고 싶습니다."
   ]
  },
  {
   "cell_type": "code",
   "execution_count": 41,
   "metadata": {
    "id": "6R-wvxl1rMWq",
    "outputId": "7273bc7c-90f2-415c-ab47-0652fd71d719"
   },
   "outputs": [
    {
     "data": {
      "image/png": "[encoded data removed]",
      "text/plain": [
       "<Figure size 1728x648 with 1 Axes>"
      ]
     },
     "metadata": {
      "needs_background": "light"
     },
     "output_type": "display_data"
    }
   ],
   "source": [
    "most_purchased_bycountry = pd.DataFrame(df['Country'].value_counts().head(20)).rename(columns={'Country':'Count'})\n",
    "\n",
    "plt.figure(figsize=(24,9))\n",
    "plt.xticks(rotation=45)\n",
    "plt.plot(most_purchased_bycountry, 'g*-')\n",
    "plt.grid()\n",
    "\n",
    "# 영국에 있는 온라인 몰이기 때문에 영국에서 가장 많이 판매됨\n",
    "# 영국과 다른나라들과의 스케일 차이가 많이 나기 때문에 영국만 빼고 봐보자."
   ]
  },
  {
   "cell_type": "markdown",
   "metadata": {
    "id": "wcZi0ASNrMWr"
   },
   "source": [
    "We now have a much clearer view of what’s going on with the other countries from the chart below. \n",
    "\n",
    "It seems that Ireland, France, Germany are doing quite well in terms of total purchases. Perhaps further investment in these countries should be considered or setting up shop in these locations can help reduce shipping costs and drive up sales.\n",
    "\n",
    "이제 아래 차트에서 다른 국가와 진행 상황을 훨씬 명확하게 확인할 수 있습니다.\n",
    "\n",
    "아일랜드, 프랑스, 독일은 총 구매 측면에서 꽤 잘하고있는 것 같습니다. 아마도 이들 국가에 대한 추가 투자를 고려하거나이 지역에 매장을 설립하면 운송 비용을 줄이고 판매를 촉진 할 수 있습니다."
   ]
  },
  {
   "cell_type": "code",
   "execution_count": 42,
   "metadata": {
    "id": "8x66N78ErMWr",
    "outputId": "a9af6264-b466-4829-de26-0d42fd0b9e49"
   },
   "outputs": [
    {
     "data": {
      "image/png": "[encoded data removed]",
      "text/plain": [
       "<Figure size 1728x648 with 1 Axes>"
      ]
     },
     "metadata": {
      "needs_background": "light"
     },
     "output_type": "display_data"
    }
   ],
   "source": [
    "nonuk_df = df[df['Country'] != 'United Kingdom']\n",
    "most_purchased_bycountry_nonuk = pd.DataFrame(nonuk_df['Country'].value_counts().head(20)).rename(columns={'Country':'Count'})\n",
    "\n",
    "plt.figure(figsize=(24,9))\n",
    "plt.xticks(rotation=45)\n",
    "plt.plot(most_purchased_bycountry_nonuk, 'go-')\n",
    "plt.grid()"
   ]
  },
  {
   "cell_type": "markdown",
   "metadata": {
    "id": "cFXdbTdPrMWr"
   },
   "source": [
    "It makes sense that United Kingdom is the most popular amongst our customers as most of our operations are based in the UK."
   ]
  },
  {
   "cell_type": "markdown",
   "metadata": {
    "id": "7xdkOwj6rMWs"
   },
   "source": [
    "## **Country-wise Revenue**"
   ]
  },
  {
   "cell_type": "code",
   "execution_count": 43,
   "metadata": {
    "id": "pMAdH8ZUrMWs"
   },
   "outputs": [
    {
     "data": {
      "text/html": [
       "<div>\n",
       "<style scoped>\n",
       "    .dataframe tbody tr th:only-of-type {\n",
       "        vertical-align: middle;\n",
       "    }\n",
       "\n",
       "    .dataframe tbody tr th {\n",
       "        vertical-align: top;\n",
       "    }\n",
       "\n",
       "    .dataframe thead th {\n",
       "        text-align: right;\n",
       "    }\n",
       "</style>\n",
       "<table border=\"1\" class=\"dataframe\">\n",
       "  <thead>\n",
       "    <tr style=\"text-align: right;\">\n",
       "      <th></th>\n",
       "      <th>InvoiceNo</th>\n",
       "      <th>StockCode</th>\n",
       "      <th>Description</th>\n",
       "      <th>Quantity</th>\n",
       "      <th>InvoiceDate</th>\n",
       "      <th>UnitPrice</th>\n",
       "      <th>CustomerID</th>\n",
       "      <th>Country</th>\n",
       "      <th>TotalCost</th>\n",
       "    </tr>\n",
       "  </thead>\n",
       "  <tbody>\n",
       "    <tr>\n",
       "      <th>0</th>\n",
       "      <td>536365</td>\n",
       "      <td>85123A</td>\n",
       "      <td>WHITE HANGING HEART T-LIGHT HOLDER</td>\n",
       "      <td>6</td>\n",
       "      <td>2010-12-01 08:26:00</td>\n",
       "      <td>2.55</td>\n",
       "      <td>17850.0</td>\n",
       "      <td>United Kingdom</td>\n",
       "      <td>15.30</td>\n",
       "    </tr>\n",
       "    <tr>\n",
       "      <th>1</th>\n",
       "      <td>536365</td>\n",
       "      <td>71053</td>\n",
       "      <td>WHITE METAL LANTERN</td>\n",
       "      <td>6</td>\n",
       "      <td>2010-12-01 08:26:00</td>\n",
       "      <td>3.39</td>\n",
       "      <td>17850.0</td>\n",
       "      <td>United Kingdom</td>\n",
       "      <td>20.34</td>\n",
       "    </tr>\n",
       "    <tr>\n",
       "      <th>2</th>\n",
       "      <td>536365</td>\n",
       "      <td>84406B</td>\n",
       "      <td>CREAM CUPID HEARTS COAT HANGER</td>\n",
       "      <td>8</td>\n",
       "      <td>2010-12-01 08:26:00</td>\n",
       "      <td>2.75</td>\n",
       "      <td>17850.0</td>\n",
       "      <td>United Kingdom</td>\n",
       "      <td>22.00</td>\n",
       "    </tr>\n",
       "    <tr>\n",
       "      <th>3</th>\n",
       "      <td>536365</td>\n",
       "      <td>84029G</td>\n",
       "      <td>KNITTED UNION FLAG HOT WATER BOTTLE</td>\n",
       "      <td>6</td>\n",
       "      <td>2010-12-01 08:26:00</td>\n",
       "      <td>3.39</td>\n",
       "      <td>17850.0</td>\n",
       "      <td>United Kingdom</td>\n",
       "      <td>20.34</td>\n",
       "    </tr>\n",
       "    <tr>\n",
       "      <th>4</th>\n",
       "      <td>536365</td>\n",
       "      <td>84029E</td>\n",
       "      <td>RED WOOLLY HOTTIE WHITE HEART.</td>\n",
       "      <td>6</td>\n",
       "      <td>2010-12-01 08:26:00</td>\n",
       "      <td>3.39</td>\n",
       "      <td>17850.0</td>\n",
       "      <td>United Kingdom</td>\n",
       "      <td>20.34</td>\n",
       "    </tr>\n",
       "    <tr>\n",
       "      <th>...</th>\n",
       "      <td>...</td>\n",
       "      <td>...</td>\n",
       "      <td>...</td>\n",
       "      <td>...</td>\n",
       "      <td>...</td>\n",
       "      <td>...</td>\n",
       "      <td>...</td>\n",
       "      <td>...</td>\n",
       "      <td>...</td>\n",
       "    </tr>\n",
       "    <tr>\n",
       "      <th>541904</th>\n",
       "      <td>581587</td>\n",
       "      <td>22613</td>\n",
       "      <td>PACK OF 20 SPACEBOY NAPKINS</td>\n",
       "      <td>12</td>\n",
       "      <td>2011-12-09 12:50:00</td>\n",
       "      <td>0.85</td>\n",
       "      <td>12680.0</td>\n",
       "      <td>France</td>\n",
       "      <td>10.20</td>\n",
       "    </tr>\n",
       "    <tr>\n",
       "      <th>541905</th>\n",
       "      <td>581587</td>\n",
       "      <td>22899</td>\n",
       "      <td>CHILDREN'S APRON DOLLY GIRL</td>\n",
       "      <td>6</td>\n",
       "      <td>2011-12-09 12:50:00</td>\n",
       "      <td>2.10</td>\n",
       "      <td>12680.0</td>\n",
       "      <td>France</td>\n",
       "      <td>12.60</td>\n",
       "    </tr>\n",
       "    <tr>\n",
       "      <th>541906</th>\n",
       "      <td>581587</td>\n",
       "      <td>23254</td>\n",
       "      <td>CHILDRENS CUTLERY DOLLY GIRL</td>\n",
       "      <td>4</td>\n",
       "      <td>2011-12-09 12:50:00</td>\n",
       "      <td>4.15</td>\n",
       "      <td>12680.0</td>\n",
       "      <td>France</td>\n",
       "      <td>16.60</td>\n",
       "    </tr>\n",
       "    <tr>\n",
       "      <th>541907</th>\n",
       "      <td>581587</td>\n",
       "      <td>23255</td>\n",
       "      <td>CHILDRENS CUTLERY CIRCUS PARADE</td>\n",
       "      <td>4</td>\n",
       "      <td>2011-12-09 12:50:00</td>\n",
       "      <td>4.15</td>\n",
       "      <td>12680.0</td>\n",
       "      <td>France</td>\n",
       "      <td>16.60</td>\n",
       "    </tr>\n",
       "    <tr>\n",
       "      <th>541908</th>\n",
       "      <td>581587</td>\n",
       "      <td>22138</td>\n",
       "      <td>BAKING SET 9 PIECE RETROSPOT</td>\n",
       "      <td>3</td>\n",
       "      <td>2011-12-09 12:50:00</td>\n",
       "      <td>4.95</td>\n",
       "      <td>12680.0</td>\n",
       "      <td>France</td>\n",
       "      <td>14.85</td>\n",
       "    </tr>\n",
       "  </tbody>\n",
       "</table>\n",
       "<p>392691 rows × 9 columns</p>\n",
       "</div>"
      ],
      "text/plain": [
       "       InvoiceNo StockCode                          Description  Quantity  \\\n",
       "0         536365    85123A   WHITE HANGING HEART T-LIGHT HOLDER         6   \n",
       "1         536365     71053                  WHITE METAL LANTERN         6   \n",
       "2         536365    84406B       CREAM CUPID HEARTS COAT HANGER         8   \n",
       "3         536365    84029G  KNITTED UNION FLAG HOT WATER BOTTLE         6   \n",
       "4         536365    84029E       RED WOOLLY HOTTIE WHITE HEART.         6   \n",
       "...          ...       ...                                  ...       ...   \n",
       "541904    581587     22613          PACK OF 20 SPACEBOY NAPKINS        12   \n",
       "541905    581587     22899         CHILDREN'S APRON DOLLY GIRL          6   \n",
       "541906    581587     23254        CHILDRENS CUTLERY DOLLY GIRL          4   \n",
       "541907    581587     23255      CHILDRENS CUTLERY CIRCUS PARADE         4   \n",
       "541908    581587     22138        BAKING SET 9 PIECE RETROSPOT          3   \n",
       "\n",
       "               InvoiceDate  UnitPrice  CustomerID         Country  TotalCost  \n",
       "0      2010-12-01 08:26:00       2.55     17850.0  United Kingdom      15.30  \n",
       "1      2010-12-01 08:26:00       3.39     17850.0  United Kingdom      20.34  \n",
       "2      2010-12-01 08:26:00       2.75     17850.0  United Kingdom      22.00  \n",
       "3      2010-12-01 08:26:00       3.39     17850.0  United Kingdom      20.34  \n",
       "4      2010-12-01 08:26:00       3.39     17850.0  United Kingdom      20.34  \n",
       "...                    ...        ...         ...             ...        ...  \n",
       "541904 2011-12-09 12:50:00       0.85     12680.0          France      10.20  \n",
       "541905 2011-12-09 12:50:00       2.10     12680.0          France      12.60  \n",
       "541906 2011-12-09 12:50:00       4.15     12680.0          France      16.60  \n",
       "541907 2011-12-09 12:50:00       4.15     12680.0          France      16.60  \n",
       "541908 2011-12-09 12:50:00       4.95     12680.0          France      14.85  \n",
       "\n",
       "[392691 rows x 9 columns]"
      ]
     },
     "execution_count": 43,
     "metadata": {},
     "output_type": "execute_result"
    }
   ],
   "source": [
    "# id_null 컬럼을 사용했기 때문에 제거합니다.\n",
    "df.drop('id_null', axis =1)\n",
    "\n",
    "# or\n",
    "# def df['id_null']"
   ]
  },
  {
   "cell_type": "markdown",
   "metadata": {
    "id": "DcXtRwpQrMWs"
   },
   "source": [
    "## **Cardinality of the dataset**\n",
    "unique한 값의 개수"
   ]
  },
  {
   "cell_type": "code",
   "execution_count": 44,
   "metadata": {
    "id": "Q69x6F7SrMWs",
    "outputId": "89bc2da7-565f-4d3a-c8e2-bb4f838ef1f6",
    "scrolled": true
   },
   "outputs": [
    {
     "name": "stdout",
     "output_type": "stream",
     "text": [
      "Number of unique Invoice Nos: 18531\n",
      "Number of unique StockCode: 3664\n",
      "Number of different Descriptions: 3876\n",
      "Number of unique Customer Ids: 4338\n",
      "Number of different Countries: 37\n"
     ]
    }
   ],
   "source": [
    "print('Number of unique Invoice Nos: {}'.format(\n",
    "    len(df.InvoiceNo.unique())))\n",
    "\n",
    "print('Number of unique StockCode: {}'.format(\n",
    "    len(df.StockCode.unique())))\n",
    "\n",
    "print('Number of different Descriptions: {}'.format(\n",
    "    len(df.Description.unique())))\n",
    "\n",
    "print('Number of unique Customer Ids: {}'.format(\n",
    "    len(df.CustomerID.unique())))\n",
    "\n",
    "print('Number of different Countries: {}'.format(\n",
    "    len(df.Country.unique())))"
   ]
  },
  {
   "cell_type": "code",
   "execution_count": 45,
   "metadata": {},
   "outputs": [
    {
     "data": {
      "text/plain": [
       "InvoiceNo      18531\n",
       "StockCode       3664\n",
       "Description     3876\n",
       "Quantity         300\n",
       "InvoiceDate    17281\n",
       "UnitPrice        440\n",
       "CustomerID      4338\n",
       "Country           37\n",
       "id_null            1\n",
       "TotalCost       2938\n",
       "dtype: int64"
      ]
     },
     "execution_count": 45,
     "metadata": {},
     "output_type": "execute_result"
    }
   ],
   "source": [
    "# 다른 방법\n",
    "df.nunique()\n",
    "\n",
    "# 하루에 약 60건의 주문 발생"
   ]
  },
  {
   "cell_type": "markdown",
   "metadata": {
    "id": "zFL4oS56rMWs"
   },
   "source": [
    "We will need to convert the InvoiceDate column to datetime value for further use.\n",
    "\n",
    "\n",
    "나중에 사용할 수 있도록 InvoiceDate 열을 날짜 / 시간 값으로 변환해야합니다."
   ]
  },
  {
   "cell_type": "code",
   "execution_count": 47,
   "metadata": {},
   "outputs": [
    {
     "data": {
      "text/plain": [
       "0        2010-12-01 08:26:00\n",
       "1        2010-12-01 08:26:00\n",
       "2        2010-12-01 08:26:00\n",
       "3        2010-12-01 08:26:00\n",
       "4        2010-12-01 08:26:00\n",
       "                 ...        \n",
       "541904   2011-12-09 12:50:00\n",
       "541905   2011-12-09 12:50:00\n",
       "541906   2011-12-09 12:50:00\n",
       "541907   2011-12-09 12:50:00\n",
       "541908   2011-12-09 12:50:00\n",
       "Name: InvoiceDate, Length: 392691, dtype: datetime64[ns]"
      ]
     },
     "execution_count": 47,
     "metadata": {},
     "output_type": "execute_result"
    }
   ],
   "source": [
    "df['InvoiceDate']"
   ]
  },
  {
   "cell_type": "code",
   "execution_count": 48,
   "metadata": {
    "id": "Xpb6cqisrMWt"
   },
   "outputs": [
    {
     "data": {
      "text/plain": [
       "0    2010-12-01\n",
       "1    2010-12-01\n",
       "2    2010-12-01\n",
       "Name: InvoiceDateCon, dtype: object"
      ]
     },
     "execution_count": 48,
     "metadata": {},
     "output_type": "execute_result"
    }
   ],
   "source": [
    "#Creating a datetime value for out InvoiceDate Column\n",
    "df['InvoiceDateCon'] = df['InvoiceDate'].dt.date\n",
    "df['InvoiceDateCon'].head(3)"
   ]
  },
  {
   "cell_type": "code",
   "execution_count": 29,
   "metadata": {
    "id": "EQqvKiVNrMWt"
   },
   "outputs": [
    {
     "data": {
      "text/plain": [
       "0   2010-12-01\n",
       "1   2010-12-01\n",
       "2   2010-12-01\n",
       "Name: InvoiceDateCon, dtype: datetime64[ns]"
      ]
     },
     "execution_count": 29,
     "metadata": {},
     "output_type": "execute_result"
    }
   ],
   "source": [
    "# object 타입을 다시 datetime으로 바꾼다.\n",
    "\n",
    "df['InvoiceDateCon'] = pd.to_datetime(df['InvoiceDateCon'])\n",
    "df['InvoiceDateCon'].head(3)"
   ]
  },
  {
   "cell_type": "code",
   "execution_count": 49,
   "metadata": {},
   "outputs": [
    {
     "data": {
      "text/html": [
       "<div>\n",
       "<style scoped>\n",
       "    .dataframe tbody tr th:only-of-type {\n",
       "        vertical-align: middle;\n",
       "    }\n",
       "\n",
       "    .dataframe tbody tr th {\n",
       "        vertical-align: top;\n",
       "    }\n",
       "\n",
       "    .dataframe thead th {\n",
       "        text-align: right;\n",
       "    }\n",
       "</style>\n",
       "<table border=\"1\" class=\"dataframe\">\n",
       "  <thead>\n",
       "    <tr style=\"text-align: right;\">\n",
       "      <th></th>\n",
       "      <th>InvoiceNo</th>\n",
       "      <th>StockCode</th>\n",
       "      <th>Description</th>\n",
       "      <th>Quantity</th>\n",
       "      <th>InvoiceDate</th>\n",
       "      <th>UnitPrice</th>\n",
       "      <th>CustomerID</th>\n",
       "      <th>Country</th>\n",
       "      <th>id_null</th>\n",
       "      <th>TotalCost</th>\n",
       "      <th>InvoiceDateCon</th>\n",
       "    </tr>\n",
       "  </thead>\n",
       "  <tbody>\n",
       "    <tr>\n",
       "      <th>488930</th>\n",
       "      <td>577856</td>\n",
       "      <td>20726</td>\n",
       "      <td>LUNCH BAG WOODLAND</td>\n",
       "      <td>10</td>\n",
       "      <td>2011-11-22 11:19:00</td>\n",
       "      <td>1.65</td>\n",
       "      <td>12490.0</td>\n",
       "      <td>France</td>\n",
       "      <td>0</td>\n",
       "      <td>16.5</td>\n",
       "      <td>2011-11-22</td>\n",
       "    </tr>\n",
       "    <tr>\n",
       "      <th>407353</th>\n",
       "      <td>571883</td>\n",
       "      <td>84821</td>\n",
       "      <td>DANISH ROSE DELUXE COASTER</td>\n",
       "      <td>12</td>\n",
       "      <td>2011-10-19 13:58:00</td>\n",
       "      <td>0.85</td>\n",
       "      <td>14704.0</td>\n",
       "      <td>United Kingdom</td>\n",
       "      <td>0</td>\n",
       "      <td>10.2</td>\n",
       "      <td>2011-10-19</td>\n",
       "    </tr>\n",
       "    <tr>\n",
       "      <th>412694</th>\n",
       "      <td>572295</td>\n",
       "      <td>22467</td>\n",
       "      <td>GUMBALL COAT RACK</td>\n",
       "      <td>2</td>\n",
       "      <td>2011-10-23 13:49:00</td>\n",
       "      <td>2.55</td>\n",
       "      <td>16686.0</td>\n",
       "      <td>United Kingdom</td>\n",
       "      <td>0</td>\n",
       "      <td>5.1</td>\n",
       "      <td>2011-10-23</td>\n",
       "    </tr>\n",
       "    <tr>\n",
       "      <th>70690</th>\n",
       "      <td>542096</td>\n",
       "      <td>21385</td>\n",
       "      <td>IVORY HANGING DECORATION  HEART</td>\n",
       "      <td>48</td>\n",
       "      <td>2011-01-25 12:52:00</td>\n",
       "      <td>0.85</td>\n",
       "      <td>17236.0</td>\n",
       "      <td>United Kingdom</td>\n",
       "      <td>0</td>\n",
       "      <td>40.8</td>\n",
       "      <td>2011-01-25</td>\n",
       "    </tr>\n",
       "    <tr>\n",
       "      <th>200309</th>\n",
       "      <td>554124</td>\n",
       "      <td>84510A</td>\n",
       "      <td>SET OF 4 ENGLISH ROSE COASTERS</td>\n",
       "      <td>10</td>\n",
       "      <td>2011-05-23 08:31:00</td>\n",
       "      <td>1.25</td>\n",
       "      <td>13339.0</td>\n",
       "      <td>United Kingdom</td>\n",
       "      <td>0</td>\n",
       "      <td>12.5</td>\n",
       "      <td>2011-05-23</td>\n",
       "    </tr>\n",
       "  </tbody>\n",
       "</table>\n",
       "</div>"
      ],
      "text/plain": [
       "       InvoiceNo StockCode                      Description  Quantity  \\\n",
       "488930    577856     20726               LUNCH BAG WOODLAND        10   \n",
       "407353    571883     84821       DANISH ROSE DELUXE COASTER        12   \n",
       "412694    572295     22467                GUMBALL COAT RACK         2   \n",
       "70690     542096     21385  IVORY HANGING DECORATION  HEART        48   \n",
       "200309    554124    84510A   SET OF 4 ENGLISH ROSE COASTERS        10   \n",
       "\n",
       "               InvoiceDate  UnitPrice  CustomerID         Country  id_null  \\\n",
       "488930 2011-11-22 11:19:00       1.65     12490.0          France        0   \n",
       "407353 2011-10-19 13:58:00       0.85     14704.0  United Kingdom        0   \n",
       "412694 2011-10-23 13:49:00       2.55     16686.0  United Kingdom        0   \n",
       "70690  2011-01-25 12:52:00       0.85     17236.0  United Kingdom        0   \n",
       "200309 2011-05-23 08:31:00       1.25     13339.0  United Kingdom        0   \n",
       "\n",
       "        TotalCost InvoiceDateCon  \n",
       "488930       16.5     2011-11-22  \n",
       "407353       10.2     2011-10-19  \n",
       "412694        5.1     2011-10-23  \n",
       "70690        40.8     2011-01-25  \n",
       "200309       12.5     2011-05-23  "
      ]
     },
     "execution_count": 49,
     "metadata": {},
     "output_type": "execute_result"
    }
   ],
   "source": [
    "df.sample(5)"
   ]
  },
  {
   "cell_type": "markdown",
   "metadata": {
    "id": "6UUTl74ArMWt"
   },
   "source": [
    "# Cohort Analysis\n",
    "\n",
    "## **What exactly is a cohort?**\n",
    "\n",
    "A cohort is a group of subjects that share the same characteristic. Cohort analysis plays an important role in digital marketing as it gives us an overview of how customers behave. It allows us to get more information on which marketing campaigns perform well, which campaigns were profitable, who tends to add more value and where you need to be allocating budgets. Although we do narrow things down to a number, there are several factors that need to be taken into consideration, this is where domain and industry knowledge comes into play.\n",
    "\n",
    "Cohorts are of different types:\n",
    "\n",
    "1. Time Cohorts: Using a timestamp to group customers; a good example would be grouping based on the month of first purchase.\n",
    "\n",
    "1. Behavior Cohorts: Here, customers are grouped based on previous activity like products bought or services subscribed to.\n",
    "\n",
    "1. Size Cohorts: Categorizing customers based on amount spent over a specific period of time is a good instance of Size Cohorts. \n",
    "\n",
    "\n",
    "** 코호트 란 정확히 무엇입니까? **\n",
    "\n",
    "코호트는 동일한 특성을 공유하는 주제 그룹입니다. 코호트 분석은 고객의 행동 방식에 대한 개요를 제공하므로 디지털 마케팅에서 중요한 역할을 합니다. 이를 통해 어떤 마케팅 캠페인의 실적, 수익성있는 캠페인, 더 많은 가치를 창출하려는 경향 및 예산을 할당해야하는지에 대한 자세한 정보를 얻을 수 있습니다. 우리는 여러 가지로 범위를 좁히지 만, 고려해야 할 몇 가지 요소가 있습니다. 이는 도메인 및 산업 지식이 작용하는 곳입니다.\n",
    "\n",
    "-시간을 두고 비슷한 그룹을 비교하는 것(가입한 달, 사용 개월수 등으로 분류한 사용자 그룹)\n",
    "\n",
    "코호트 유형은 다음과 같습니다.\n",
    "\n",
    "1. **타임 코호트** : 타임 스탬프를 사용하여 고객을 그룹화합니다. 좋은 예는 첫 구매 월을 기준으로 그룹화하는 것입니다.\n",
    "- (요번 실습에서 사용할 코호트는 타임 코호트 이다)\n",
    "\n",
    "1. 행동 코호트 : 여기서 고객은 구매 한 제품 또는 가입 한 서비스와 같은 이전 활동을 기준으로 그룹화됩니다.(어떤 카테고리를 많이 사는지)\n",
    "\n",
    "1. 규모 코호트 : 특정 기간 동안 소비 한 금액을 기준으로 고객을 분류하는 것이 크기 코호트의 좋은 예입니다.(주로 싼 제품을 사는지, 비싼 제품을 사는지)\n",
    "\n",
    "\n",
    "https://en.wikipedia.org/wiki/Cohort_analysis\n",
    "\n",
    "코호트 분석은 모든 사용자를 하나의 단위로 보지 않고 주어진 데이터 세트에서 데이터를 가져 오는 행동 분석의 하위 세트로, 분석을 위해 관련 그룹으로 분류합니다. 이러한 관련 그룹 또는 코호트는 일반적으로 정의 된 시간 범위 내에서 공통된 특성 또는 경험을 공유합니다.\n",
    "\n",
    "* 해당 분석에서는 월별 타임 코호트 분석을 하겠습니다."
   ]
  },
  {
   "cell_type": "code",
   "execution_count": 50,
   "metadata": {
    "id": "4c8BunmzrMWu"
   },
   "outputs": [],
   "source": [
    "# datetime 라이브러리를 사용해서 dt.datetime 으로 (연, 월, 1) 로 날짜를 만들어주는 함수를 구현하고\n",
    "# apply를 통해 get_month 함수를 InvoiceDateCon 컬럼에 적용하고 InvoiceDateCon 에 다시 저장합니다.\n",
    "\n",
    "# datetime으로 다시 반환하는 함수\n",
    "def get_month(x): \n",
    "    return dt.datetime(x.year, x.month,1)\n",
    "\n",
    "df['InvoiceDateCon'] = df['InvoiceDateCon'].apply(get_month)"
   ]
  },
  {
   "cell_type": "code",
   "execution_count": 51,
   "metadata": {
    "id": "_Jcau1scrMWu",
    "outputId": "b3ecfaca-0757-4ce6-e14a-267dd4149610"
   },
   "outputs": [
    {
     "data": {
      "text/html": [
       "<div>\n",
       "<style scoped>\n",
       "    .dataframe tbody tr th:only-of-type {\n",
       "        vertical-align: middle;\n",
       "    }\n",
       "\n",
       "    .dataframe tbody tr th {\n",
       "        vertical-align: top;\n",
       "    }\n",
       "\n",
       "    .dataframe thead th {\n",
       "        text-align: right;\n",
       "    }\n",
       "</style>\n",
       "<table border=\"1\" class=\"dataframe\">\n",
       "  <thead>\n",
       "    <tr style=\"text-align: right;\">\n",
       "      <th></th>\n",
       "      <th>InvoiceNo</th>\n",
       "      <th>StockCode</th>\n",
       "      <th>Description</th>\n",
       "      <th>Quantity</th>\n",
       "      <th>InvoiceDate</th>\n",
       "      <th>UnitPrice</th>\n",
       "      <th>CustomerID</th>\n",
       "      <th>Country</th>\n",
       "      <th>id_null</th>\n",
       "      <th>TotalCost</th>\n",
       "      <th>InvoiceDateCon</th>\n",
       "    </tr>\n",
       "  </thead>\n",
       "  <tbody>\n",
       "    <tr>\n",
       "      <th>475301</th>\n",
       "      <td>576876</td>\n",
       "      <td>21682</td>\n",
       "      <td>LARGE MEDINA STAMPED METAL BOWL</td>\n",
       "      <td>2</td>\n",
       "      <td>2011-11-16 16:42:00</td>\n",
       "      <td>4.95</td>\n",
       "      <td>16804.0</td>\n",
       "      <td>United Kingdom</td>\n",
       "      <td>0</td>\n",
       "      <td>9.90</td>\n",
       "      <td>2011-11-01</td>\n",
       "    </tr>\n",
       "    <tr>\n",
       "      <th>138995</th>\n",
       "      <td>548258</td>\n",
       "      <td>22973</td>\n",
       "      <td>CHILDREN'S CIRCUS PARADE MUG</td>\n",
       "      <td>12</td>\n",
       "      <td>2011-03-30 11:04:00</td>\n",
       "      <td>1.65</td>\n",
       "      <td>14146.0</td>\n",
       "      <td>United Kingdom</td>\n",
       "      <td>0</td>\n",
       "      <td>19.80</td>\n",
       "      <td>2011-03-01</td>\n",
       "    </tr>\n",
       "    <tr>\n",
       "      <th>190485</th>\n",
       "      <td>553195</td>\n",
       "      <td>POST</td>\n",
       "      <td>POSTAGE</td>\n",
       "      <td>1</td>\n",
       "      <td>2011-05-15 13:45:00</td>\n",
       "      <td>18.00</td>\n",
       "      <td>12599.0</td>\n",
       "      <td>France</td>\n",
       "      <td>0</td>\n",
       "      <td>18.00</td>\n",
       "      <td>2011-05-01</td>\n",
       "    </tr>\n",
       "    <tr>\n",
       "      <th>452812</th>\n",
       "      <td>575392</td>\n",
       "      <td>21209</td>\n",
       "      <td>MULTICOLOUR HONEYCOMB FAN</td>\n",
       "      <td>12</td>\n",
       "      <td>2011-11-09 15:42:00</td>\n",
       "      <td>0.39</td>\n",
       "      <td>14234.0</td>\n",
       "      <td>United Kingdom</td>\n",
       "      <td>0</td>\n",
       "      <td>4.68</td>\n",
       "      <td>2011-11-01</td>\n",
       "    </tr>\n",
       "    <tr>\n",
       "      <th>367610</th>\n",
       "      <td>568898</td>\n",
       "      <td>23145</td>\n",
       "      <td>ZINC T-LIGHT HOLDER STAR LARGE</td>\n",
       "      <td>12</td>\n",
       "      <td>2011-09-29 13:17:00</td>\n",
       "      <td>0.95</td>\n",
       "      <td>13354.0</td>\n",
       "      <td>United Kingdom</td>\n",
       "      <td>0</td>\n",
       "      <td>11.40</td>\n",
       "      <td>2011-09-01</td>\n",
       "    </tr>\n",
       "  </tbody>\n",
       "</table>\n",
       "</div>"
      ],
      "text/plain": [
       "       InvoiceNo StockCode                       Description  Quantity  \\\n",
       "475301    576876     21682  LARGE MEDINA STAMPED METAL BOWL          2   \n",
       "138995    548258     22973      CHILDREN'S CIRCUS PARADE MUG        12   \n",
       "190485    553195      POST                           POSTAGE         1   \n",
       "452812    575392     21209         MULTICOLOUR HONEYCOMB FAN        12   \n",
       "367610    568898     23145    ZINC T-LIGHT HOLDER STAR LARGE        12   \n",
       "\n",
       "               InvoiceDate  UnitPrice  CustomerID         Country  id_null  \\\n",
       "475301 2011-11-16 16:42:00       4.95     16804.0  United Kingdom        0   \n",
       "138995 2011-03-30 11:04:00       1.65     14146.0  United Kingdom        0   \n",
       "190485 2011-05-15 13:45:00      18.00     12599.0          France        0   \n",
       "452812 2011-11-09 15:42:00       0.39     14234.0  United Kingdom        0   \n",
       "367610 2011-09-29 13:17:00       0.95     13354.0  United Kingdom        0   \n",
       "\n",
       "        TotalCost InvoiceDateCon  \n",
       "475301       9.90     2011-11-01  \n",
       "138995      19.80     2011-03-01  \n",
       "190485      18.00     2011-05-01  \n",
       "452812       4.68     2011-11-01  \n",
       "367610      11.40     2011-09-01  "
      ]
     },
     "execution_count": 51,
     "metadata": {},
     "output_type": "execute_result"
    }
   ],
   "source": [
    "# 연-월 \n",
    "df.sample(5)"
   ]
  },
  {
   "cell_type": "code",
   "execution_count": 52,
   "metadata": {},
   "outputs": [
    {
     "data": {
      "text/plain": [
       "InvoiceNo         18531\n",
       "StockCode          3664\n",
       "Description        3876\n",
       "Quantity            300\n",
       "InvoiceDate       17281\n",
       "UnitPrice           440\n",
       "CustomerID         4338\n",
       "Country              37\n",
       "id_null               1\n",
       "TotalCost          2938\n",
       "InvoiceDateCon       13\n",
       "dtype: int64"
      ]
     },
     "execution_count": 52,
     "metadata": {},
     "output_type": "execute_result"
    }
   ],
   "source": [
    "df.nunique()"
   ]
  },
  {
   "cell_type": "markdown",
   "metadata": {
    "id": "raAQK6dZrMWv"
   },
   "source": [
    "We can now use this column to manipulate the dataset and create the columns we need. For our use case, we would need to create the Cohort Month column.\n",
    "The steps we perform:\n",
    "1. Group the data set by CustomerID\n",
    "1. Select the InvoiceDate for that grouping\n",
    "1. We can then use the transform function to get the earliest month that the customer made a purchase. This month is their cohort.\n",
    "\n",
    "이제이 열을 사용하여 데이터 집합을 조작하고 필요한 열을 만들 수 있습니다. 사용 사례의 경우 동질 집단 월 열을 작성해야합니다.\n",
    "\n",
    "우리가 수행하는 단계 :\n",
    "1. CustomerID별로 데이터 세트를 그룹화하십시오.\n",
    "1. 해당 그룹에 대한 InvoiceDate를 선택하십시오\n",
    "1. 그런 다음 변환 기능을 사용하여 고객이 구매 한 가장 빠른 달을 얻을 수 있습니다. 이번 달은 코호트입니다."
   ]
  },
  {
   "cell_type": "code",
   "execution_count": null,
   "metadata": {},
   "outputs": [],
   "source": [
    "# transform('min) 각 고객의 최초 구매월 \n",
    "# transform('max') 각 고객의 마지막 구매월  반환\n",
    "# 월 인 이유는 바로위에서 일자를 일괄적으로 1일로 다 만들어 버렸기 때문\n",
    "\n",
    "# df['CohortMonth'] = df.groupby('CustomerID')['InvoiceDateCon'].transform('min')"
   ]
  },
  {
   "cell_type": "code",
   "execution_count": 55,
   "metadata": {},
   "outputs": [
    {
     "data": {
      "text/plain": [
       "0        2010-12-01\n",
       "1        2010-12-01\n",
       "2        2010-12-01\n",
       "3        2010-12-01\n",
       "4        2010-12-01\n",
       "            ...    \n",
       "541904   2011-08-01\n",
       "541905   2011-08-01\n",
       "541906   2011-08-01\n",
       "541907   2011-08-01\n",
       "541908   2011-08-01\n",
       "Name: InvoiceDateCon, Length: 392691, dtype: datetime64[ns]"
      ]
     },
     "execution_count": 55,
     "metadata": {},
     "output_type": "execute_result"
    }
   ],
   "source": [
    "df.groupby('CustomerID')['InvoiceDateCon'].transform('min')"
   ]
  },
  {
   "cell_type": "code",
   "execution_count": 54,
   "metadata": {
    "scrolled": true
   },
   "outputs": [
    {
     "data": {
      "text/plain": [
       "CustomerID\n",
       "12346.0   2011-01-01\n",
       "12347.0   2010-12-01\n",
       "12348.0   2010-12-01\n",
       "12349.0   2011-11-01\n",
       "12350.0   2011-02-01\n",
       "             ...    \n",
       "18280.0   2011-03-01\n",
       "18281.0   2011-06-01\n",
       "18282.0   2011-08-01\n",
       "18283.0   2011-01-01\n",
       "18287.0   2011-05-01\n",
       "Name: InvoiceDateCon, Length: 4338, dtype: datetime64[ns]"
      ]
     },
     "execution_count": 54,
     "metadata": {},
     "output_type": "execute_result"
    }
   ],
   "source": [
    "df.groupby('CustomerID')['InvoiceDateCon'].min()"
   ]
  },
  {
   "cell_type": "code",
   "execution_count": 56,
   "metadata": {
    "id": "nx72Z6-LrMWv"
   },
   "outputs": [],
   "source": [
    "# CustomerID 를 인덱스로 InvoiceDateCon 을 value로 하는 groupby 를 생성하고 grouping 변수에 담습니다.\n",
    "# grouping.transform 을 통해 'min' 값을 찾아 CohortMonth 라는 새로운 컬럼에 담습니다.\n",
    "\n",
    "grouping = df.groupby('CustomerID')['InvoiceDateCon']\n",
    "df['CohortMonth'] = grouping.transform('min')\n",
    "\n",
    "# ['CohortMonth'] 컬럼에 고객의 첫 구매날짜를 넣어주었음"
   ]
  },
  {
   "cell_type": "code",
   "execution_count": 58,
   "metadata": {
    "id": "Soz-a1KXrMWw",
    "outputId": "67a9f704-fa75-4014-d18a-8b9e9c213fdf"
   },
   "outputs": [
    {
     "data": {
      "text/html": [
       "<div>\n",
       "<style scoped>\n",
       "    .dataframe tbody tr th:only-of-type {\n",
       "        vertical-align: middle;\n",
       "    }\n",
       "\n",
       "    .dataframe tbody tr th {\n",
       "        vertical-align: top;\n",
       "    }\n",
       "\n",
       "    .dataframe thead th {\n",
       "        text-align: right;\n",
       "    }\n",
       "</style>\n",
       "<table border=\"1\" class=\"dataframe\">\n",
       "  <thead>\n",
       "    <tr style=\"text-align: right;\">\n",
       "      <th></th>\n",
       "      <th>InvoiceNo</th>\n",
       "      <th>StockCode</th>\n",
       "      <th>Description</th>\n",
       "      <th>Quantity</th>\n",
       "      <th>InvoiceDate</th>\n",
       "      <th>UnitPrice</th>\n",
       "      <th>CustomerID</th>\n",
       "      <th>Country</th>\n",
       "      <th>id_null</th>\n",
       "      <th>TotalCost</th>\n",
       "      <th>InvoiceDateCon</th>\n",
       "      <th>CohortMonth</th>\n",
       "    </tr>\n",
       "  </thead>\n",
       "  <tbody>\n",
       "    <tr>\n",
       "      <th>541907</th>\n",
       "      <td>581587</td>\n",
       "      <td>23255</td>\n",
       "      <td>CHILDRENS CUTLERY CIRCUS PARADE</td>\n",
       "      <td>4</td>\n",
       "      <td>2011-12-09 12:50:00</td>\n",
       "      <td>4.15</td>\n",
       "      <td>12680.0</td>\n",
       "      <td>France</td>\n",
       "      <td>0</td>\n",
       "      <td>16.60</td>\n",
       "      <td>2011-12-01</td>\n",
       "      <td>2011-08-01</td>\n",
       "    </tr>\n",
       "    <tr>\n",
       "      <th>541908</th>\n",
       "      <td>581587</td>\n",
       "      <td>22138</td>\n",
       "      <td>BAKING SET 9 PIECE RETROSPOT</td>\n",
       "      <td>3</td>\n",
       "      <td>2011-12-09 12:50:00</td>\n",
       "      <td>4.95</td>\n",
       "      <td>12680.0</td>\n",
       "      <td>France</td>\n",
       "      <td>0</td>\n",
       "      <td>14.85</td>\n",
       "      <td>2011-12-01</td>\n",
       "      <td>2011-08-01</td>\n",
       "    </tr>\n",
       "  </tbody>\n",
       "</table>\n",
       "</div>"
      ],
      "text/plain": [
       "       InvoiceNo StockCode                      Description  Quantity  \\\n",
       "541907    581587     23255  CHILDRENS CUTLERY CIRCUS PARADE         4   \n",
       "541908    581587     22138    BAKING SET 9 PIECE RETROSPOT          3   \n",
       "\n",
       "               InvoiceDate  UnitPrice  CustomerID Country  id_null  TotalCost  \\\n",
       "541907 2011-12-09 12:50:00       4.15     12680.0  France        0      16.60   \n",
       "541908 2011-12-09 12:50:00       4.95     12680.0  France        0      14.85   \n",
       "\n",
       "       InvoiceDateCon CohortMonth  \n",
       "541907     2011-12-01  2011-08-01  \n",
       "541908     2011-12-01  2011-08-01  "
      ]
     },
     "execution_count": 58,
     "metadata": {},
     "output_type": "execute_result"
    }
   ],
   "source": [
    "df.tail(2)"
   ]
  },
  {
   "cell_type": "markdown",
   "metadata": {
    "id": "ReCiN1oMrMWw"
   },
   "source": [
    "To start off, we need to have some data ready before we can do any sort of analysis. We need the Cohort Index, which is basically the number of months that have passed since the customer has made their first purchase.\n",
    "\n",
    "All we have to do now is to calculate the difference between the cohort month and invoice month to get a unique cohort index for each observation.\n",
    "\n",
    "우선, 모든 종류의 분석을 수행하기 전에 데이터를 준비해야합니다. 고객이 처음 구매 한 지 몇 개월이 지났는지에 대한 코호트 지수가 필요합니다.\n",
    "\n",
    "코호트 월과 송장 월의 차이를 계산하여 각 관측치에 대해 고유 한 코호트 지수를 얻는 것입니다."
   ]
  },
  {
   "cell_type": "markdown",
   "metadata": {},
   "source": [
    "-**첫구매 후 다음 구매까지 얼마나 걸렸는지**"
   ]
  },
  {
   "cell_type": "code",
   "execution_count": 40,
   "metadata": {
    "scrolled": true
   },
   "outputs": [
    {
     "data": {
      "text/html": [
       "<div>\n",
       "<style scoped>\n",
       "    .dataframe tbody tr th:only-of-type {\n",
       "        vertical-align: middle;\n",
       "    }\n",
       "\n",
       "    .dataframe tbody tr th {\n",
       "        vertical-align: top;\n",
       "    }\n",
       "\n",
       "    .dataframe thead th {\n",
       "        text-align: right;\n",
       "    }\n",
       "</style>\n",
       "<table border=\"1\" class=\"dataframe\">\n",
       "  <thead>\n",
       "    <tr style=\"text-align: right;\">\n",
       "      <th></th>\n",
       "      <th>InvoiceNo</th>\n",
       "      <th>StockCode</th>\n",
       "      <th>Description</th>\n",
       "      <th>Quantity</th>\n",
       "      <th>InvoiceDate</th>\n",
       "      <th>UnitPrice</th>\n",
       "      <th>CustomerID</th>\n",
       "      <th>Country</th>\n",
       "      <th>id_null</th>\n",
       "      <th>TotalCost</th>\n",
       "      <th>InvoiceDateCon</th>\n",
       "      <th>CohortMonth</th>\n",
       "    </tr>\n",
       "  </thead>\n",
       "  <tbody>\n",
       "    <tr>\n",
       "      <th>276128</th>\n",
       "      <td>561033</td>\n",
       "      <td>71053</td>\n",
       "      <td>WHITE METAL LANTERN</td>\n",
       "      <td>4</td>\n",
       "      <td>2011-07-24 11:40:00</td>\n",
       "      <td>3.75</td>\n",
       "      <td>14443.0</td>\n",
       "      <td>United Kingdom</td>\n",
       "      <td>0</td>\n",
       "      <td>15.00</td>\n",
       "      <td>2011-07-01</td>\n",
       "      <td>2010-12-01</td>\n",
       "    </tr>\n",
       "    <tr>\n",
       "      <th>435954</th>\n",
       "      <td>574079</td>\n",
       "      <td>23210</td>\n",
       "      <td>WHITE ROCKING HORSE HAND PAINTED</td>\n",
       "      <td>2</td>\n",
       "      <td>2011-11-02 16:19:00</td>\n",
       "      <td>1.25</td>\n",
       "      <td>17595.0</td>\n",
       "      <td>United Kingdom</td>\n",
       "      <td>0</td>\n",
       "      <td>2.50</td>\n",
       "      <td>2011-11-01</td>\n",
       "      <td>2011-11-01</td>\n",
       "    </tr>\n",
       "    <tr>\n",
       "      <th>414381</th>\n",
       "      <td>572453</td>\n",
       "      <td>23521</td>\n",
       "      <td>CAT AND BIRD WALL ART</td>\n",
       "      <td>6</td>\n",
       "      <td>2011-10-24 12:37:00</td>\n",
       "      <td>2.89</td>\n",
       "      <td>12921.0</td>\n",
       "      <td>United Kingdom</td>\n",
       "      <td>0</td>\n",
       "      <td>17.34</td>\n",
       "      <td>2011-10-01</td>\n",
       "      <td>2010-12-01</td>\n",
       "    </tr>\n",
       "    <tr>\n",
       "      <th>299588</th>\n",
       "      <td>563111</td>\n",
       "      <td>21070</td>\n",
       "      <td>VINTAGE BILLBOARD MUG</td>\n",
       "      <td>12</td>\n",
       "      <td>2011-08-12 11:08:00</td>\n",
       "      <td>1.25</td>\n",
       "      <td>15249.0</td>\n",
       "      <td>United Kingdom</td>\n",
       "      <td>0</td>\n",
       "      <td>15.00</td>\n",
       "      <td>2011-08-01</td>\n",
       "      <td>2011-03-01</td>\n",
       "    </tr>\n",
       "  </tbody>\n",
       "</table>\n",
       "</div>"
      ],
      "text/plain": [
       "       InvoiceNo StockCode                       Description  Quantity  \\\n",
       "276128    561033     71053               WHITE METAL LANTERN         4   \n",
       "435954    574079     23210  WHITE ROCKING HORSE HAND PAINTED         2   \n",
       "414381    572453     23521             CAT AND BIRD WALL ART         6   \n",
       "299588    563111     21070            VINTAGE BILLBOARD MUG         12   \n",
       "\n",
       "               InvoiceDate  UnitPrice  CustomerID         Country  id_null  \\\n",
       "276128 2011-07-24 11:40:00       3.75     14443.0  United Kingdom        0   \n",
       "435954 2011-11-02 16:19:00       1.25     17595.0  United Kingdom        0   \n",
       "414381 2011-10-24 12:37:00       2.89     12921.0  United Kingdom        0   \n",
       "299588 2011-08-12 11:08:00       1.25     15249.0  United Kingdom        0   \n",
       "\n",
       "        TotalCost InvoiceDateCon CohortMonth  \n",
       "276128      15.00     2011-07-01  2010-12-01  \n",
       "435954       2.50     2011-11-01  2011-11-01  \n",
       "414381      17.34     2011-10-01  2010-12-01  \n",
       "299588      15.00     2011-08-01  2011-03-01  "
      ]
     },
     "execution_count": 40,
     "metadata": {},
     "output_type": "execute_result"
    }
   ],
   "source": [
    "df.sample(4)"
   ]
  },
  {
   "cell_type": "code",
   "execution_count": 41,
   "metadata": {},
   "outputs": [],
   "source": [
    "# cohort_year = df[CohortMonth]df.year\n",
    "# cohort_month = df[CohortMonth]df.month"
   ]
  },
  {
   "cell_type": "code",
   "execution_count": 59,
   "metadata": {
    "id": "Ml3nx8GarMWw"
   },
   "outputs": [
    {
     "data": {
      "text/html": [
       "<div>\n",
       "<style scoped>\n",
       "    .dataframe tbody tr th:only-of-type {\n",
       "        vertical-align: middle;\n",
       "    }\n",
       "\n",
       "    .dataframe tbody tr th {\n",
       "        vertical-align: top;\n",
       "    }\n",
       "\n",
       "    .dataframe thead th {\n",
       "        text-align: right;\n",
       "    }\n",
       "</style>\n",
       "<table border=\"1\" class=\"dataframe\">\n",
       "  <thead>\n",
       "    <tr style=\"text-align: right;\">\n",
       "      <th></th>\n",
       "      <th>InvoiceNo</th>\n",
       "      <th>StockCode</th>\n",
       "      <th>Description</th>\n",
       "      <th>Quantity</th>\n",
       "      <th>InvoiceDate</th>\n",
       "      <th>UnitPrice</th>\n",
       "      <th>CustomerID</th>\n",
       "      <th>Country</th>\n",
       "      <th>id_null</th>\n",
       "      <th>TotalCost</th>\n",
       "      <th>InvoiceDateCon</th>\n",
       "      <th>CohortMonth</th>\n",
       "      <th>CohortIndex</th>\n",
       "    </tr>\n",
       "  </thead>\n",
       "  <tbody>\n",
       "    <tr>\n",
       "      <th>486303</th>\n",
       "      <td>577723</td>\n",
       "      <td>21212</td>\n",
       "      <td>PACK OF 72 RETROSPOT CAKE CASES</td>\n",
       "      <td>2</td>\n",
       "      <td>2011-11-21 12:36:00</td>\n",
       "      <td>0.55</td>\n",
       "      <td>16713.0</td>\n",
       "      <td>United Kingdom</td>\n",
       "      <td>0</td>\n",
       "      <td>1.10</td>\n",
       "      <td>2011-11-01</td>\n",
       "      <td>2010-12-01</td>\n",
       "      <td>12</td>\n",
       "    </tr>\n",
       "    <tr>\n",
       "      <th>119128</th>\n",
       "      <td>546528</td>\n",
       "      <td>22170</td>\n",
       "      <td>PICTURE FRAME WOOD TRIPLE PORTRAIT</td>\n",
       "      <td>1</td>\n",
       "      <td>2011-03-14 13:04:00</td>\n",
       "      <td>6.75</td>\n",
       "      <td>15311.0</td>\n",
       "      <td>United Kingdom</td>\n",
       "      <td>0</td>\n",
       "      <td>6.75</td>\n",
       "      <td>2011-03-01</td>\n",
       "      <td>2010-12-01</td>\n",
       "      <td>4</td>\n",
       "    </tr>\n",
       "    <tr>\n",
       "      <th>311149</th>\n",
       "      <td>564226</td>\n",
       "      <td>21535</td>\n",
       "      <td>RED RETROSPOT SMALL MILK JUG</td>\n",
       "      <td>6</td>\n",
       "      <td>2011-08-24 10:13:00</td>\n",
       "      <td>2.55</td>\n",
       "      <td>12523.0</td>\n",
       "      <td>France</td>\n",
       "      <td>0</td>\n",
       "      <td>15.30</td>\n",
       "      <td>2011-08-01</td>\n",
       "      <td>2011-01-01</td>\n",
       "      <td>8</td>\n",
       "    </tr>\n",
       "  </tbody>\n",
       "</table>\n",
       "</div>"
      ],
      "text/plain": [
       "       InvoiceNo StockCode                         Description  Quantity  \\\n",
       "486303    577723     21212     PACK OF 72 RETROSPOT CAKE CASES         2   \n",
       "119128    546528     22170  PICTURE FRAME WOOD TRIPLE PORTRAIT         1   \n",
       "311149    564226     21535        RED RETROSPOT SMALL MILK JUG         6   \n",
       "\n",
       "               InvoiceDate  UnitPrice  CustomerID         Country  id_null  \\\n",
       "486303 2011-11-21 12:36:00       0.55     16713.0  United Kingdom        0   \n",
       "119128 2011-03-14 13:04:00       6.75     15311.0  United Kingdom        0   \n",
       "311149 2011-08-24 10:13:00       2.55     12523.0          France        0   \n",
       "\n",
       "        TotalCost InvoiceDateCon CohortMonth  CohortIndex  \n",
       "486303       1.10     2011-11-01  2010-12-01           12  \n",
       "119128       6.75     2011-03-01  2010-12-01            4  \n",
       "311149      15.30     2011-08-01  2011-01-01            8  "
      ]
     },
     "execution_count": 59,
     "metadata": {},
     "output_type": "execute_result"
    }
   ],
   "source": [
    "def get_date_int(df, column):\n",
    "    year = df[column].dt.year\n",
    "    month = df[column].dt.month\n",
    "    return year, month\n",
    "\n",
    "\n",
    "invoice_year, invoice_month = get_date_int(df, 'InvoiceDateCon')\n",
    "\n",
    "# 위에서 연도, 월 값을 구한 것 처럼  'CohortMonth'컬럼으로\n",
    "# cohort_year, cohort_month 값을 구합니다.\n",
    "cohort_year, cohort_month = get_date_int(df, 'CohortMonth')\n",
    "\n",
    "# 인보이스에서 코호트 값을 연도와 월에 각각 차이를 구해서 years_diff, months_diff 에 할당합니다.\n",
    "years_diff = invoice_year - cohort_year\n",
    "months_diff = invoice_month - cohort_month\n",
    "\n",
    "# 연도에는 12를 곱해주고 ㅣ \n",
    "# 같은 달에 구매 시 1이 나오게 월에는 1을 더해줍니다.\n",
    "\n",
    "df['CohortIndex'] = years_diff *12 + (months_diff +1 )\n",
    "df.sample(3)"
   ]
  },
  {
   "cell_type": "markdown",
   "metadata": {
    "id": "t102-aBNrMWw"
   },
   "source": [
    "The chart below should give us a rough idea of how we perform over time.\n",
    "\n",
    "아래 차트는 시간이 지남에 따라 어떻게 나타나는지 대략적으로 보여줍니다."
   ]
  },
  {
   "cell_type": "code",
   "execution_count": 60,
   "metadata": {
    "id": "RThY9R5orMWw",
    "outputId": "1e9c2f82-6812-43d7-effc-98648a01b429"
   },
   "outputs": [
    {
     "data": {
      "text/plain": [
       "<AxesSubplot:xlabel='CohortIndex', ylabel='count'>"
      ]
     },
     "execution_count": 60,
     "metadata": {},
     "output_type": "execute_result"
    },
    {
     "data": {
      "image/png": "[encoded data removed]",
      "text/plain": [
       "<Figure size 1440x648 with 1 Axes>"
      ]
     },
     "metadata": {
      "needs_background": "light"
     },
     "output_type": "display_data"
    }
   ],
   "source": [
    "# 고객이 구매한지 몇 개월이 지났는지에 대한 인덱스\n",
    "plt.figure(figsize=(20,9))\n",
    "sns.countplot(x='CohortIndex', data=df)"
   ]
  },
  {
   "cell_type": "markdown",
   "metadata": {},
   "source": [
    "**dt.time 으로 시간분석**"
   ]
  },
  {
   "cell_type": "code",
   "execution_count": 61,
   "metadata": {
    "id": "UKDqVW4DrMWx"
   },
   "outputs": [
    {
     "data": {
      "text/html": [
       "<div>\n",
       "<style scoped>\n",
       "    .dataframe tbody tr th:only-of-type {\n",
       "        vertical-align: middle;\n",
       "    }\n",
       "\n",
       "    .dataframe tbody tr th {\n",
       "        vertical-align: top;\n",
       "    }\n",
       "\n",
       "    .dataframe thead th {\n",
       "        text-align: right;\n",
       "    }\n",
       "</style>\n",
       "<table border=\"1\" class=\"dataframe\">\n",
       "  <thead>\n",
       "    <tr style=\"text-align: right;\">\n",
       "      <th></th>\n",
       "      <th>InvoiceNo</th>\n",
       "      <th>StockCode</th>\n",
       "      <th>Description</th>\n",
       "      <th>Quantity</th>\n",
       "      <th>InvoiceDate</th>\n",
       "      <th>UnitPrice</th>\n",
       "      <th>CustomerID</th>\n",
       "      <th>Country</th>\n",
       "      <th>id_null</th>\n",
       "      <th>TotalCost</th>\n",
       "      <th>InvoiceDateCon</th>\n",
       "      <th>CohortMonth</th>\n",
       "      <th>CohortIndex</th>\n",
       "      <th>TimeOfPurchase</th>\n",
       "    </tr>\n",
       "  </thead>\n",
       "  <tbody>\n",
       "    <tr>\n",
       "      <th>0</th>\n",
       "      <td>536365</td>\n",
       "      <td>85123A</td>\n",
       "      <td>WHITE HANGING HEART T-LIGHT HOLDER</td>\n",
       "      <td>6</td>\n",
       "      <td>2010-12-01 08:26:00</td>\n",
       "      <td>2.55</td>\n",
       "      <td>17850.0</td>\n",
       "      <td>United Kingdom</td>\n",
       "      <td>0</td>\n",
       "      <td>15.30</td>\n",
       "      <td>2010-12-01</td>\n",
       "      <td>2010-12-01</td>\n",
       "      <td>1</td>\n",
       "      <td>08:26:00</td>\n",
       "    </tr>\n",
       "    <tr>\n",
       "      <th>1</th>\n",
       "      <td>536365</td>\n",
       "      <td>71053</td>\n",
       "      <td>WHITE METAL LANTERN</td>\n",
       "      <td>6</td>\n",
       "      <td>2010-12-01 08:26:00</td>\n",
       "      <td>3.39</td>\n",
       "      <td>17850.0</td>\n",
       "      <td>United Kingdom</td>\n",
       "      <td>0</td>\n",
       "      <td>20.34</td>\n",
       "      <td>2010-12-01</td>\n",
       "      <td>2010-12-01</td>\n",
       "      <td>1</td>\n",
       "      <td>08:26:00</td>\n",
       "    </tr>\n",
       "    <tr>\n",
       "      <th>2</th>\n",
       "      <td>536365</td>\n",
       "      <td>84406B</td>\n",
       "      <td>CREAM CUPID HEARTS COAT HANGER</td>\n",
       "      <td>8</td>\n",
       "      <td>2010-12-01 08:26:00</td>\n",
       "      <td>2.75</td>\n",
       "      <td>17850.0</td>\n",
       "      <td>United Kingdom</td>\n",
       "      <td>0</td>\n",
       "      <td>22.00</td>\n",
       "      <td>2010-12-01</td>\n",
       "      <td>2010-12-01</td>\n",
       "      <td>1</td>\n",
       "      <td>08:26:00</td>\n",
       "    </tr>\n",
       "  </tbody>\n",
       "</table>\n",
       "</div>"
      ],
      "text/plain": [
       "  InvoiceNo StockCode                         Description  Quantity  \\\n",
       "0    536365    85123A  WHITE HANGING HEART T-LIGHT HOLDER         6   \n",
       "1    536365     71053                 WHITE METAL LANTERN         6   \n",
       "2    536365    84406B      CREAM CUPID HEARTS COAT HANGER         8   \n",
       "\n",
       "          InvoiceDate  UnitPrice  CustomerID         Country  id_null  \\\n",
       "0 2010-12-01 08:26:00       2.55     17850.0  United Kingdom        0   \n",
       "1 2010-12-01 08:26:00       3.39     17850.0  United Kingdom        0   \n",
       "2 2010-12-01 08:26:00       2.75     17850.0  United Kingdom        0   \n",
       "\n",
       "   TotalCost InvoiceDateCon CohortMonth  CohortIndex TimeOfPurchase  \n",
       "0      15.30     2010-12-01  2010-12-01            1       08:26:00  \n",
       "1      20.34     2010-12-01  2010-12-01            1       08:26:00  \n",
       "2      22.00     2010-12-01  2010-12-01            1       08:26:00  "
      ]
     },
     "execution_count": 61,
     "metadata": {},
     "output_type": "execute_result"
    }
   ],
   "source": [
    "# dt.time 으로 InvoiceDate의 시간을 추출 합니다.\n",
    "# 시, 분까지 \n",
    "df['TimeOfPurchase'] = df['InvoiceDate'].dt.time\n",
    "df.head(3)"
   ]
  },
  {
   "cell_type": "markdown",
   "metadata": {
    "id": "Njc5DgHArMWx"
   },
   "source": [
    "Using the Datetime package, we can extract the time data from out InvoiceDate column and inspect when most of the purchases are being made. It looks like lunch time is pretty busy. Perhaps purchases made during lunch breaks; sending out marketing communications during the early hours of the day might be more effective as customers would be more inclined to purchase something mid-day.\n",
    "\n",
    "Datetime 패키지를 사용하여 InvoiceDate 열에서 시간 데이터를 추출하고 대부분의 구매시기를 검사 할 수 있습니다. 점심 시간이 꽤 바쁜 것 같습니다. 점심 시간 동안 구매 한 것 같습니다. 하루 중 이른 시간에 마케팅 커뮤니케이션을 보내는 것은 고객이 낮에 무언가를 구매하는 경향이 있기 때문에 더 효과적 일 수 있습니다."
   ]
  },
  {
   "cell_type": "code",
   "execution_count": 62,
   "metadata": {
    "id": "KCZJc9FbrMWx",
    "outputId": "900ccfb6-ce67-49be-bb57-6afc0f291bad",
    "scrolled": false
   },
   "outputs": [
    {
     "data": {
      "text/plain": [
       "<AxesSubplot:xlabel='TimeOfPurchase'>"
      ]
     },
     "execution_count": 62,
     "metadata": {},
     "output_type": "execute_result"
    },
    {
     "data": {
      "image/png": "[encoded data removed]",
      "text/plain": [
       "<Figure size 1080x288 with 1 Axes>"
      ]
     },
     "metadata": {
      "needs_background": "light"
     },
     "output_type": "display_data"
    }
   ],
   "source": [
    "# TimeOfPurchase 컬럼을 그룹화 해서  TimeOfPurchase 컬럼의 count 값을 구하고\n",
    "# 그리고 time_of_purchase 이라는 변수에 할당해 주세요.\n",
    "# 시간대별 구매 내역을 scatterplot으로 그립니다.\n",
    "\n",
    "time_of_purchase = df.groupby(['TimeOfPurchase'])['TimeOfPurchase'].count()\n",
    "time_of_purchase.plot(figsize = (15,4))"
   ]
  },
  {
   "cell_type": "markdown",
   "metadata": {
    "id": "q4-dS8yUrMWx"
   },
   "source": [
    "Now that we have the Cohort Index as well as the Cohort Month, we can proceed to group this data. After we've grouped the data we need to count the number of unique customers in that cohort for each month. \n",
    "\n",
    "Cohort Month와 Cohort Index가 있으므로이 데이터를 그룹화 할 수 있습니다. 데이터를 그룹화 한 후 매월 해당 코호트의 고유 고객 수를 계산해야합니다."
   ]
  },
  {
   "cell_type": "code",
   "execution_count": 47,
   "metadata": {},
   "outputs": [
    {
     "data": {
      "text/html": [
       "<div>\n",
       "<style scoped>\n",
       "    .dataframe tbody tr th:only-of-type {\n",
       "        vertical-align: middle;\n",
       "    }\n",
       "\n",
       "    .dataframe tbody tr th {\n",
       "        vertical-align: top;\n",
       "    }\n",
       "\n",
       "    .dataframe thead th {\n",
       "        text-align: right;\n",
       "    }\n",
       "</style>\n",
       "<table border=\"1\" class=\"dataframe\">\n",
       "  <thead>\n",
       "    <tr style=\"text-align: right;\">\n",
       "      <th></th>\n",
       "      <th>InvoiceNo</th>\n",
       "      <th>StockCode</th>\n",
       "      <th>Description</th>\n",
       "      <th>Quantity</th>\n",
       "      <th>InvoiceDate</th>\n",
       "      <th>UnitPrice</th>\n",
       "      <th>CustomerID</th>\n",
       "      <th>Country</th>\n",
       "      <th>id_null</th>\n",
       "      <th>TotalCost</th>\n",
       "      <th>InvoiceDateCon</th>\n",
       "      <th>CohortMonth</th>\n",
       "      <th>CohortIndex</th>\n",
       "      <th>TimeOfPurchase</th>\n",
       "    </tr>\n",
       "  </thead>\n",
       "  <tbody>\n",
       "    <tr>\n",
       "      <th>276383</th>\n",
       "      <td>561043</td>\n",
       "      <td>21754</td>\n",
       "      <td>HOME BUILDING BLOCK WORD</td>\n",
       "      <td>6</td>\n",
       "      <td>2011-07-24 12:20:00</td>\n",
       "      <td>5.95</td>\n",
       "      <td>15708.0</td>\n",
       "      <td>United Kingdom</td>\n",
       "      <td>0</td>\n",
       "      <td>35.70</td>\n",
       "      <td>2011-07-01</td>\n",
       "      <td>2010-12-01</td>\n",
       "      <td>8</td>\n",
       "      <td>12:20:00</td>\n",
       "    </tr>\n",
       "    <tr>\n",
       "      <th>503580</th>\n",
       "      <td>578928</td>\n",
       "      <td>22561</td>\n",
       "      <td>WOODEN SCHOOL COLOURING SET</td>\n",
       "      <td>9</td>\n",
       "      <td>2011-11-27 12:29:00</td>\n",
       "      <td>1.65</td>\n",
       "      <td>15443.0</td>\n",
       "      <td>United Kingdom</td>\n",
       "      <td>0</td>\n",
       "      <td>14.85</td>\n",
       "      <td>2011-11-01</td>\n",
       "      <td>2011-01-01</td>\n",
       "      <td>11</td>\n",
       "      <td>12:29:00</td>\n",
       "    </tr>\n",
       "    <tr>\n",
       "      <th>93875</th>\n",
       "      <td>544316</td>\n",
       "      <td>22984</td>\n",
       "      <td>CARD GINGHAM ROSE</td>\n",
       "      <td>12</td>\n",
       "      <td>2011-02-17 14:49:00</td>\n",
       "      <td>0.42</td>\n",
       "      <td>16556.0</td>\n",
       "      <td>United Kingdom</td>\n",
       "      <td>0</td>\n",
       "      <td>5.04</td>\n",
       "      <td>2011-02-01</td>\n",
       "      <td>2010-12-01</td>\n",
       "      <td>3</td>\n",
       "      <td>14:49:00</td>\n",
       "    </tr>\n",
       "  </tbody>\n",
       "</table>\n",
       "</div>"
      ],
      "text/plain": [
       "       InvoiceNo StockCode                  Description  Quantity  \\\n",
       "276383    561043     21754     HOME BUILDING BLOCK WORD         6   \n",
       "503580    578928     22561  WOODEN SCHOOL COLOURING SET         9   \n",
       "93875     544316     22984           CARD GINGHAM ROSE         12   \n",
       "\n",
       "               InvoiceDate  UnitPrice  CustomerID         Country  id_null  \\\n",
       "276383 2011-07-24 12:20:00       5.95     15708.0  United Kingdom        0   \n",
       "503580 2011-11-27 12:29:00       1.65     15443.0  United Kingdom        0   \n",
       "93875  2011-02-17 14:49:00       0.42     16556.0  United Kingdom        0   \n",
       "\n",
       "        TotalCost InvoiceDateCon CohortMonth  CohortIndex TimeOfPurchase  \n",
       "276383      35.70     2011-07-01  2010-12-01            8       12:20:00  \n",
       "503580      14.85     2011-11-01  2011-01-01           11       12:29:00  \n",
       "93875        5.04     2011-02-01  2010-12-01            3       14:49:00  "
      ]
     },
     "execution_count": 47,
     "metadata": {},
     "output_type": "execute_result"
    }
   ],
   "source": [
    "df.sample(3)"
   ]
  },
  {
   "cell_type": "code",
   "execution_count": 48,
   "metadata": {
    "id": "AnBDSsqdrMWx",
    "scrolled": true
   },
   "outputs": [
    {
     "data": {
      "text/html": [
       "<div>\n",
       "<style scoped>\n",
       "    .dataframe tbody tr th:only-of-type {\n",
       "        vertical-align: middle;\n",
       "    }\n",
       "\n",
       "    .dataframe tbody tr th {\n",
       "        vertical-align: top;\n",
       "    }\n",
       "\n",
       "    .dataframe thead th {\n",
       "        text-align: right;\n",
       "    }\n",
       "</style>\n",
       "<table border=\"1\" class=\"dataframe\">\n",
       "  <thead>\n",
       "    <tr style=\"text-align: right;\">\n",
       "      <th>CohortIndex</th>\n",
       "      <th>1</th>\n",
       "      <th>2</th>\n",
       "      <th>3</th>\n",
       "      <th>4</th>\n",
       "      <th>5</th>\n",
       "      <th>6</th>\n",
       "      <th>7</th>\n",
       "      <th>8</th>\n",
       "      <th>9</th>\n",
       "      <th>10</th>\n",
       "      <th>11</th>\n",
       "      <th>12</th>\n",
       "      <th>13</th>\n",
       "    </tr>\n",
       "    <tr>\n",
       "      <th>CohortMonth</th>\n",
       "      <th></th>\n",
       "      <th></th>\n",
       "      <th></th>\n",
       "      <th></th>\n",
       "      <th></th>\n",
       "      <th></th>\n",
       "      <th></th>\n",
       "      <th></th>\n",
       "      <th></th>\n",
       "      <th></th>\n",
       "      <th></th>\n",
       "      <th></th>\n",
       "      <th></th>\n",
       "    </tr>\n",
       "  </thead>\n",
       "  <tbody>\n",
       "    <tr>\n",
       "      <th>2010-12-01</th>\n",
       "      <td>885.0</td>\n",
       "      <td>324.0</td>\n",
       "      <td>286.0</td>\n",
       "      <td>340.0</td>\n",
       "      <td>321.0</td>\n",
       "      <td>352.0</td>\n",
       "      <td>321.0</td>\n",
       "      <td>309.0</td>\n",
       "      <td>313.0</td>\n",
       "      <td>350.0</td>\n",
       "      <td>331.0</td>\n",
       "      <td>445.0</td>\n",
       "      <td>235.0</td>\n",
       "    </tr>\n",
       "    <tr>\n",
       "      <th>2011-01-01</th>\n",
       "      <td>417.0</td>\n",
       "      <td>92.0</td>\n",
       "      <td>111.0</td>\n",
       "      <td>96.0</td>\n",
       "      <td>134.0</td>\n",
       "      <td>120.0</td>\n",
       "      <td>103.0</td>\n",
       "      <td>101.0</td>\n",
       "      <td>125.0</td>\n",
       "      <td>136.0</td>\n",
       "      <td>152.0</td>\n",
       "      <td>49.0</td>\n",
       "      <td>NaN</td>\n",
       "    </tr>\n",
       "    <tr>\n",
       "      <th>2011-02-01</th>\n",
       "      <td>380.0</td>\n",
       "      <td>71.0</td>\n",
       "      <td>71.0</td>\n",
       "      <td>108.0</td>\n",
       "      <td>103.0</td>\n",
       "      <td>94.0</td>\n",
       "      <td>96.0</td>\n",
       "      <td>106.0</td>\n",
       "      <td>94.0</td>\n",
       "      <td>116.0</td>\n",
       "      <td>26.0</td>\n",
       "      <td>NaN</td>\n",
       "      <td>NaN</td>\n",
       "    </tr>\n",
       "    <tr>\n",
       "      <th>2011-03-01</th>\n",
       "      <td>452.0</td>\n",
       "      <td>68.0</td>\n",
       "      <td>114.0</td>\n",
       "      <td>90.0</td>\n",
       "      <td>101.0</td>\n",
       "      <td>76.0</td>\n",
       "      <td>121.0</td>\n",
       "      <td>104.0</td>\n",
       "      <td>126.0</td>\n",
       "      <td>39.0</td>\n",
       "      <td>NaN</td>\n",
       "      <td>NaN</td>\n",
       "      <td>NaN</td>\n",
       "    </tr>\n",
       "    <tr>\n",
       "      <th>2011-04-01</th>\n",
       "      <td>300.0</td>\n",
       "      <td>64.0</td>\n",
       "      <td>61.0</td>\n",
       "      <td>63.0</td>\n",
       "      <td>59.0</td>\n",
       "      <td>68.0</td>\n",
       "      <td>65.0</td>\n",
       "      <td>78.0</td>\n",
       "      <td>22.0</td>\n",
       "      <td>NaN</td>\n",
       "      <td>NaN</td>\n",
       "      <td>NaN</td>\n",
       "      <td>NaN</td>\n",
       "    </tr>\n",
       "    <tr>\n",
       "      <th>2011-05-01</th>\n",
       "      <td>284.0</td>\n",
       "      <td>54.0</td>\n",
       "      <td>49.0</td>\n",
       "      <td>49.0</td>\n",
       "      <td>59.0</td>\n",
       "      <td>66.0</td>\n",
       "      <td>75.0</td>\n",
       "      <td>26.0</td>\n",
       "      <td>NaN</td>\n",
       "      <td>NaN</td>\n",
       "      <td>NaN</td>\n",
       "      <td>NaN</td>\n",
       "      <td>NaN</td>\n",
       "    </tr>\n",
       "    <tr>\n",
       "      <th>2011-06-01</th>\n",
       "      <td>242.0</td>\n",
       "      <td>42.0</td>\n",
       "      <td>38.0</td>\n",
       "      <td>64.0</td>\n",
       "      <td>56.0</td>\n",
       "      <td>81.0</td>\n",
       "      <td>23.0</td>\n",
       "      <td>NaN</td>\n",
       "      <td>NaN</td>\n",
       "      <td>NaN</td>\n",
       "      <td>NaN</td>\n",
       "      <td>NaN</td>\n",
       "      <td>NaN</td>\n",
       "    </tr>\n",
       "    <tr>\n",
       "      <th>2011-07-01</th>\n",
       "      <td>188.0</td>\n",
       "      <td>34.0</td>\n",
       "      <td>39.0</td>\n",
       "      <td>42.0</td>\n",
       "      <td>51.0</td>\n",
       "      <td>21.0</td>\n",
       "      <td>NaN</td>\n",
       "      <td>NaN</td>\n",
       "      <td>NaN</td>\n",
       "      <td>NaN</td>\n",
       "      <td>NaN</td>\n",
       "      <td>NaN</td>\n",
       "      <td>NaN</td>\n",
       "    </tr>\n",
       "    <tr>\n",
       "      <th>2011-08-01</th>\n",
       "      <td>169.0</td>\n",
       "      <td>35.0</td>\n",
       "      <td>42.0</td>\n",
       "      <td>41.0</td>\n",
       "      <td>21.0</td>\n",
       "      <td>NaN</td>\n",
       "      <td>NaN</td>\n",
       "      <td>NaN</td>\n",
       "      <td>NaN</td>\n",
       "      <td>NaN</td>\n",
       "      <td>NaN</td>\n",
       "      <td>NaN</td>\n",
       "      <td>NaN</td>\n",
       "    </tr>\n",
       "    <tr>\n",
       "      <th>2011-09-01</th>\n",
       "      <td>299.0</td>\n",
       "      <td>70.0</td>\n",
       "      <td>90.0</td>\n",
       "      <td>34.0</td>\n",
       "      <td>NaN</td>\n",
       "      <td>NaN</td>\n",
       "      <td>NaN</td>\n",
       "      <td>NaN</td>\n",
       "      <td>NaN</td>\n",
       "      <td>NaN</td>\n",
       "      <td>NaN</td>\n",
       "      <td>NaN</td>\n",
       "      <td>NaN</td>\n",
       "    </tr>\n",
       "    <tr>\n",
       "      <th>2011-10-01</th>\n",
       "      <td>358.0</td>\n",
       "      <td>86.0</td>\n",
       "      <td>41.0</td>\n",
       "      <td>NaN</td>\n",
       "      <td>NaN</td>\n",
       "      <td>NaN</td>\n",
       "      <td>NaN</td>\n",
       "      <td>NaN</td>\n",
       "      <td>NaN</td>\n",
       "      <td>NaN</td>\n",
       "      <td>NaN</td>\n",
       "      <td>NaN</td>\n",
       "      <td>NaN</td>\n",
       "    </tr>\n",
       "    <tr>\n",
       "      <th>2011-11-01</th>\n",
       "      <td>323.0</td>\n",
       "      <td>36.0</td>\n",
       "      <td>NaN</td>\n",
       "      <td>NaN</td>\n",
       "      <td>NaN</td>\n",
       "      <td>NaN</td>\n",
       "      <td>NaN</td>\n",
       "      <td>NaN</td>\n",
       "      <td>NaN</td>\n",
       "      <td>NaN</td>\n",
       "      <td>NaN</td>\n",
       "      <td>NaN</td>\n",
       "      <td>NaN</td>\n",
       "    </tr>\n",
       "    <tr>\n",
       "      <th>2011-12-01</th>\n",
       "      <td>41.0</td>\n",
       "      <td>NaN</td>\n",
       "      <td>NaN</td>\n",
       "      <td>NaN</td>\n",
       "      <td>NaN</td>\n",
       "      <td>NaN</td>\n",
       "      <td>NaN</td>\n",
       "      <td>NaN</td>\n",
       "      <td>NaN</td>\n",
       "      <td>NaN</td>\n",
       "      <td>NaN</td>\n",
       "      <td>NaN</td>\n",
       "      <td>NaN</td>\n",
       "    </tr>\n",
       "  </tbody>\n",
       "</table>\n",
       "</div>"
      ],
      "text/plain": [
       "CohortIndex     1      2      3      4      5      6      7      8      9   \\\n",
       "CohortMonth                                                                  \n",
       "2010-12-01   885.0  324.0  286.0  340.0  321.0  352.0  321.0  309.0  313.0   \n",
       "2011-01-01   417.0   92.0  111.0   96.0  134.0  120.0  103.0  101.0  125.0   \n",
       "2011-02-01   380.0   71.0   71.0  108.0  103.0   94.0   96.0  106.0   94.0   \n",
       "2011-03-01   452.0   68.0  114.0   90.0  101.0   76.0  121.0  104.0  126.0   \n",
       "2011-04-01   300.0   64.0   61.0   63.0   59.0   68.0   65.0   78.0   22.0   \n",
       "2011-05-01   284.0   54.0   49.0   49.0   59.0   66.0   75.0   26.0    NaN   \n",
       "2011-06-01   242.0   42.0   38.0   64.0   56.0   81.0   23.0    NaN    NaN   \n",
       "2011-07-01   188.0   34.0   39.0   42.0   51.0   21.0    NaN    NaN    NaN   \n",
       "2011-08-01   169.0   35.0   42.0   41.0   21.0    NaN    NaN    NaN    NaN   \n",
       "2011-09-01   299.0   70.0   90.0   34.0    NaN    NaN    NaN    NaN    NaN   \n",
       "2011-10-01   358.0   86.0   41.0    NaN    NaN    NaN    NaN    NaN    NaN   \n",
       "2011-11-01   323.0   36.0    NaN    NaN    NaN    NaN    NaN    NaN    NaN   \n",
       "2011-12-01    41.0    NaN    NaN    NaN    NaN    NaN    NaN    NaN    NaN   \n",
       "\n",
       "CohortIndex     10     11     12     13  \n",
       "CohortMonth                              \n",
       "2010-12-01   350.0  331.0  445.0  235.0  \n",
       "2011-01-01   136.0  152.0   49.0    NaN  \n",
       "2011-02-01   116.0   26.0    NaN    NaN  \n",
       "2011-03-01    39.0    NaN    NaN    NaN  \n",
       "2011-04-01     NaN    NaN    NaN    NaN  \n",
       "2011-05-01     NaN    NaN    NaN    NaN  \n",
       "2011-06-01     NaN    NaN    NaN    NaN  \n",
       "2011-07-01     NaN    NaN    NaN    NaN  \n",
       "2011-08-01     NaN    NaN    NaN    NaN  \n",
       "2011-09-01     NaN    NaN    NaN    NaN  \n",
       "2011-10-01     NaN    NaN    NaN    NaN  \n",
       "2011-11-01     NaN    NaN    NaN    NaN  \n",
       "2011-12-01     NaN    NaN    NaN    NaN  "
      ]
     },
     "execution_count": 48,
     "metadata": {},
     "output_type": "execute_result"
    }
   ],
   "source": [
    "# 중간정리 : CohortMonth => 최초 구매일 \n",
    "#          : CohortIndex => 최초 구매일로 부터 다음 구매까지의 달 수\n",
    "\n",
    "# 'CohortMonth', 'CohortIndex' 로 그룹화 하고 grouping 이라는 변수에 담습니다.\n",
    "# grouping 에서 'CustomerID'의 nunique 값을 구해 cohort_data 라는 변수에 담습니다.\n",
    "# cohort_data 변수에 담긴 값을 reset_index 로 데이터프레임으로 변경합니다.\n",
    "# cohort_data 데이터프레임으로 피봇을 해서 형태를 변경합니다.\n",
    "# 이 때 index='CohortMonth', columns='CohortIndex', values='CustomerID' 로 피봇합니다.\n",
    "\n",
    "grouping = df.groupby(['CohortMonth', 'CohortIndex'])\n",
    "cohort_data = grouping['CustomerID'].nunique()\n",
    "cohort_data = cohort_data.reset_index()\n",
    "cohort_counts = pd.pivot_table(cohort_data, index='CohortMonth', columns='CohortIndex', values='CustomerID')\n",
    "cohort_counts"
   ]
  },
  {
   "cell_type": "code",
   "execution_count": 63,
   "metadata": {},
   "outputs": [
    {
     "data": {
      "text/html": [
       "<div>\n",
       "<style scoped>\n",
       "    .dataframe tbody tr th:only-of-type {\n",
       "        vertical-align: middle;\n",
       "    }\n",
       "\n",
       "    .dataframe tbody tr th {\n",
       "        vertical-align: top;\n",
       "    }\n",
       "\n",
       "    .dataframe thead th {\n",
       "        text-align: right;\n",
       "    }\n",
       "</style>\n",
       "<table border=\"1\" class=\"dataframe\">\n",
       "  <thead>\n",
       "    <tr style=\"text-align: right;\">\n",
       "      <th>CohortIndex</th>\n",
       "      <th>1</th>\n",
       "      <th>2</th>\n",
       "      <th>3</th>\n",
       "      <th>4</th>\n",
       "      <th>5</th>\n",
       "      <th>6</th>\n",
       "      <th>7</th>\n",
       "      <th>8</th>\n",
       "      <th>9</th>\n",
       "      <th>10</th>\n",
       "      <th>11</th>\n",
       "      <th>12</th>\n",
       "      <th>13</th>\n",
       "    </tr>\n",
       "    <tr>\n",
       "      <th>CohortMonth</th>\n",
       "      <th></th>\n",
       "      <th></th>\n",
       "      <th></th>\n",
       "      <th></th>\n",
       "      <th></th>\n",
       "      <th></th>\n",
       "      <th></th>\n",
       "      <th></th>\n",
       "      <th></th>\n",
       "      <th></th>\n",
       "      <th></th>\n",
       "      <th></th>\n",
       "      <th></th>\n",
       "    </tr>\n",
       "  </thead>\n",
       "  <tbody>\n",
       "    <tr>\n",
       "      <th>2010-12-01</th>\n",
       "      <td>885.0</td>\n",
       "      <td>324.0</td>\n",
       "      <td>286.0</td>\n",
       "      <td>340.0</td>\n",
       "      <td>321.0</td>\n",
       "      <td>352.0</td>\n",
       "      <td>321.0</td>\n",
       "      <td>309.0</td>\n",
       "      <td>313.0</td>\n",
       "      <td>350.0</td>\n",
       "      <td>331.0</td>\n",
       "      <td>445.0</td>\n",
       "      <td>235.0</td>\n",
       "    </tr>\n",
       "    <tr>\n",
       "      <th>2011-01-01</th>\n",
       "      <td>417.0</td>\n",
       "      <td>92.0</td>\n",
       "      <td>111.0</td>\n",
       "      <td>96.0</td>\n",
       "      <td>134.0</td>\n",
       "      <td>120.0</td>\n",
       "      <td>103.0</td>\n",
       "      <td>101.0</td>\n",
       "      <td>125.0</td>\n",
       "      <td>136.0</td>\n",
       "      <td>152.0</td>\n",
       "      <td>49.0</td>\n",
       "      <td>NaN</td>\n",
       "    </tr>\n",
       "    <tr>\n",
       "      <th>2011-02-01</th>\n",
       "      <td>380.0</td>\n",
       "      <td>71.0</td>\n",
       "      <td>71.0</td>\n",
       "      <td>108.0</td>\n",
       "      <td>103.0</td>\n",
       "      <td>94.0</td>\n",
       "      <td>96.0</td>\n",
       "      <td>106.0</td>\n",
       "      <td>94.0</td>\n",
       "      <td>116.0</td>\n",
       "      <td>26.0</td>\n",
       "      <td>NaN</td>\n",
       "      <td>NaN</td>\n",
       "    </tr>\n",
       "    <tr>\n",
       "      <th>2011-03-01</th>\n",
       "      <td>452.0</td>\n",
       "      <td>68.0</td>\n",
       "      <td>114.0</td>\n",
       "      <td>90.0</td>\n",
       "      <td>101.0</td>\n",
       "      <td>76.0</td>\n",
       "      <td>121.0</td>\n",
       "      <td>104.0</td>\n",
       "      <td>126.0</td>\n",
       "      <td>39.0</td>\n",
       "      <td>NaN</td>\n",
       "      <td>NaN</td>\n",
       "      <td>NaN</td>\n",
       "    </tr>\n",
       "    <tr>\n",
       "      <th>2011-04-01</th>\n",
       "      <td>300.0</td>\n",
       "      <td>64.0</td>\n",
       "      <td>61.0</td>\n",
       "      <td>63.0</td>\n",
       "      <td>59.0</td>\n",
       "      <td>68.0</td>\n",
       "      <td>65.0</td>\n",
       "      <td>78.0</td>\n",
       "      <td>22.0</td>\n",
       "      <td>NaN</td>\n",
       "      <td>NaN</td>\n",
       "      <td>NaN</td>\n",
       "      <td>NaN</td>\n",
       "    </tr>\n",
       "    <tr>\n",
       "      <th>2011-05-01</th>\n",
       "      <td>284.0</td>\n",
       "      <td>54.0</td>\n",
       "      <td>49.0</td>\n",
       "      <td>49.0</td>\n",
       "      <td>59.0</td>\n",
       "      <td>66.0</td>\n",
       "      <td>75.0</td>\n",
       "      <td>26.0</td>\n",
       "      <td>NaN</td>\n",
       "      <td>NaN</td>\n",
       "      <td>NaN</td>\n",
       "      <td>NaN</td>\n",
       "      <td>NaN</td>\n",
       "    </tr>\n",
       "    <tr>\n",
       "      <th>2011-06-01</th>\n",
       "      <td>242.0</td>\n",
       "      <td>42.0</td>\n",
       "      <td>38.0</td>\n",
       "      <td>64.0</td>\n",
       "      <td>56.0</td>\n",
       "      <td>81.0</td>\n",
       "      <td>23.0</td>\n",
       "      <td>NaN</td>\n",
       "      <td>NaN</td>\n",
       "      <td>NaN</td>\n",
       "      <td>NaN</td>\n",
       "      <td>NaN</td>\n",
       "      <td>NaN</td>\n",
       "    </tr>\n",
       "    <tr>\n",
       "      <th>2011-07-01</th>\n",
       "      <td>188.0</td>\n",
       "      <td>34.0</td>\n",
       "      <td>39.0</td>\n",
       "      <td>42.0</td>\n",
       "      <td>51.0</td>\n",
       "      <td>21.0</td>\n",
       "      <td>NaN</td>\n",
       "      <td>NaN</td>\n",
       "      <td>NaN</td>\n",
       "      <td>NaN</td>\n",
       "      <td>NaN</td>\n",
       "      <td>NaN</td>\n",
       "      <td>NaN</td>\n",
       "    </tr>\n",
       "    <tr>\n",
       "      <th>2011-08-01</th>\n",
       "      <td>169.0</td>\n",
       "      <td>35.0</td>\n",
       "      <td>42.0</td>\n",
       "      <td>41.0</td>\n",
       "      <td>21.0</td>\n",
       "      <td>NaN</td>\n",
       "      <td>NaN</td>\n",
       "      <td>NaN</td>\n",
       "      <td>NaN</td>\n",
       "      <td>NaN</td>\n",
       "      <td>NaN</td>\n",
       "      <td>NaN</td>\n",
       "      <td>NaN</td>\n",
       "    </tr>\n",
       "    <tr>\n",
       "      <th>2011-09-01</th>\n",
       "      <td>299.0</td>\n",
       "      <td>70.0</td>\n",
       "      <td>90.0</td>\n",
       "      <td>34.0</td>\n",
       "      <td>NaN</td>\n",
       "      <td>NaN</td>\n",
       "      <td>NaN</td>\n",
       "      <td>NaN</td>\n",
       "      <td>NaN</td>\n",
       "      <td>NaN</td>\n",
       "      <td>NaN</td>\n",
       "      <td>NaN</td>\n",
       "      <td>NaN</td>\n",
       "    </tr>\n",
       "    <tr>\n",
       "      <th>2011-10-01</th>\n",
       "      <td>358.0</td>\n",
       "      <td>86.0</td>\n",
       "      <td>41.0</td>\n",
       "      <td>NaN</td>\n",
       "      <td>NaN</td>\n",
       "      <td>NaN</td>\n",
       "      <td>NaN</td>\n",
       "      <td>NaN</td>\n",
       "      <td>NaN</td>\n",
       "      <td>NaN</td>\n",
       "      <td>NaN</td>\n",
       "      <td>NaN</td>\n",
       "      <td>NaN</td>\n",
       "    </tr>\n",
       "    <tr>\n",
       "      <th>2011-11-01</th>\n",
       "      <td>323.0</td>\n",
       "      <td>36.0</td>\n",
       "      <td>NaN</td>\n",
       "      <td>NaN</td>\n",
       "      <td>NaN</td>\n",
       "      <td>NaN</td>\n",
       "      <td>NaN</td>\n",
       "      <td>NaN</td>\n",
       "      <td>NaN</td>\n",
       "      <td>NaN</td>\n",
       "      <td>NaN</td>\n",
       "      <td>NaN</td>\n",
       "      <td>NaN</td>\n",
       "    </tr>\n",
       "    <tr>\n",
       "      <th>2011-12-01</th>\n",
       "      <td>41.0</td>\n",
       "      <td>NaN</td>\n",
       "      <td>NaN</td>\n",
       "      <td>NaN</td>\n",
       "      <td>NaN</td>\n",
       "      <td>NaN</td>\n",
       "      <td>NaN</td>\n",
       "      <td>NaN</td>\n",
       "      <td>NaN</td>\n",
       "      <td>NaN</td>\n",
       "      <td>NaN</td>\n",
       "      <td>NaN</td>\n",
       "      <td>NaN</td>\n",
       "    </tr>\n",
       "  </tbody>\n",
       "</table>\n",
       "</div>"
      ],
      "text/plain": [
       "CohortIndex     1      2      3      4      5      6      7      8      9   \\\n",
       "CohortMonth                                                                  \n",
       "2010-12-01   885.0  324.0  286.0  340.0  321.0  352.0  321.0  309.0  313.0   \n",
       "2011-01-01   417.0   92.0  111.0   96.0  134.0  120.0  103.0  101.0  125.0   \n",
       "2011-02-01   380.0   71.0   71.0  108.0  103.0   94.0   96.0  106.0   94.0   \n",
       "2011-03-01   452.0   68.0  114.0   90.0  101.0   76.0  121.0  104.0  126.0   \n",
       "2011-04-01   300.0   64.0   61.0   63.0   59.0   68.0   65.0   78.0   22.0   \n",
       "2011-05-01   284.0   54.0   49.0   49.0   59.0   66.0   75.0   26.0    NaN   \n",
       "2011-06-01   242.0   42.0   38.0   64.0   56.0   81.0   23.0    NaN    NaN   \n",
       "2011-07-01   188.0   34.0   39.0   42.0   51.0   21.0    NaN    NaN    NaN   \n",
       "2011-08-01   169.0   35.0   42.0   41.0   21.0    NaN    NaN    NaN    NaN   \n",
       "2011-09-01   299.0   70.0   90.0   34.0    NaN    NaN    NaN    NaN    NaN   \n",
       "2011-10-01   358.0   86.0   41.0    NaN    NaN    NaN    NaN    NaN    NaN   \n",
       "2011-11-01   323.0   36.0    NaN    NaN    NaN    NaN    NaN    NaN    NaN   \n",
       "2011-12-01    41.0    NaN    NaN    NaN    NaN    NaN    NaN    NaN    NaN   \n",
       "\n",
       "CohortIndex     10     11     12     13  \n",
       "CohortMonth                              \n",
       "2010-12-01   350.0  331.0  445.0  235.0  \n",
       "2011-01-01   136.0  152.0   49.0    NaN  \n",
       "2011-02-01   116.0   26.0    NaN    NaN  \n",
       "2011-03-01    39.0    NaN    NaN    NaN  \n",
       "2011-04-01     NaN    NaN    NaN    NaN  \n",
       "2011-05-01     NaN    NaN    NaN    NaN  \n",
       "2011-06-01     NaN    NaN    NaN    NaN  \n",
       "2011-07-01     NaN    NaN    NaN    NaN  \n",
       "2011-08-01     NaN    NaN    NaN    NaN  \n",
       "2011-09-01     NaN    NaN    NaN    NaN  \n",
       "2011-10-01     NaN    NaN    NaN    NaN  \n",
       "2011-11-01     NaN    NaN    NaN    NaN  \n",
       "2011-12-01     NaN    NaN    NaN    NaN  "
      ]
     },
     "execution_count": 63,
     "metadata": {},
     "output_type": "execute_result"
    }
   ],
   "source": [
    "# 위의 과정을 다른 방법으로도 가능함\n",
    "\n",
    "cohort_counts = df.groupby(['CohortMonth','CohortIndex'])['CustomerID'].nunique().unstack()\n",
    "cohort_counts"
   ]
  },
  {
   "cell_type": "markdown",
   "metadata": {
    "id": "_p725z3UrMWx"
   },
   "source": [
    "We can now calculate the number of unique customers in each cohort. With the new dataframe, we can use the Pandas pivot function to create a table with Cohort Month as your index, Cohort Index as your columns and unique CustomerIDs as your values. The resulting table should look something like this:\n",
    "\n",
    "이제 각 코호트에서 고유 한 고객 수를 계산할 수 있습니다. 새로운 데이터 프레임에서는 팬더 피벗 기능을 사용하여 코호트 월을 인덱스로, 코호트 인덱스를 열로, 고유 CustomerID를 값으로 사용하여 테이블을 만들 수 있습니다. 결과 테이블은 다음과 같아야합니다."
   ]
  },
  {
   "cell_type": "code",
   "execution_count": 64,
   "metadata": {
    "id": "NRNw6JGgrMWy",
    "outputId": "23883ec1-0278-4a60-ee23-8f407bbe75ac"
   },
   "outputs": [
    {
     "data": {
      "text/plain": [
       "<AxesSubplot:xlabel='CohortIndex', ylabel='CohortMonth'>"
      ]
     },
     "execution_count": 64,
     "metadata": {},
     "output_type": "execute_result"
    },
    {
     "data": {
      "image/png": "[encoded data removed]",
      "text/plain": [
       "<Figure size 576x360 with 2 Axes>"
      ]
     },
     "metadata": {
      "needs_background": "light"
     },
     "output_type": "display_data"
    }
   ],
   "source": [
    "# cohort_counts 값을 출력해 봅니다.\n",
    "plt.figure(figsize = (8,5))\n",
    "sns.heatmap(cohort_counts, cmap='Blues' , annot =True, fmt ='.0f')"
   ]
  },
  {
   "cell_type": "markdown",
   "metadata": {
    "id": "AvwC8faIrMWy"
   },
   "source": [
    "Now that we have a table to with our Cohort Data, we can also calculate the percentage of customers that chose to come back in each preceeding month. This is the basis of our Customer Retention table.\n",
    "\n",
    "코호트 데이터와 관련된 표를 작성 했으므로 각 월에 다시 방문하기로 선택한 고객의 비율을 계산할 수도 있습니다. 이것이 고객 유지 테이블의 기초입니다.\n",
    "\n",
    "첫번째 달이 100%, \n",
    "첫달을 기준으로 나누어 준다."
   ]
  },
  {
   "cell_type": "code",
   "execution_count": 67,
   "metadata": {},
   "outputs": [
    {
     "data": {
      "text/plain": [
       "CohortMonth\n",
       "2010-12-01    885.0\n",
       "2011-01-01    417.0\n",
       "2011-02-01    380.0\n",
       "2011-03-01    452.0\n",
       "2011-04-01    300.0\n",
       "2011-05-01    284.0\n",
       "2011-06-01    242.0\n",
       "2011-07-01    188.0\n",
       "2011-08-01    169.0\n",
       "2011-09-01    299.0\n",
       "2011-10-01    358.0\n",
       "2011-11-01    323.0\n",
       "2011-12-01     41.0\n",
       "Name: 1, dtype: float64"
      ]
     },
     "execution_count": 67,
     "metadata": {},
     "output_type": "execute_result"
    }
   ],
   "source": [
    "cohort_counts[1]"
   ]
  },
  {
   "cell_type": "code",
   "execution_count": 65,
   "metadata": {
    "id": "wzp70XcDrMWy"
   },
   "outputs": [
    {
     "data": {
      "text/html": [
       "<div>\n",
       "<style scoped>\n",
       "    .dataframe tbody tr th:only-of-type {\n",
       "        vertical-align: middle;\n",
       "    }\n",
       "\n",
       "    .dataframe tbody tr th {\n",
       "        vertical-align: top;\n",
       "    }\n",
       "\n",
       "    .dataframe thead th {\n",
       "        text-align: right;\n",
       "    }\n",
       "</style>\n",
       "<table border=\"1\" class=\"dataframe\">\n",
       "  <thead>\n",
       "    <tr style=\"text-align: right;\">\n",
       "      <th>CohortIndex</th>\n",
       "      <th>1</th>\n",
       "      <th>2</th>\n",
       "      <th>3</th>\n",
       "      <th>4</th>\n",
       "      <th>5</th>\n",
       "      <th>6</th>\n",
       "      <th>7</th>\n",
       "      <th>8</th>\n",
       "      <th>9</th>\n",
       "      <th>10</th>\n",
       "      <th>11</th>\n",
       "      <th>12</th>\n",
       "      <th>13</th>\n",
       "    </tr>\n",
       "    <tr>\n",
       "      <th>CohortMonth</th>\n",
       "      <th></th>\n",
       "      <th></th>\n",
       "      <th></th>\n",
       "      <th></th>\n",
       "      <th></th>\n",
       "      <th></th>\n",
       "      <th></th>\n",
       "      <th></th>\n",
       "      <th></th>\n",
       "      <th></th>\n",
       "      <th></th>\n",
       "      <th></th>\n",
       "      <th></th>\n",
       "    </tr>\n",
       "  </thead>\n",
       "  <tbody>\n",
       "    <tr>\n",
       "      <th>2010-12-01</th>\n",
       "      <td>100.0</td>\n",
       "      <td>36.6</td>\n",
       "      <td>32.3</td>\n",
       "      <td>38.4</td>\n",
       "      <td>36.3</td>\n",
       "      <td>39.8</td>\n",
       "      <td>36.3</td>\n",
       "      <td>34.9</td>\n",
       "      <td>35.4</td>\n",
       "      <td>39.5</td>\n",
       "      <td>37.4</td>\n",
       "      <td>50.3</td>\n",
       "      <td>26.6</td>\n",
       "    </tr>\n",
       "    <tr>\n",
       "      <th>2011-01-01</th>\n",
       "      <td>100.0</td>\n",
       "      <td>22.1</td>\n",
       "      <td>26.6</td>\n",
       "      <td>23.0</td>\n",
       "      <td>32.1</td>\n",
       "      <td>28.8</td>\n",
       "      <td>24.7</td>\n",
       "      <td>24.2</td>\n",
       "      <td>30.0</td>\n",
       "      <td>32.6</td>\n",
       "      <td>36.5</td>\n",
       "      <td>11.8</td>\n",
       "      <td>NaN</td>\n",
       "    </tr>\n",
       "    <tr>\n",
       "      <th>2011-02-01</th>\n",
       "      <td>100.0</td>\n",
       "      <td>18.7</td>\n",
       "      <td>18.7</td>\n",
       "      <td>28.4</td>\n",
       "      <td>27.1</td>\n",
       "      <td>24.7</td>\n",
       "      <td>25.3</td>\n",
       "      <td>27.9</td>\n",
       "      <td>24.7</td>\n",
       "      <td>30.5</td>\n",
       "      <td>6.8</td>\n",
       "      <td>NaN</td>\n",
       "      <td>NaN</td>\n",
       "    </tr>\n",
       "    <tr>\n",
       "      <th>2011-03-01</th>\n",
       "      <td>100.0</td>\n",
       "      <td>15.0</td>\n",
       "      <td>25.2</td>\n",
       "      <td>19.9</td>\n",
       "      <td>22.3</td>\n",
       "      <td>16.8</td>\n",
       "      <td>26.8</td>\n",
       "      <td>23.0</td>\n",
       "      <td>27.9</td>\n",
       "      <td>8.6</td>\n",
       "      <td>NaN</td>\n",
       "      <td>NaN</td>\n",
       "      <td>NaN</td>\n",
       "    </tr>\n",
       "    <tr>\n",
       "      <th>2011-04-01</th>\n",
       "      <td>100.0</td>\n",
       "      <td>21.3</td>\n",
       "      <td>20.3</td>\n",
       "      <td>21.0</td>\n",
       "      <td>19.7</td>\n",
       "      <td>22.7</td>\n",
       "      <td>21.7</td>\n",
       "      <td>26.0</td>\n",
       "      <td>7.3</td>\n",
       "      <td>NaN</td>\n",
       "      <td>NaN</td>\n",
       "      <td>NaN</td>\n",
       "      <td>NaN</td>\n",
       "    </tr>\n",
       "    <tr>\n",
       "      <th>2011-05-01</th>\n",
       "      <td>100.0</td>\n",
       "      <td>19.0</td>\n",
       "      <td>17.3</td>\n",
       "      <td>17.3</td>\n",
       "      <td>20.8</td>\n",
       "      <td>23.2</td>\n",
       "      <td>26.4</td>\n",
       "      <td>9.2</td>\n",
       "      <td>NaN</td>\n",
       "      <td>NaN</td>\n",
       "      <td>NaN</td>\n",
       "      <td>NaN</td>\n",
       "      <td>NaN</td>\n",
       "    </tr>\n",
       "    <tr>\n",
       "      <th>2011-06-01</th>\n",
       "      <td>100.0</td>\n",
       "      <td>17.4</td>\n",
       "      <td>15.7</td>\n",
       "      <td>26.4</td>\n",
       "      <td>23.1</td>\n",
       "      <td>33.5</td>\n",
       "      <td>9.5</td>\n",
       "      <td>NaN</td>\n",
       "      <td>NaN</td>\n",
       "      <td>NaN</td>\n",
       "      <td>NaN</td>\n",
       "      <td>NaN</td>\n",
       "      <td>NaN</td>\n",
       "    </tr>\n",
       "    <tr>\n",
       "      <th>2011-07-01</th>\n",
       "      <td>100.0</td>\n",
       "      <td>18.1</td>\n",
       "      <td>20.7</td>\n",
       "      <td>22.3</td>\n",
       "      <td>27.1</td>\n",
       "      <td>11.2</td>\n",
       "      <td>NaN</td>\n",
       "      <td>NaN</td>\n",
       "      <td>NaN</td>\n",
       "      <td>NaN</td>\n",
       "      <td>NaN</td>\n",
       "      <td>NaN</td>\n",
       "      <td>NaN</td>\n",
       "    </tr>\n",
       "    <tr>\n",
       "      <th>2011-08-01</th>\n",
       "      <td>100.0</td>\n",
       "      <td>20.7</td>\n",
       "      <td>24.9</td>\n",
       "      <td>24.3</td>\n",
       "      <td>12.4</td>\n",
       "      <td>NaN</td>\n",
       "      <td>NaN</td>\n",
       "      <td>NaN</td>\n",
       "      <td>NaN</td>\n",
       "      <td>NaN</td>\n",
       "      <td>NaN</td>\n",
       "      <td>NaN</td>\n",
       "      <td>NaN</td>\n",
       "    </tr>\n",
       "    <tr>\n",
       "      <th>2011-09-01</th>\n",
       "      <td>100.0</td>\n",
       "      <td>23.4</td>\n",
       "      <td>30.1</td>\n",
       "      <td>11.4</td>\n",
       "      <td>NaN</td>\n",
       "      <td>NaN</td>\n",
       "      <td>NaN</td>\n",
       "      <td>NaN</td>\n",
       "      <td>NaN</td>\n",
       "      <td>NaN</td>\n",
       "      <td>NaN</td>\n",
       "      <td>NaN</td>\n",
       "      <td>NaN</td>\n",
       "    </tr>\n",
       "    <tr>\n",
       "      <th>2011-10-01</th>\n",
       "      <td>100.0</td>\n",
       "      <td>24.0</td>\n",
       "      <td>11.5</td>\n",
       "      <td>NaN</td>\n",
       "      <td>NaN</td>\n",
       "      <td>NaN</td>\n",
       "      <td>NaN</td>\n",
       "      <td>NaN</td>\n",
       "      <td>NaN</td>\n",
       "      <td>NaN</td>\n",
       "      <td>NaN</td>\n",
       "      <td>NaN</td>\n",
       "      <td>NaN</td>\n",
       "    </tr>\n",
       "    <tr>\n",
       "      <th>2011-11-01</th>\n",
       "      <td>100.0</td>\n",
       "      <td>11.1</td>\n",
       "      <td>NaN</td>\n",
       "      <td>NaN</td>\n",
       "      <td>NaN</td>\n",
       "      <td>NaN</td>\n",
       "      <td>NaN</td>\n",
       "      <td>NaN</td>\n",
       "      <td>NaN</td>\n",
       "      <td>NaN</td>\n",
       "      <td>NaN</td>\n",
       "      <td>NaN</td>\n",
       "      <td>NaN</td>\n",
       "    </tr>\n",
       "    <tr>\n",
       "      <th>2011-12-01</th>\n",
       "      <td>100.0</td>\n",
       "      <td>NaN</td>\n",
       "      <td>NaN</td>\n",
       "      <td>NaN</td>\n",
       "      <td>NaN</td>\n",
       "      <td>NaN</td>\n",
       "      <td>NaN</td>\n",
       "      <td>NaN</td>\n",
       "      <td>NaN</td>\n",
       "      <td>NaN</td>\n",
       "      <td>NaN</td>\n",
       "      <td>NaN</td>\n",
       "      <td>NaN</td>\n",
       "    </tr>\n",
       "  </tbody>\n",
       "</table>\n",
       "</div>"
      ],
      "text/plain": [
       "CohortIndex     1     2     3     4     5     6     7     8     9     10  \\\n",
       "CohortMonth                                                                \n",
       "2010-12-01   100.0  36.6  32.3  38.4  36.3  39.8  36.3  34.9  35.4  39.5   \n",
       "2011-01-01   100.0  22.1  26.6  23.0  32.1  28.8  24.7  24.2  30.0  32.6   \n",
       "2011-02-01   100.0  18.7  18.7  28.4  27.1  24.7  25.3  27.9  24.7  30.5   \n",
       "2011-03-01   100.0  15.0  25.2  19.9  22.3  16.8  26.8  23.0  27.9   8.6   \n",
       "2011-04-01   100.0  21.3  20.3  21.0  19.7  22.7  21.7  26.0   7.3   NaN   \n",
       "2011-05-01   100.0  19.0  17.3  17.3  20.8  23.2  26.4   9.2   NaN   NaN   \n",
       "2011-06-01   100.0  17.4  15.7  26.4  23.1  33.5   9.5   NaN   NaN   NaN   \n",
       "2011-07-01   100.0  18.1  20.7  22.3  27.1  11.2   NaN   NaN   NaN   NaN   \n",
       "2011-08-01   100.0  20.7  24.9  24.3  12.4   NaN   NaN   NaN   NaN   NaN   \n",
       "2011-09-01   100.0  23.4  30.1  11.4   NaN   NaN   NaN   NaN   NaN   NaN   \n",
       "2011-10-01   100.0  24.0  11.5   NaN   NaN   NaN   NaN   NaN   NaN   NaN   \n",
       "2011-11-01   100.0  11.1   NaN   NaN   NaN   NaN   NaN   NaN   NaN   NaN   \n",
       "2011-12-01   100.0   NaN   NaN   NaN   NaN   NaN   NaN   NaN   NaN   NaN   \n",
       "\n",
       "CohortIndex    11    12    13  \n",
       "CohortMonth                    \n",
       "2010-12-01   37.4  50.3  26.6  \n",
       "2011-01-01   36.5  11.8   NaN  \n",
       "2011-02-01    6.8   NaN   NaN  \n",
       "2011-03-01    NaN   NaN   NaN  \n",
       "2011-04-01    NaN   NaN   NaN  \n",
       "2011-05-01    NaN   NaN   NaN  \n",
       "2011-06-01    NaN   NaN   NaN  \n",
       "2011-07-01    NaN   NaN   NaN  \n",
       "2011-08-01    NaN   NaN   NaN  \n",
       "2011-09-01    NaN   NaN   NaN  \n",
       "2011-10-01    NaN   NaN   NaN  \n",
       "2011-11-01    NaN   NaN   NaN  \n",
       "2011-12-01    NaN   NaN   NaN  "
      ]
     },
     "execution_count": 65,
     "metadata": {},
     "output_type": "execute_result"
    }
   ],
   "source": [
    "# cohort_counts 를 cohort_counts 로 div 로 나눠줍니다.\n",
    "# retention_round 라는 변수에 소숫점 한자리를 표현하는 백분위 값을 만들어 할당합니다.\n",
    "\n",
    "retention_round = cohort_counts.div(cohort_counts[1], axis = 0).round(3) *100\n",
    "retention_round"
   ]
  },
  {
   "cell_type": "code",
   "execution_count": 71,
   "metadata": {
    "id": "nljcTcTyrMWy"
   },
   "outputs": [],
   "source": [
    "# retention_round.index 으로 표현하면 날짜가 너무 길게 표시가 되기 때문에 \n",
    "# index 에서 date만 가져와서 index 에 넣어줍니다.\n",
    "retention_round.index = retention_round.index.date"
   ]
  },
  {
   "cell_type": "code",
   "execution_count": 72,
   "metadata": {
    "id": "cIAa4l67rMWz",
    "outputId": "14a95ff2-4c96-4712-d0d7-bf1d5255c5e2"
   },
   "outputs": [
    {
     "data": {
      "text/plain": [
       "<AxesSubplot:xlabel='CohortIndex'>"
      ]
     },
     "execution_count": 72,
     "metadata": {},
     "output_type": "execute_result"
    },
    {
     "data": {
      "image/png": "[encoded data removed]",
      "text/plain": [
       "<Figure size 720x360 with 2 Axes>"
      ]
     },
     "metadata": {
      "needs_background": "light"
     },
     "output_type": "display_data"
    }
   ],
   "source": [
    "# 위에서 구한 retention_round 로 heatmap을 그립니다.\n",
    "plt.figure(figsize = (10,5))\n",
    "sns.heatmap(retention_round, cmap='Blues' , annot =True,fmt ='.1f')"
   ]
  },
  {
   "cell_type": "code",
   "execution_count": 73,
   "metadata": {
    "id": "3slUfVYqrMWz"
   },
   "outputs": [],
   "source": [
    "# TimeOfPurchase 는 이제 사용안할꺼라서 del을 사용해 삭제합니다. \n",
    "del df['TimeOfPurchase']"
   ]
  },
  {
   "cell_type": "markdown",
   "metadata": {
    "id": "uaERWpFNrMWz"
   },
   "source": [
    "# Feature engineering\n",
    "We can now begin the creation of out RFM columns. To start off, we would need the timestamp of the last invoice so we can calculate the difference between the timestamp and the invoce date, this should help us calculate the recency metric.\n",
    "\n",
    "이제 RFM 열 생성을 시작할 수 있습니다. 시작하려면 마지막 인보이스의 타임 스탬프가 필요하므로 타임 스탬프와 인보이스 날짜 간의 차이를 계산할 수 있습니다. 이는 최근 성 메트릭을 계산하는 데 도움이됩니다."
   ]
  },
  {
   "cell_type": "code",
   "execution_count": 74,
   "metadata": {},
   "outputs": [
    {
     "data": {
      "text/plain": [
       "datetime.timedelta(days=1)"
      ]
     },
     "execution_count": 74,
     "metadata": {},
     "output_type": "execute_result"
    }
   ],
   "source": [
    "dt.timedelta(days =1)"
   ]
  },
  {
   "cell_type": "code",
   "execution_count": 76,
   "metadata": {},
   "outputs": [
    {
     "data": {
      "text/plain": [
       "Timestamp('2011-12-09 12:50:00')"
      ]
     },
     "execution_count": 76,
     "metadata": {},
     "output_type": "execute_result"
    }
   ],
   "source": [
    "df['InvoiceDate'].max()"
   ]
  },
  {
   "cell_type": "code",
   "execution_count": 77,
   "metadata": {
    "id": "D1ZvxprPrMWz"
   },
   "outputs": [],
   "source": [
    "last_timestamp = df['InvoiceDate'].max() + dt.timedelta(days =1)"
   ]
  },
  {
   "cell_type": "code",
   "execution_count": 78,
   "metadata": {
    "id": "xeElU8BZrMWz",
    "outputId": "b2034597-2a94-46d2-b12a-7981b35e5c70"
   },
   "outputs": [
    {
     "data": {
      "text/plain": [
       "Timestamp('2011-12-10 12:50:00')"
      ]
     },
     "execution_count": 78,
     "metadata": {},
     "output_type": "execute_result"
    }
   ],
   "source": [
    "# Dataset인 df 에서 가장 최근 데이터의 날짜가 무었인지 구하였다.\n",
    "\n",
    "last_timestamp"
   ]
  },
  {
   "cell_type": "markdown",
   "metadata": {
    "id": "AtCad2XhrMWz"
   },
   "source": [
    "## RFM\n",
    "\n",
    "Since this is a Recency, Frequency and Monetary Table, grouping is done based on each CustomerID. Or goal is to group by CustomerID, then calculate how far back the customer made their last purchase, howw often the customer made a purchase from our site and the total amount spent by each customer. This is pretty straighforward and can be done using the aggregate function.\n",
    "\n",
    "Recency(최근성), Frequency(구매빈도), Monetary(구매금액) 그룹화는 각 CustomerID를 기반으로 수행됩니다. 또는 목표는 CustomerID별로 그룹화 한 다음 고객이 마지막으로 구매 한 기간, 고객이 당사 사이트에서 구매 한 빈도 및 각 고객이 소비 한 총 금액을 계산하는 것입니다. 이것은 매우 간단하며 집계 함수를 사용하여 수행 할 수 있습니다.\n",
    "\n",
    "\n",
    "[RFM - 위키백과, 우리 모두의 백과사전](https://ko.wikipedia.org/wiki/RFM)\n",
    "\n",
    "RFM은 가치있는 고객을 추출해내어 이를 기준으로 고객을 분류할 수 있는 매우 간단하면서도 유용하게 사용될 수 있는 방법으로 알려져 있어 마케팅에서 가장 많이 사용되고 있는 분석방법 중 하나이다. RFM은 구매 가능성이 높은 고객을 선정하기 위한 데이터 분석방법으로서, 분석과정을 통해 데이터는 의미있는 정보로 전환된다.\n",
    "\n",
    "* RFM은 Recency, Frequency, Monetary의 약자로 고객의 가치를 다음의 세 가지 기준에 의해 계산하고 있다.\n",
    "\n",
    "    * Recency - 거래의 최근성: 고객이 얼마나 최근에 구입했는가?\n",
    "    * Frequency - 거래빈도: 고객이 얼마나 빈번하게 우리 상품을 구입했나?\n",
    "    * Monetary - 거래규모: 고객이 구입했던 총 금액은 어느 정도인가?\n",
    "\n",
    "\n",
    "* 모형\n",
    "Scoring 기법: RFM의 요인을 각각 5등급으로 등간격으로 분류하는 방법이다.\n",
    "현재 개발된 RFM 모형은 크게 4가지로 분류 할 수 있다. 이 문서의 내용들은 정설이 아니며 신뢰하기 어려움을 전제로 참고해야한다.\n",
    "    * 모델1. RFM 각 요소의 20% rule의 적용\n",
    "    * 모델2. 비율 척도에 의한 양적인 정도의 차이에 따른 등간격의 5등급 분류\n",
    "    * 모델3. 상하 20%를 제외한 등간격 척도에 의한 그룹 분류\n",
    "    * 모델4. 군집 분석에 의한 각 요소 별 5개의 그룹 분류\n",
    "\n",
    "* Data Mining 기법을 이용한 모형\n",
    "* 회귀분석\n",
    "* 선형 회귀 분석을 이용한 모형: 고객의 구매 최근성, 구매 빈도, 구매 금액 등 고객의 수익 기여도를 나타내는 세가지 지표들의 선형결합으로 세가지 지표들을 점수화 한다.\n",
    "* 다중 회귀 분석을 이용한 모형: 각 고객의 구매 행동을 나타내는 R,F,M의 변수들을 독립변수로하고 고객의 미래 구매 행동을 예측하는 기법.\n",
    "* 신경망을 적용한 모형: 로지스틱 회귀 모형을 보완하는 차원에서 연구.\n",
    "* 확률적 RFM모형:Colombo와 Weina의 확률적인 RFM모형은 과거의 고객의 응답 이력으로 고객의 미래 응답을 예측하는 행동모델이다"
   ]
  },
  {
   "cell_type": "code",
   "execution_count": null,
   "metadata": {},
   "outputs": [],
   "source": [
    "df.head(1)"
   ]
  },
  {
   "cell_type": "code",
   "execution_count": 79,
   "metadata": {
    "id": "Q5AS0_UrrMW0"
   },
   "outputs": [
    {
     "data": {
      "text/html": [
       "<div>\n",
       "<style scoped>\n",
       "    .dataframe tbody tr th:only-of-type {\n",
       "        vertical-align: middle;\n",
       "    }\n",
       "\n",
       "    .dataframe tbody tr th {\n",
       "        vertical-align: top;\n",
       "    }\n",
       "\n",
       "    .dataframe thead th {\n",
       "        text-align: right;\n",
       "    }\n",
       "</style>\n",
       "<table border=\"1\" class=\"dataframe\">\n",
       "  <thead>\n",
       "    <tr style=\"text-align: right;\">\n",
       "      <th></th>\n",
       "      <th>InvoiceDate</th>\n",
       "      <th>InvoiceNo</th>\n",
       "      <th>TotalCost</th>\n",
       "    </tr>\n",
       "    <tr>\n",
       "      <th>CustomerID</th>\n",
       "      <th></th>\n",
       "      <th></th>\n",
       "      <th></th>\n",
       "    </tr>\n",
       "  </thead>\n",
       "  <tbody>\n",
       "    <tr>\n",
       "      <th>12346.0</th>\n",
       "      <td>326</td>\n",
       "      <td>1</td>\n",
       "      <td>77183.60</td>\n",
       "    </tr>\n",
       "    <tr>\n",
       "      <th>12347.0</th>\n",
       "      <td>2</td>\n",
       "      <td>182</td>\n",
       "      <td>4310.00</td>\n",
       "    </tr>\n",
       "    <tr>\n",
       "      <th>12348.0</th>\n",
       "      <td>75</td>\n",
       "      <td>31</td>\n",
       "      <td>1797.24</td>\n",
       "    </tr>\n",
       "    <tr>\n",
       "      <th>12349.0</th>\n",
       "      <td>19</td>\n",
       "      <td>73</td>\n",
       "      <td>1757.55</td>\n",
       "    </tr>\n",
       "    <tr>\n",
       "      <th>12350.0</th>\n",
       "      <td>310</td>\n",
       "      <td>17</td>\n",
       "      <td>334.40</td>\n",
       "    </tr>\n",
       "  </tbody>\n",
       "</table>\n",
       "</div>"
      ],
      "text/plain": [
       "            InvoiceDate  InvoiceNo  TotalCost\n",
       "CustomerID                                   \n",
       "12346.0             326          1   77183.60\n",
       "12347.0               2        182    4310.00\n",
       "12348.0              75         31    1797.24\n",
       "12349.0              19         73    1757.55\n",
       "12350.0             310         17     334.40"
      ]
     },
     "execution_count": 79,
     "metadata": {},
     "output_type": "execute_result"
    }
   ],
   "source": [
    "# CustomerID 별로 R, F, M을 구한다.\n",
    "\n",
    "# x.max() 해당 고객이 가장 최근에 구한 일자\n",
    "rfm = df.groupby(['CustomerID']).agg({'InvoiceDate': lambda x : (last_timestamp - x.max()).days, # R\n",
    "                                        'InvoiceNo':'count', # F : InvoiceNo 횟수로 주문횟수를 계산합니다.\n",
    "                                      'TotalCost': 'sum'})   # M : TotalCost 의 합계로 전체 주문 금액을 구합니다.\n",
    "rfm.head()"
   ]
  },
  {
   "cell_type": "code",
   "execution_count": 80,
   "metadata": {
    "id": "0l8JJuecrMW0"
   },
   "outputs": [],
   "source": [
    "# 각 컬럼의 이름을 Recency, Frequency, MonetaryValue 로 변경합니다.\n",
    "rfm.rename(columns={'InvoiceDate':'Recency' ,\n",
    "                    'InvoiceNo':'Frequency', \n",
    "                    'TotalCost':'MonetaryValue'}\n",
    "           ,inplace= True)"
   ]
  },
  {
   "cell_type": "code",
   "execution_count": 81,
   "metadata": {
    "id": "0SR2rQkvrMW0",
    "outputId": "88e05044-8557-4998-9d58-5e47d8583725"
   },
   "outputs": [
    {
     "data": {
      "text/html": [
       "<div>\n",
       "<style scoped>\n",
       "    .dataframe tbody tr th:only-of-type {\n",
       "        vertical-align: middle;\n",
       "    }\n",
       "\n",
       "    .dataframe tbody tr th {\n",
       "        vertical-align: top;\n",
       "    }\n",
       "\n",
       "    .dataframe thead th {\n",
       "        text-align: right;\n",
       "    }\n",
       "</style>\n",
       "<table border=\"1\" class=\"dataframe\">\n",
       "  <thead>\n",
       "    <tr style=\"text-align: right;\">\n",
       "      <th></th>\n",
       "      <th>Recency</th>\n",
       "      <th>Frequency</th>\n",
       "      <th>MonetaryValue</th>\n",
       "    </tr>\n",
       "    <tr>\n",
       "      <th>CustomerID</th>\n",
       "      <th></th>\n",
       "      <th></th>\n",
       "      <th></th>\n",
       "    </tr>\n",
       "  </thead>\n",
       "  <tbody>\n",
       "    <tr>\n",
       "      <th>12346.0</th>\n",
       "      <td>326</td>\n",
       "      <td>1</td>\n",
       "      <td>77183.60</td>\n",
       "    </tr>\n",
       "    <tr>\n",
       "      <th>12347.0</th>\n",
       "      <td>2</td>\n",
       "      <td>182</td>\n",
       "      <td>4310.00</td>\n",
       "    </tr>\n",
       "    <tr>\n",
       "      <th>12348.0</th>\n",
       "      <td>75</td>\n",
       "      <td>31</td>\n",
       "      <td>1797.24</td>\n",
       "    </tr>\n",
       "    <tr>\n",
       "      <th>12349.0</th>\n",
       "      <td>19</td>\n",
       "      <td>73</td>\n",
       "      <td>1757.55</td>\n",
       "    </tr>\n",
       "    <tr>\n",
       "      <th>12350.0</th>\n",
       "      <td>310</td>\n",
       "      <td>17</td>\n",
       "      <td>334.40</td>\n",
       "    </tr>\n",
       "  </tbody>\n",
       "</table>\n",
       "</div>"
      ],
      "text/plain": [
       "            Recency  Frequency  MonetaryValue\n",
       "CustomerID                                   \n",
       "12346.0         326          1       77183.60\n",
       "12347.0           2        182        4310.00\n",
       "12348.0          75         31        1797.24\n",
       "12349.0          19         73        1757.55\n",
       "12350.0         310         17         334.40"
      ]
     },
     "execution_count": 81,
     "metadata": {},
     "output_type": "execute_result"
    }
   ],
   "source": [
    "rfm.head()"
   ]
  },
  {
   "cell_type": "code",
   "execution_count": 82,
   "metadata": {
    "id": "Hvbvo2mzrMW0",
    "outputId": "82c3088c-11f1-41b4-a231-75c49887fdee"
   },
   "outputs": [
    {
     "data": {
      "text/html": [
       "<div>\n",
       "<style scoped>\n",
       "    .dataframe tbody tr th:only-of-type {\n",
       "        vertical-align: middle;\n",
       "    }\n",
       "\n",
       "    .dataframe tbody tr th {\n",
       "        vertical-align: top;\n",
       "    }\n",
       "\n",
       "    .dataframe thead th {\n",
       "        text-align: right;\n",
       "    }\n",
       "</style>\n",
       "<table border=\"1\" class=\"dataframe\">\n",
       "  <thead>\n",
       "    <tr style=\"text-align: right;\">\n",
       "      <th></th>\n",
       "      <th>Recency</th>\n",
       "      <th>Frequency</th>\n",
       "      <th>MonetaryValue</th>\n",
       "    </tr>\n",
       "  </thead>\n",
       "  <tbody>\n",
       "    <tr>\n",
       "      <th>count</th>\n",
       "      <td>4338.000000</td>\n",
       "      <td>4338.000000</td>\n",
       "      <td>4338.000000</td>\n",
       "    </tr>\n",
       "    <tr>\n",
       "      <th>mean</th>\n",
       "      <td>92.583679</td>\n",
       "      <td>90.523513</td>\n",
       "      <td>2009.852304</td>\n",
       "    </tr>\n",
       "    <tr>\n",
       "      <th>std</th>\n",
       "      <td>100.019339</td>\n",
       "      <td>225.507058</td>\n",
       "      <td>8622.507371</td>\n",
       "    </tr>\n",
       "    <tr>\n",
       "      <th>min</th>\n",
       "      <td>1.000000</td>\n",
       "      <td>1.000000</td>\n",
       "      <td>2.900000</td>\n",
       "    </tr>\n",
       "    <tr>\n",
       "      <th>25%</th>\n",
       "      <td>18.000000</td>\n",
       "      <td>17.000000</td>\n",
       "      <td>306.452500</td>\n",
       "    </tr>\n",
       "    <tr>\n",
       "      <th>50%</th>\n",
       "      <td>51.000000</td>\n",
       "      <td>41.000000</td>\n",
       "      <td>668.495000</td>\n",
       "    </tr>\n",
       "    <tr>\n",
       "      <th>75%</th>\n",
       "      <td>142.750000</td>\n",
       "      <td>98.000000</td>\n",
       "      <td>1659.132500</td>\n",
       "    </tr>\n",
       "    <tr>\n",
       "      <th>max</th>\n",
       "      <td>374.000000</td>\n",
       "      <td>7676.000000</td>\n",
       "      <td>280206.020000</td>\n",
       "    </tr>\n",
       "  </tbody>\n",
       "</table>\n",
       "</div>"
      ],
      "text/plain": [
       "           Recency    Frequency  MonetaryValue\n",
       "count  4338.000000  4338.000000    4338.000000\n",
       "mean     92.583679    90.523513    2009.852304\n",
       "std     100.019339   225.507058    8622.507371\n",
       "min       1.000000     1.000000       2.900000\n",
       "25%      18.000000    17.000000     306.452500\n",
       "50%      51.000000    41.000000     668.495000\n",
       "75%     142.750000    98.000000    1659.132500\n",
       "max     374.000000  7676.000000  280206.020000"
      ]
     },
     "execution_count": 82,
     "metadata": {},
     "output_type": "execute_result"
    }
   ],
   "source": [
    "rfm.describe()"
   ]
  },
  {
   "cell_type": "markdown",
   "metadata": {
    "id": "FnALlyV_rMW0"
   },
   "source": [
    "We can now segment the data based on our requirements. For this case study, we'll divide the rfm data into 4 quantiles and assign them a label between 1 and 4. This should help us score each customer and bringing things down to one number can help simplyfying your segmentation process.\n",
    "\n",
    "\n",
    "이제 요구 사항에 따라 데이터를 분류 할 수 있습니다. 이 사례 연구에서는 rfm 데이터를 4 개의 Quantile로 나누고 1에서 4 사이의 레이블을 지정합니다. 이렇게하면 각 고객의 점수를 매기고 하나의 숫자로 항목을 가져 오면 단순히 세분화 프로세스를 단순화하는 데 도움이됩니다."
   ]
  },
  {
   "cell_type": "code",
   "execution_count": 86,
   "metadata": {},
   "outputs": [
    {
     "name": "stdout",
     "output_type": "stream",
     "text": [
      "[4, 3, 2, 1]\n"
     ]
    },
    {
     "data": {
      "text/plain": [
       "[]"
      ]
     },
     "execution_count": 86,
     "metadata": {},
     "output_type": "execute_result"
    }
   ],
   "source": [
    "print(list(range(4,0,-1)))\n",
    "list(range(4,0))"
   ]
  },
  {
   "cell_type": "code",
   "execution_count": 87,
   "metadata": {
    "id": "MozPzGxErMW1"
   },
   "outputs": [],
   "source": [
    "#Building RFM segments\n",
    "\n",
    "r_labels=range(4,0,-1) # R의 경우 값이 작을수록 좋은것이 때문에 작을 수록 높은 점수 부여 \n",
    "f_labels=range(1,5)\n",
    "m_labels=range(1,5)"
   ]
  },
  {
   "cell_type": "code",
   "execution_count": 88,
   "metadata": {},
   "outputs": [],
   "source": [
    "# qcut : 연속한 수치 데이터를 카테고리로 범주화(그룹화) 시켜줌\n",
    "# q : 몇개로 나눌 것인지\n",
    "\n",
    "r_quartiles = pd.qcut(rfm['Recency'], q=4, labels = r_labels)\n",
    "\n",
    "# rfm['Recency'] 값을 4등분하여 앞에서부터 4점, 3점, 2접, 1점으로 만들어줌"
   ]
  },
  {
   "cell_type": "code",
   "execution_count": 89,
   "metadata": {
    "id": "uPIuI-_5rMW1"
   },
   "outputs": [],
   "source": [
    "# qcut을 사용해 R, F, M 세그먼트를 q=4 로 나누고 labels 값은 위에서 지정한 각각의 labels 값으로 지정합니다.\n",
    "r_quartiles = pd.qcut(rfm['Recency'], q=4, labels = r_labels)\n",
    "f_quartiles = pd.qcut(rfm['Frequency'], q=4, labels =f_labels )\n",
    "m_quartiles = pd.qcut(rfm['MonetaryValue'], q=4, labels =m_labels)"
   ]
  },
  {
   "cell_type": "code",
   "execution_count": 92,
   "metadata": {},
   "outputs": [
    {
     "data": {
      "text/html": [
       "<div>\n",
       "<style scoped>\n",
       "    .dataframe tbody tr th:only-of-type {\n",
       "        vertical-align: middle;\n",
       "    }\n",
       "\n",
       "    .dataframe tbody tr th {\n",
       "        vertical-align: top;\n",
       "    }\n",
       "\n",
       "    .dataframe thead th {\n",
       "        text-align: right;\n",
       "    }\n",
       "</style>\n",
       "<table border=\"1\" class=\"dataframe\">\n",
       "  <thead>\n",
       "    <tr style=\"text-align: right;\">\n",
       "      <th></th>\n",
       "      <th>Recency</th>\n",
       "      <th>Frequency</th>\n",
       "      <th>MonetaryValue</th>\n",
       "    </tr>\n",
       "    <tr>\n",
       "      <th>CustomerID</th>\n",
       "      <th></th>\n",
       "      <th></th>\n",
       "      <th></th>\n",
       "    </tr>\n",
       "  </thead>\n",
       "  <tbody>\n",
       "    <tr>\n",
       "      <th>12346.0</th>\n",
       "      <td>326</td>\n",
       "      <td>1</td>\n",
       "      <td>77183.6</td>\n",
       "    </tr>\n",
       "    <tr>\n",
       "      <th>12347.0</th>\n",
       "      <td>2</td>\n",
       "      <td>182</td>\n",
       "      <td>4310.0</td>\n",
       "    </tr>\n",
       "  </tbody>\n",
       "</table>\n",
       "</div>"
      ],
      "text/plain": [
       "            Recency  Frequency  MonetaryValue\n",
       "CustomerID                                   \n",
       "12346.0         326          1        77183.6\n",
       "12347.0           2        182         4310.0"
      ]
     },
     "execution_count": 92,
     "metadata": {},
     "output_type": "execute_result"
    }
   ],
   "source": [
    "rfm.head(2)"
   ]
  },
  {
   "cell_type": "code",
   "execution_count": 93,
   "metadata": {
    "id": "HEDS1C8-rMW1"
   },
   "outputs": [
    {
     "data": {
      "text/html": [
       "<div>\n",
       "<style scoped>\n",
       "    .dataframe tbody tr th:only-of-type {\n",
       "        vertical-align: middle;\n",
       "    }\n",
       "\n",
       "    .dataframe tbody tr th {\n",
       "        vertical-align: top;\n",
       "    }\n",
       "\n",
       "    .dataframe thead th {\n",
       "        text-align: right;\n",
       "    }\n",
       "</style>\n",
       "<table border=\"1\" class=\"dataframe\">\n",
       "  <thead>\n",
       "    <tr style=\"text-align: right;\">\n",
       "      <th></th>\n",
       "      <th>Recency</th>\n",
       "      <th>Frequency</th>\n",
       "      <th>MonetaryValue</th>\n",
       "      <th>R</th>\n",
       "      <th>F</th>\n",
       "      <th>M</th>\n",
       "    </tr>\n",
       "    <tr>\n",
       "      <th>CustomerID</th>\n",
       "      <th></th>\n",
       "      <th></th>\n",
       "      <th></th>\n",
       "      <th></th>\n",
       "      <th></th>\n",
       "      <th></th>\n",
       "    </tr>\n",
       "  </thead>\n",
       "  <tbody>\n",
       "    <tr>\n",
       "      <th>12346.0</th>\n",
       "      <td>326</td>\n",
       "      <td>1</td>\n",
       "      <td>77183.60</td>\n",
       "      <td>1</td>\n",
       "      <td>1</td>\n",
       "      <td>4</td>\n",
       "    </tr>\n",
       "    <tr>\n",
       "      <th>12347.0</th>\n",
       "      <td>2</td>\n",
       "      <td>182</td>\n",
       "      <td>4310.00</td>\n",
       "      <td>4</td>\n",
       "      <td>4</td>\n",
       "      <td>4</td>\n",
       "    </tr>\n",
       "    <tr>\n",
       "      <th>12348.0</th>\n",
       "      <td>75</td>\n",
       "      <td>31</td>\n",
       "      <td>1797.24</td>\n",
       "      <td>2</td>\n",
       "      <td>2</td>\n",
       "      <td>4</td>\n",
       "    </tr>\n",
       "    <tr>\n",
       "      <th>12349.0</th>\n",
       "      <td>19</td>\n",
       "      <td>73</td>\n",
       "      <td>1757.55</td>\n",
       "      <td>3</td>\n",
       "      <td>3</td>\n",
       "      <td>4</td>\n",
       "    </tr>\n",
       "    <tr>\n",
       "      <th>12350.0</th>\n",
       "      <td>310</td>\n",
       "      <td>17</td>\n",
       "      <td>334.40</td>\n",
       "      <td>1</td>\n",
       "      <td>1</td>\n",
       "      <td>2</td>\n",
       "    </tr>\n",
       "  </tbody>\n",
       "</table>\n",
       "</div>"
      ],
      "text/plain": [
       "            Recency  Frequency  MonetaryValue  R  F  M\n",
       "CustomerID                                            \n",
       "12346.0         326          1       77183.60  1  1  4\n",
       "12347.0           2        182        4310.00  4  4  4\n",
       "12348.0          75         31        1797.24  2  2  4\n",
       "12349.0          19         73        1757.55  3  3  4\n",
       "12350.0         310         17         334.40  1  1  2"
      ]
     },
     "execution_count": 93,
     "metadata": {},
     "output_type": "execute_result"
    }
   ],
   "source": [
    "# assign 을 사용해서 rfm 데이터프레임에 구한 값을 넣습니다.\n",
    "\n",
    "rfm = rfm.assign(R=r_quartiles,F=f_quartiles,M=m_quartiles)\n",
    "rfm.head()"
   ]
  },
  {
   "cell_type": "code",
   "execution_count": 99,
   "metadata": {
    "id": "fX1uobJHrMW1",
    "outputId": "c500edbd-b20a-41d3-fac1-c6f6639d81dd"
   },
   "outputs": [
    {
     "data": {
      "text/html": [
       "<div>\n",
       "<style scoped>\n",
       "    .dataframe tbody tr th:only-of-type {\n",
       "        vertical-align: middle;\n",
       "    }\n",
       "\n",
       "    .dataframe tbody tr th {\n",
       "        vertical-align: top;\n",
       "    }\n",
       "\n",
       "    .dataframe thead th {\n",
       "        text-align: right;\n",
       "    }\n",
       "</style>\n",
       "<table border=\"1\" class=\"dataframe\">\n",
       "  <thead>\n",
       "    <tr style=\"text-align: right;\">\n",
       "      <th></th>\n",
       "      <th>Recency</th>\n",
       "      <th>Frequency</th>\n",
       "      <th>MonetaryValue</th>\n",
       "      <th>R</th>\n",
       "      <th>F</th>\n",
       "      <th>M</th>\n",
       "      <th>RFM_Segment</th>\n",
       "      <th>RFM_Score</th>\n",
       "    </tr>\n",
       "    <tr>\n",
       "      <th>CustomerID</th>\n",
       "      <th></th>\n",
       "      <th></th>\n",
       "      <th></th>\n",
       "      <th></th>\n",
       "      <th></th>\n",
       "      <th></th>\n",
       "      <th></th>\n",
       "      <th></th>\n",
       "    </tr>\n",
       "  </thead>\n",
       "  <tbody>\n",
       "    <tr>\n",
       "      <th>18280.0</th>\n",
       "      <td>278</td>\n",
       "      <td>10</td>\n",
       "      <td>180.60</td>\n",
       "      <td>1</td>\n",
       "      <td>1</td>\n",
       "      <td>1</td>\n",
       "      <td>111</td>\n",
       "      <td>3</td>\n",
       "    </tr>\n",
       "    <tr>\n",
       "      <th>18281.0</th>\n",
       "      <td>181</td>\n",
       "      <td>7</td>\n",
       "      <td>80.82</td>\n",
       "      <td>1</td>\n",
       "      <td>1</td>\n",
       "      <td>1</td>\n",
       "      <td>111</td>\n",
       "      <td>3</td>\n",
       "    </tr>\n",
       "    <tr>\n",
       "      <th>18282.0</th>\n",
       "      <td>8</td>\n",
       "      <td>12</td>\n",
       "      <td>178.05</td>\n",
       "      <td>4</td>\n",
       "      <td>1</td>\n",
       "      <td>1</td>\n",
       "      <td>411</td>\n",
       "      <td>6</td>\n",
       "    </tr>\n",
       "    <tr>\n",
       "      <th>18283.0</th>\n",
       "      <td>4</td>\n",
       "      <td>721</td>\n",
       "      <td>2045.53</td>\n",
       "      <td>4</td>\n",
       "      <td>4</td>\n",
       "      <td>4</td>\n",
       "      <td>444</td>\n",
       "      <td>12</td>\n",
       "    </tr>\n",
       "    <tr>\n",
       "      <th>18287.0</th>\n",
       "      <td>43</td>\n",
       "      <td>70</td>\n",
       "      <td>1837.28</td>\n",
       "      <td>3</td>\n",
       "      <td>3</td>\n",
       "      <td>4</td>\n",
       "      <td>334</td>\n",
       "      <td>10</td>\n",
       "    </tr>\n",
       "  </tbody>\n",
       "</table>\n",
       "</div>"
      ],
      "text/plain": [
       "            Recency  Frequency  MonetaryValue  R  F  M RFM_Segment  RFM_Score\n",
       "CustomerID                                                                   \n",
       "18280.0         278         10         180.60  1  1  1         111          3\n",
       "18281.0         181          7          80.82  1  1  1         111          3\n",
       "18282.0           8         12         178.05  4  1  1         411          6\n",
       "18283.0           4        721        2045.53  4  4  4         444         12\n",
       "18287.0          43         70        1837.28  3  3  4         334         10"
      ]
     },
     "execution_count": 99,
     "metadata": {},
     "output_type": "execute_result"
    }
   ],
   "source": [
    "# Build RFM Segment and RFM Score\n",
    "def add_rfm(x) :\n",
    "    return str(x['R']) + str(x['F']) + str(x['M']) # R ,F , M 값을 다 더한다.\n",
    "\n",
    "rfm['RFM_Segment'] = rfm.apply(add_rfm,axis=1 )\n",
    "# rfm['RFM_Segment'] = str(rfm['R']) + str(rfm['F']) + str(rfm['M'])\n",
    "\n",
    "\n",
    "rfm['RFM_Score'] = rfm[['R','F','M']].sum(axis=1)\n",
    "\n",
    "rfm.tail()"
   ]
  },
  {
   "cell_type": "markdown",
   "metadata": {
    "id": "utNe43X9rMW1"
   },
   "source": [
    "We can get a brief over view of how are segments are performing and in which segments most of our customers are present. \n",
    "\n",
    "세그먼트의 실적 및 대부분의 고객이있는 세그먼트에 대해 간략하게 살펴볼 수 있습니다."
   ]
  },
  {
   "cell_type": "code",
   "execution_count": null,
   "metadata": {},
   "outputs": [],
   "source": []
  },
  {
   "cell_type": "code",
   "execution_count": 100,
   "metadata": {
    "id": "XAmga_xDrMW1",
    "outputId": "77dc2a17-aae9-4958-af49-72cb6f3e5b98"
   },
   "outputs": [
    {
     "data": {
      "text/html": [
       "<div>\n",
       "<style scoped>\n",
       "    .dataframe tbody tr th:only-of-type {\n",
       "        vertical-align: middle;\n",
       "    }\n",
       "\n",
       "    .dataframe tbody tr th {\n",
       "        vertical-align: top;\n",
       "    }\n",
       "\n",
       "    .dataframe thead th {\n",
       "        text-align: right;\n",
       "    }\n",
       "</style>\n",
       "<table border=\"1\" class=\"dataframe\">\n",
       "  <thead>\n",
       "    <tr style=\"text-align: right;\">\n",
       "      <th></th>\n",
       "      <th>Recency</th>\n",
       "      <th>Frequency</th>\n",
       "      <th>MonetaryValue</th>\n",
       "    </tr>\n",
       "    <tr>\n",
       "      <th>RFM_Score</th>\n",
       "      <th></th>\n",
       "      <th></th>\n",
       "      <th></th>\n",
       "    </tr>\n",
       "  </thead>\n",
       "  <tbody>\n",
       "    <tr>\n",
       "      <th>3</th>\n",
       "      <td>260.6</td>\n",
       "      <td>8.2</td>\n",
       "      <td>157.0</td>\n",
       "    </tr>\n",
       "    <tr>\n",
       "      <th>4</th>\n",
       "      <td>177.2</td>\n",
       "      <td>13.6</td>\n",
       "      <td>240.0</td>\n",
       "    </tr>\n",
       "    <tr>\n",
       "      <th>5</th>\n",
       "      <td>152.9</td>\n",
       "      <td>21.2</td>\n",
       "      <td>366.6</td>\n",
       "    </tr>\n",
       "    <tr>\n",
       "      <th>6</th>\n",
       "      <td>96.1</td>\n",
       "      <td>28.0</td>\n",
       "      <td>820.1</td>\n",
       "    </tr>\n",
       "    <tr>\n",
       "      <th>7</th>\n",
       "      <td>79.6</td>\n",
       "      <td>37.9</td>\n",
       "      <td>759.3</td>\n",
       "    </tr>\n",
       "    <tr>\n",
       "      <th>8</th>\n",
       "      <td>64.0</td>\n",
       "      <td>55.9</td>\n",
       "      <td>986.6</td>\n",
       "    </tr>\n",
       "    <tr>\n",
       "      <th>9</th>\n",
       "      <td>46.1</td>\n",
       "      <td>78.9</td>\n",
       "      <td>1391.5</td>\n",
       "    </tr>\n",
       "    <tr>\n",
       "      <th>10</th>\n",
       "      <td>32.4</td>\n",
       "      <td>110.5</td>\n",
       "      <td>2056.4</td>\n",
       "    </tr>\n",
       "    <tr>\n",
       "      <th>11</th>\n",
       "      <td>21.3</td>\n",
       "      <td>186.9</td>\n",
       "      <td>4062.0</td>\n",
       "    </tr>\n",
       "    <tr>\n",
       "      <th>12</th>\n",
       "      <td>7.2</td>\n",
       "      <td>367.8</td>\n",
       "      <td>9285.9</td>\n",
       "    </tr>\n",
       "  </tbody>\n",
       "</table>\n",
       "</div>"
      ],
      "text/plain": [
       "           Recency  Frequency  MonetaryValue\n",
       "RFM_Score                                   \n",
       "3            260.6        8.2          157.0\n",
       "4            177.2       13.6          240.0\n",
       "5            152.9       21.2          366.6\n",
       "6             96.1       28.0          820.1\n",
       "7             79.6       37.9          759.3\n",
       "8             64.0       55.9          986.6\n",
       "9             46.1       78.9         1391.5\n",
       "10            32.4      110.5         2056.4\n",
       "11            21.3      186.9         4062.0\n",
       "12             7.2      367.8         9285.9"
      ]
     },
     "execution_count": 100,
     "metadata": {},
     "output_type": "execute_result"
    }
   ],
   "source": [
    "# groupby 를 통해 RFM_Score 의 각 수치 평균 값을 구합니다.\n",
    "rfm.groupby('RFM_Score').agg({'Recency': 'mean', # Recency 의 평균\n",
    "                             'Frequency' : 'mean', # Frequency 의 평균\n",
    "                             'MonetaryValue':'mean' # MonetaryValue 의 평균\n",
    "                             }).round(1)"
   ]
  },
  {
   "cell_type": "markdown",
   "metadata": {
    "id": "KAtwJq2NrMW2"
   },
   "source": [
    "To narrow down your targeting process, you would want to label your customers better, based on their RFM scores. Again, it depends on how much work you want to put into your customization. You may have the resources available and preparing marketing communications isn't an issue, if that's the case having more segments can provide a more personalized experience.\n",
    "\n",
    "\n",
    "타겟팅 프로세스의 범위를 좁히려면 고객의 RFM 점수를 기반으로 고객에게 더 나은 라벨을 지정해야합니다. 다시 말하지만, 그것은 당신이 커스터마이징하기 위해 얼마나 많은 일을할지에 달려 있습니다. 더 많은 세그먼트가 더 개인화 된 경험을 제공 할 수있는 경우 리소스를 사용할 수 있고 마케팅 커뮤니케이션 준비가 문제가되지 않을 수 있습니다."
   ]
  },
  {
   "cell_type": "code",
   "execution_count": 102,
   "metadata": {
    "id": "ONrxRuX9rMW2",
    "outputId": "ab81fa8c-64b6-412c-841b-acad6b74dc4a",
    "scrolled": true
   },
   "outputs": [
    {
     "data": {
      "text/html": [
       "<div>\n",
       "<style scoped>\n",
       "    .dataframe tbody tr th:only-of-type {\n",
       "        vertical-align: middle;\n",
       "    }\n",
       "\n",
       "    .dataframe tbody tr th {\n",
       "        vertical-align: top;\n",
       "    }\n",
       "\n",
       "    .dataframe thead th {\n",
       "        text-align: right;\n",
       "    }\n",
       "</style>\n",
       "<table border=\"1\" class=\"dataframe\">\n",
       "  <thead>\n",
       "    <tr style=\"text-align: right;\">\n",
       "      <th></th>\n",
       "      <th>Recency</th>\n",
       "      <th>Frequency</th>\n",
       "      <th>MonetaryValue</th>\n",
       "    </tr>\n",
       "    <tr>\n",
       "      <th>General_Segment</th>\n",
       "      <th></th>\n",
       "      <th></th>\n",
       "      <th></th>\n",
       "    </tr>\n",
       "  </thead>\n",
       "  <tbody>\n",
       "    <tr>\n",
       "      <th>Low</th>\n",
       "      <td>192.2</td>\n",
       "      <td>15.1</td>\n",
       "      <td>266.3</td>\n",
       "    </tr>\n",
       "    <tr>\n",
       "      <th>Middle</th>\n",
       "      <td>72.1</td>\n",
       "      <td>49.4</td>\n",
       "      <td>978.8</td>\n",
       "    </tr>\n",
       "    <tr>\n",
       "      <th>Top</th>\n",
       "      <td>20.1</td>\n",
       "      <td>225.6</td>\n",
       "      <td>5246.8</td>\n",
       "    </tr>\n",
       "  </tbody>\n",
       "</table>\n",
       "</div>"
      ],
      "text/plain": [
       "                 Recency  Frequency  MonetaryValue\n",
       "General_Segment                                   \n",
       "Low                192.2       15.1          266.3\n",
       "Middle              72.1       49.4          978.8\n",
       "Top                 20.1      225.6         5246.8"
      ]
     },
     "execution_count": 102,
     "metadata": {},
     "output_type": "execute_result"
    }
   ],
   "source": [
    "def segments(df):\n",
    "    if df['RFM_Score'] > 9 :\n",
    "        return 'Top'\n",
    "    elif (df['RFM_Score'] > 5) and (df['RFM_Score'] <= 9 ):\n",
    "        return 'Middle'\n",
    "    else:  \n",
    "        return 'Low'\n",
    "# 이렇게 내가 범위를 정해 줄 수도 있고, 위에서 쓴 qcut 도 사용 가능     \n",
    "\n",
    "\n",
    "# 위에서 구한 segments 함수를 General_Segment 에 적용합니다.\n",
    "rfm['General_Segment'] = rfm.apply(segments,axis=1)\n",
    "\n",
    "# General_Segment 로 범주화 한 Recency, Frequency 의 평균값을 구하고\n",
    "# MonetaryValue 는 평균과 count 값을 함께 구합니다. \n",
    "rfm.groupby('General_Segment').agg({'Recency': 'mean',\n",
    "                                    'Frequency' :'mean',\n",
    "                                    'MonetaryValue' : 'mean'\n",
    "                                   }).round(1)"
   ]
  },
  {
   "cell_type": "code",
   "execution_count": 103,
   "metadata": {},
   "outputs": [
    {
     "data": {
      "text/html": [
       "<div>\n",
       "<style scoped>\n",
       "    .dataframe tbody tr th:only-of-type {\n",
       "        vertical-align: middle;\n",
       "    }\n",
       "\n",
       "    .dataframe tbody tr th {\n",
       "        vertical-align: top;\n",
       "    }\n",
       "\n",
       "    .dataframe thead th {\n",
       "        text-align: right;\n",
       "    }\n",
       "</style>\n",
       "<table border=\"1\" class=\"dataframe\">\n",
       "  <thead>\n",
       "    <tr style=\"text-align: right;\">\n",
       "      <th></th>\n",
       "      <th>Recency</th>\n",
       "      <th>Frequency</th>\n",
       "      <th>MonetaryValue</th>\n",
       "      <th>R</th>\n",
       "      <th>F</th>\n",
       "      <th>M</th>\n",
       "      <th>RFM_Segment</th>\n",
       "      <th>RFM_Score</th>\n",
       "      <th>General_Segment</th>\n",
       "    </tr>\n",
       "    <tr>\n",
       "      <th>CustomerID</th>\n",
       "      <th></th>\n",
       "      <th></th>\n",
       "      <th></th>\n",
       "      <th></th>\n",
       "      <th></th>\n",
       "      <th></th>\n",
       "      <th></th>\n",
       "      <th></th>\n",
       "      <th></th>\n",
       "    </tr>\n",
       "  </thead>\n",
       "  <tbody>\n",
       "    <tr>\n",
       "      <th>12346.0</th>\n",
       "      <td>326</td>\n",
       "      <td>1</td>\n",
       "      <td>77183.60</td>\n",
       "      <td>1</td>\n",
       "      <td>1</td>\n",
       "      <td>4</td>\n",
       "      <td>114</td>\n",
       "      <td>6</td>\n",
       "      <td>Middle</td>\n",
       "    </tr>\n",
       "    <tr>\n",
       "      <th>12347.0</th>\n",
       "      <td>2</td>\n",
       "      <td>182</td>\n",
       "      <td>4310.00</td>\n",
       "      <td>4</td>\n",
       "      <td>4</td>\n",
       "      <td>4</td>\n",
       "      <td>444</td>\n",
       "      <td>12</td>\n",
       "      <td>Top</td>\n",
       "    </tr>\n",
       "    <tr>\n",
       "      <th>12348.0</th>\n",
       "      <td>75</td>\n",
       "      <td>31</td>\n",
       "      <td>1797.24</td>\n",
       "      <td>2</td>\n",
       "      <td>2</td>\n",
       "      <td>4</td>\n",
       "      <td>224</td>\n",
       "      <td>8</td>\n",
       "      <td>Middle</td>\n",
       "    </tr>\n",
       "  </tbody>\n",
       "</table>\n",
       "</div>"
      ],
      "text/plain": [
       "            Recency  Frequency  MonetaryValue  R  F  M RFM_Segment  RFM_Score  \\\n",
       "CustomerID                                                                      \n",
       "12346.0         326          1       77183.60  1  1  4         114          6   \n",
       "12347.0           2        182        4310.00  4  4  4         444         12   \n",
       "12348.0          75         31        1797.24  2  2  4         224          8   \n",
       "\n",
       "           General_Segment  \n",
       "CustomerID                  \n",
       "12346.0             Middle  \n",
       "12347.0                Top  \n",
       "12348.0             Middle  "
      ]
     },
     "execution_count": 103,
     "metadata": {},
     "output_type": "execute_result"
    }
   ],
   "source": [
    "rfm.head(3)"
   ]
  },
  {
   "cell_type": "code",
   "execution_count": 105,
   "metadata": {
    "id": "xQN0mjvlrMW3"
   },
   "outputs": [
    {
     "data": {
      "text/html": [
       "<div>\n",
       "<style scoped>\n",
       "    .dataframe tbody tr th:only-of-type {\n",
       "        vertical-align: middle;\n",
       "    }\n",
       "\n",
       "    .dataframe tbody tr th {\n",
       "        vertical-align: top;\n",
       "    }\n",
       "\n",
       "    .dataframe thead th {\n",
       "        text-align: right;\n",
       "    }\n",
       "</style>\n",
       "<table border=\"1\" class=\"dataframe\">\n",
       "  <thead>\n",
       "    <tr style=\"text-align: right;\">\n",
       "      <th></th>\n",
       "      <th>Recency</th>\n",
       "      <th>Frequency</th>\n",
       "      <th>MonetaryValue</th>\n",
       "    </tr>\n",
       "    <tr>\n",
       "      <th>CustomerID</th>\n",
       "      <th></th>\n",
       "      <th></th>\n",
       "      <th></th>\n",
       "    </tr>\n",
       "  </thead>\n",
       "  <tbody>\n",
       "    <tr>\n",
       "      <th>12346.0</th>\n",
       "      <td>326</td>\n",
       "      <td>1</td>\n",
       "      <td>77183.60</td>\n",
       "    </tr>\n",
       "    <tr>\n",
       "      <th>12347.0</th>\n",
       "      <td>2</td>\n",
       "      <td>182</td>\n",
       "      <td>4310.00</td>\n",
       "    </tr>\n",
       "    <tr>\n",
       "      <th>12348.0</th>\n",
       "      <td>75</td>\n",
       "      <td>31</td>\n",
       "      <td>1797.24</td>\n",
       "    </tr>\n",
       "    <tr>\n",
       "      <th>12349.0</th>\n",
       "      <td>19</td>\n",
       "      <td>73</td>\n",
       "      <td>1757.55</td>\n",
       "    </tr>\n",
       "    <tr>\n",
       "      <th>12350.0</th>\n",
       "      <td>310</td>\n",
       "      <td>17</td>\n",
       "      <td>334.40</td>\n",
       "    </tr>\n",
       "  </tbody>\n",
       "</table>\n",
       "</div>"
      ],
      "text/plain": [
       "            Recency  Frequency  MonetaryValue\n",
       "CustomerID                                   \n",
       "12346.0         326          1       77183.60\n",
       "12347.0           2        182        4310.00\n",
       "12348.0          75         31        1797.24\n",
       "12349.0          19         73        1757.55\n",
       "12350.0         310         17         334.40"
      ]
     },
     "execution_count": 105,
     "metadata": {},
     "output_type": "execute_result"
    }
   ],
   "source": [
    "rfm_cluster = rfm.iloc[:,0:3]\n",
    "rfm_cluster.head()"
   ]
  },
  {
   "cell_type": "markdown",
   "metadata": {
    "id": "YD0f7eRMrMW3"
   },
   "source": [
    "## K-Means Clustering\n",
    "Let's create a spearate dataframe which we can use to perform our clustering. This is just to avoid getting too messy with our columns.\n",
    "\n",
    "클러스터링을 수행하는 데 사용할 수있는 별도의 데이터 프레임을 만들어 보겠습니다. 이것은 열이 너무 지저분 해지지 않도록하기위한 것입니다."
   ]
  },
  {
   "cell_type": "code",
   "execution_count": 106,
   "metadata": {
    "id": "39kZ-uzhrMW3",
    "outputId": "cb507e15-820b-49f1-aa48-c43f0dbd91ab"
   },
   "outputs": [
    {
     "data": {
      "text/html": [
       "<div>\n",
       "<style scoped>\n",
       "    .dataframe tbody tr th:only-of-type {\n",
       "        vertical-align: middle;\n",
       "    }\n",
       "\n",
       "    .dataframe tbody tr th {\n",
       "        vertical-align: top;\n",
       "    }\n",
       "\n",
       "    .dataframe thead th {\n",
       "        text-align: right;\n",
       "    }\n",
       "</style>\n",
       "<table border=\"1\" class=\"dataframe\">\n",
       "  <thead>\n",
       "    <tr style=\"text-align: right;\">\n",
       "      <th></th>\n",
       "      <th>Recency</th>\n",
       "      <th>Frequency</th>\n",
       "      <th>MonetaryValue</th>\n",
       "    </tr>\n",
       "  </thead>\n",
       "  <tbody>\n",
       "    <tr>\n",
       "      <th>count</th>\n",
       "      <td>4338.000000</td>\n",
       "      <td>4338.000000</td>\n",
       "      <td>4338.000000</td>\n",
       "    </tr>\n",
       "    <tr>\n",
       "      <th>mean</th>\n",
       "      <td>92.583679</td>\n",
       "      <td>90.523513</td>\n",
       "      <td>2009.852304</td>\n",
       "    </tr>\n",
       "    <tr>\n",
       "      <th>std</th>\n",
       "      <td>100.019339</td>\n",
       "      <td>225.507058</td>\n",
       "      <td>8622.507371</td>\n",
       "    </tr>\n",
       "    <tr>\n",
       "      <th>min</th>\n",
       "      <td>1.000000</td>\n",
       "      <td>1.000000</td>\n",
       "      <td>2.900000</td>\n",
       "    </tr>\n",
       "    <tr>\n",
       "      <th>25%</th>\n",
       "      <td>18.000000</td>\n",
       "      <td>17.000000</td>\n",
       "      <td>306.452500</td>\n",
       "    </tr>\n",
       "    <tr>\n",
       "      <th>50%</th>\n",
       "      <td>51.000000</td>\n",
       "      <td>41.000000</td>\n",
       "      <td>668.495000</td>\n",
       "    </tr>\n",
       "    <tr>\n",
       "      <th>75%</th>\n",
       "      <td>142.750000</td>\n",
       "      <td>98.000000</td>\n",
       "      <td>1659.132500</td>\n",
       "    </tr>\n",
       "    <tr>\n",
       "      <th>max</th>\n",
       "      <td>374.000000</td>\n",
       "      <td>7676.000000</td>\n",
       "      <td>280206.020000</td>\n",
       "    </tr>\n",
       "  </tbody>\n",
       "</table>\n",
       "</div>"
      ],
      "text/plain": [
       "           Recency    Frequency  MonetaryValue\n",
       "count  4338.000000  4338.000000    4338.000000\n",
       "mean     92.583679    90.523513    2009.852304\n",
       "std     100.019339   225.507058    8622.507371\n",
       "min       1.000000     1.000000       2.900000\n",
       "25%      18.000000    17.000000     306.452500\n",
       "50%      51.000000    41.000000     668.495000\n",
       "75%     142.750000    98.000000    1659.132500\n",
       "max     374.000000  7676.000000  280206.020000"
      ]
     },
     "execution_count": 106,
     "metadata": {},
     "output_type": "execute_result"
    }
   ],
   "source": [
    "rfm_cluster.describe()"
   ]
  },
  {
   "cell_type": "code",
   "execution_count": 107,
   "metadata": {
    "id": "1DNDK6o-rMW3",
    "outputId": "bd9dbb20-2945-4579-826b-03600f71ff26"
   },
   "outputs": [
    {
     "data": {
      "text/plain": [
       "<AxesSubplot:xlabel='MonetaryValue', ylabel='Density'>"
      ]
     },
     "execution_count": 107,
     "metadata": {},
     "output_type": "execute_result"
    },
    {
     "data": {
      "image/png": "[encoded data removed]",
      "text/plain": [
       "<Figure size 1800x360 with 3 Axes>"
      ]
     },
     "metadata": {
      "needs_background": "light"
     },
     "output_type": "display_data"
    }
   ],
   "source": [
    "f,ax = plt.subplots(figsize=(25, 5))\n",
    "plt.subplot(1, 3, 1); sns.kdeplot(rfm_cluster['Recency'])\n",
    "plt.subplot(1, 3, 2); sns.kdeplot(rfm_cluster['Frequency'])\n",
    "plt.subplot(1, 3, 3); sns.kdeplot(rfm_cluster['MonetaryValue'])\n",
    "\n",
    "# Frequency , MonetaryValue 와 같이 그래프가 한 쪽으로 치우쳐져 있으면 머신러닝 알고리즘이 해석하기 어렵다. -> 정규분포 형태로 바꾼다."
   ]
  },
  {
   "cell_type": "markdown",
   "metadata": {
    "id": "3ndeLEJ2rMW4"
   },
   "source": [
    "As we can see from the plots above, the data is fairly skewed and it is generally good practice to have the mean and variance normalized before we can perform a clustering. If we didn't do so, we would have one feature dominating our model. To centralize our data we can perform a simple log transform.\n",
    "\n",
    "위의 그림에서 알 수 있듯이 데이터가 왜곡되어 있으며 일반적으로 군집을 수행하기 전에 평균과 분산을 정규화하는 것이 좋습니다. 그렇게하지 않으면 모델을 지배하는 기능이 하나 있습니다. 데이터를 중앙 집중화하기 위해 간단한 로그 변환을 수행 할 수 있습니다."
   ]
  },
  {
   "cell_type": "markdown",
   "metadata": {},
   "source": [
    "* 방법1 ) 로그"
   ]
  },
  {
   "cell_type": "code",
   "execution_count": 108,
   "metadata": {
    "id": "WQyGnNd6rMW4"
   },
   "outputs": [],
   "source": [
    "rfm_cluster_log = np.log(rfm_cluster)"
   ]
  },
  {
   "cell_type": "code",
   "execution_count": 109,
   "metadata": {
    "id": "d9-qjJpMrMW5",
    "outputId": "b1e4adcc-9b35-411d-ee19-a1c1268a88f9"
   },
   "outputs": [
    {
     "data": {
      "text/html": [
       "<div>\n",
       "<style scoped>\n",
       "    .dataframe tbody tr th:only-of-type {\n",
       "        vertical-align: middle;\n",
       "    }\n",
       "\n",
       "    .dataframe tbody tr th {\n",
       "        vertical-align: top;\n",
       "    }\n",
       "\n",
       "    .dataframe thead th {\n",
       "        text-align: right;\n",
       "    }\n",
       "</style>\n",
       "<table border=\"1\" class=\"dataframe\">\n",
       "  <thead>\n",
       "    <tr style=\"text-align: right;\">\n",
       "      <th></th>\n",
       "      <th>Recency</th>\n",
       "      <th>Frequency</th>\n",
       "      <th>MonetaryValue</th>\n",
       "    </tr>\n",
       "  </thead>\n",
       "  <tbody>\n",
       "    <tr>\n",
       "      <th>count</th>\n",
       "      <td>4338.000000</td>\n",
       "      <td>4338.000000</td>\n",
       "      <td>4338.000000</td>\n",
       "    </tr>\n",
       "    <tr>\n",
       "      <th>mean</th>\n",
       "      <td>3.768762</td>\n",
       "      <td>3.671429</td>\n",
       "      <td>6.583176</td>\n",
       "    </tr>\n",
       "    <tr>\n",
       "      <th>std</th>\n",
       "      <td>1.431498</td>\n",
       "      <td>1.321051</td>\n",
       "      <td>1.261833</td>\n",
       "    </tr>\n",
       "    <tr>\n",
       "      <th>min</th>\n",
       "      <td>0.000000</td>\n",
       "      <td>0.000000</td>\n",
       "      <td>1.064711</td>\n",
       "    </tr>\n",
       "    <tr>\n",
       "      <th>25%</th>\n",
       "      <td>2.890372</td>\n",
       "      <td>2.833213</td>\n",
       "      <td>5.725063</td>\n",
       "    </tr>\n",
       "    <tr>\n",
       "      <th>50%</th>\n",
       "      <td>3.931826</td>\n",
       "      <td>3.713572</td>\n",
       "      <td>6.505029</td>\n",
       "    </tr>\n",
       "    <tr>\n",
       "      <th>75%</th>\n",
       "      <td>4.961090</td>\n",
       "      <td>4.584967</td>\n",
       "      <td>7.414050</td>\n",
       "    </tr>\n",
       "    <tr>\n",
       "      <th>max</th>\n",
       "      <td>5.924256</td>\n",
       "      <td>8.945854</td>\n",
       "      <td>12.543280</td>\n",
       "    </tr>\n",
       "  </tbody>\n",
       "</table>\n",
       "</div>"
      ],
      "text/plain": [
       "           Recency    Frequency  MonetaryValue\n",
       "count  4338.000000  4338.000000    4338.000000\n",
       "mean      3.768762     3.671429       6.583176\n",
       "std       1.431498     1.321051       1.261833\n",
       "min       0.000000     0.000000       1.064711\n",
       "25%       2.890372     2.833213       5.725063\n",
       "50%       3.931826     3.713572       6.505029\n",
       "75%       4.961090     4.584967       7.414050\n",
       "max       5.924256     8.945854      12.543280"
      ]
     },
     "execution_count": 109,
     "metadata": {},
     "output_type": "execute_result"
    }
   ],
   "source": [
    "rfm_cluster_log.describe()"
   ]
  },
  {
   "cell_type": "code",
   "execution_count": 111,
   "metadata": {
    "id": "1LeRLgBNrMW5",
    "outputId": "ee9bf2f7-e432-41b1-c848-fdf91b0ae7b3"
   },
   "outputs": [
    {
     "data": {
      "text/plain": [
       "<AxesSubplot:xlabel='MonetaryValue', ylabel='Density'>"
      ]
     },
     "execution_count": 111,
     "metadata": {},
     "output_type": "execute_result"
    },
    {
     "data": {
      "image/png": "[encoded data removed]",
      "text/plain": [
       "<Figure size 1800x360 with 3 Axes>"
      ]
     },
     "metadata": {
      "needs_background": "light"
     },
     "output_type": "display_data"
    }
   ],
   "source": [
    "# 위에서 로그변환한 데이터를 distplot 으로 그려봅니다.\n",
    "f,ax = plt.subplots(figsize=(25, 5))\n",
    "plt.subplot(1, 3, 1); sns.kdeplot(rfm_cluster_log['Recency'])\n",
    "plt.subplot(1, 3, 2); sns.kdeplot(rfm_cluster_log['Frequency'])\n",
    "plt.subplot(1, 3, 3); sns.kdeplot(rfm_cluster_log['MonetaryValue'])"
   ]
  },
  {
   "cell_type": "markdown",
   "metadata": {},
   "source": [
    "* 방법2 ) sklearn에서 제공하는 Scaler 사용\n",
    "    * StandardScaler : 평균을 0으로 만들고, 데이터를 단위 분사에 맞게 조정하여 표준 정규 분포를 따르게 스케일링"
   ]
  },
  {
   "cell_type": "code",
   "execution_count": 112,
   "metadata": {
    "id": "g61KJ8ZQrMW5"
   },
   "outputs": [],
   "source": [
    "from sklearn.preprocessing import StandardScaler"
   ]
  },
  {
   "cell_type": "code",
   "execution_count": 113,
   "metadata": {
    "id": "wS98wjParMW6"
   },
   "outputs": [],
   "source": [
    "scaler = StandardScaler()"
   ]
  },
  {
   "cell_type": "code",
   "execution_count": 114,
   "metadata": {
    "id": "cSgfpj0grMW6",
    "outputId": "a97b5665-682c-4e23-8562-564ac65d98fa"
   },
   "outputs": [
    {
     "data": {
      "text/plain": [
       "StandardScaler()"
      ]
     },
     "execution_count": 114,
     "metadata": {},
     "output_type": "execute_result"
    }
   ],
   "source": [
    "scaler.fit(rfm_cluster_log)"
   ]
  },
  {
   "cell_type": "code",
   "execution_count": 115,
   "metadata": {
    "id": "SK5wmrbBrMW6"
   },
   "outputs": [],
   "source": [
    "rfm_norm = scaler.fit_transform(rfm_cluster_log)"
   ]
  },
  {
   "cell_type": "code",
   "execution_count": 117,
   "metadata": {
    "id": "KeslGb6CrMW6"
   },
   "outputs": [
    {
     "data": {
      "text/html": [
       "<div>\n",
       "<style scoped>\n",
       "    .dataframe tbody tr th:only-of-type {\n",
       "        vertical-align: middle;\n",
       "    }\n",
       "\n",
       "    .dataframe tbody tr th {\n",
       "        vertical-align: top;\n",
       "    }\n",
       "\n",
       "    .dataframe thead th {\n",
       "        text-align: right;\n",
       "    }\n",
       "</style>\n",
       "<table border=\"1\" class=\"dataframe\">\n",
       "  <thead>\n",
       "    <tr style=\"text-align: right;\">\n",
       "      <th></th>\n",
       "      <th>Recency</th>\n",
       "      <th>Frequency</th>\n",
       "      <th>MonetaryValue</th>\n",
       "    </tr>\n",
       "    <tr>\n",
       "      <th>CustomerID</th>\n",
       "      <th></th>\n",
       "      <th></th>\n",
       "      <th></th>\n",
       "    </tr>\n",
       "  </thead>\n",
       "  <tbody>\n",
       "    <tr>\n",
       "      <th>12346.0</th>\n",
       "      <td>1.409969</td>\n",
       "      <td>-2.779493</td>\n",
       "      <td>3.702000</td>\n",
       "    </tr>\n",
       "    <tr>\n",
       "      <th>12347.0</th>\n",
       "      <td>-2.148777</td>\n",
       "      <td>1.160254</td>\n",
       "      <td>1.415182</td>\n",
       "    </tr>\n",
       "    <tr>\n",
       "      <th>12348.0</th>\n",
       "      <td>0.383367</td>\n",
       "      <td>-0.179758</td>\n",
       "      <td>0.721916</td>\n",
       "    </tr>\n",
       "    <tr>\n",
       "      <th>12349.0</th>\n",
       "      <td>-0.575913</td>\n",
       "      <td>0.468644</td>\n",
       "      <td>0.704216</td>\n",
       "    </tr>\n",
       "    <tr>\n",
       "      <th>12350.0</th>\n",
       "      <td>1.374810</td>\n",
       "      <td>-0.634580</td>\n",
       "      <td>-0.610958</td>\n",
       "    </tr>\n",
       "    <tr>\n",
       "      <th>...</th>\n",
       "      <td>...</td>\n",
       "      <td>...</td>\n",
       "      <td>...</td>\n",
       "    </tr>\n",
       "    <tr>\n",
       "      <th>18280.0</th>\n",
       "      <td>1.298691</td>\n",
       "      <td>-1.036297</td>\n",
       "      <td>-1.099235</td>\n",
       "    </tr>\n",
       "    <tr>\n",
       "      <th>18281.0</th>\n",
       "      <td>0.998884</td>\n",
       "      <td>-1.306322</td>\n",
       "      <td>-1.736525</td>\n",
       "    </tr>\n",
       "    <tr>\n",
       "      <th>18282.0</th>\n",
       "      <td>-1.180243</td>\n",
       "      <td>-0.898269</td>\n",
       "      <td>-1.110506</td>\n",
       "    </tr>\n",
       "    <tr>\n",
       "      <th>18283.0</th>\n",
       "      <td>-1.664510</td>\n",
       "      <td>2.202448</td>\n",
       "      <td>0.824481</td>\n",
       "    </tr>\n",
       "    <tr>\n",
       "      <th>18287.0</th>\n",
       "      <td>-0.005283</td>\n",
       "      <td>0.436874</td>\n",
       "      <td>0.739380</td>\n",
       "    </tr>\n",
       "  </tbody>\n",
       "</table>\n",
       "<p>4338 rows × 3 columns</p>\n",
       "</div>"
      ],
      "text/plain": [
       "             Recency  Frequency  MonetaryValue\n",
       "CustomerID                                    \n",
       "12346.0     1.409969  -2.779493       3.702000\n",
       "12347.0    -2.148777   1.160254       1.415182\n",
       "12348.0     0.383367  -0.179758       0.721916\n",
       "12349.0    -0.575913   0.468644       0.704216\n",
       "12350.0     1.374810  -0.634580      -0.610958\n",
       "...              ...        ...            ...\n",
       "18280.0     1.298691  -1.036297      -1.099235\n",
       "18281.0     0.998884  -1.306322      -1.736525\n",
       "18282.0    -1.180243  -0.898269      -1.110506\n",
       "18283.0    -1.664510   2.202448       0.824481\n",
       "18287.0    -0.005283   0.436874       0.739380\n",
       "\n",
       "[4338 rows x 3 columns]"
      ]
     },
     "execution_count": 117,
     "metadata": {},
     "output_type": "execute_result"
    }
   ],
   "source": [
    "rfm_norm = pd.DataFrame(data=rfm_norm, index=rfm_cluster_log.index, columns=rfm_cluster_log.columns)\n",
    "rfm_norm"
   ]
  },
  {
   "cell_type": "code",
   "execution_count": 141,
   "metadata": {
    "id": "Rj3zioQFrMW7",
    "outputId": "11ee6f67-7305-4324-9502-6d8c6447462a",
    "scrolled": true
   },
   "outputs": [
    {
     "data": {
      "text/html": [
       "<div>\n",
       "<style scoped>\n",
       "    .dataframe tbody tr th:only-of-type {\n",
       "        vertical-align: middle;\n",
       "    }\n",
       "\n",
       "    .dataframe tbody tr th {\n",
       "        vertical-align: top;\n",
       "    }\n",
       "\n",
       "    .dataframe thead th {\n",
       "        text-align: right;\n",
       "    }\n",
       "</style>\n",
       "<table border=\"1\" class=\"dataframe\">\n",
       "  <thead>\n",
       "    <tr style=\"text-align: right;\">\n",
       "      <th></th>\n",
       "      <th>Recency</th>\n",
       "      <th>Frequency</th>\n",
       "      <th>MonetaryValue</th>\n",
       "    </tr>\n",
       "  </thead>\n",
       "  <tbody>\n",
       "    <tr>\n",
       "      <th>count</th>\n",
       "      <td>4.338000e+03</td>\n",
       "      <td>4.338000e+03</td>\n",
       "      <td>4.338000e+03</td>\n",
       "    </tr>\n",
       "    <tr>\n",
       "      <th>mean</th>\n",
       "      <td>-3.135241e-16</td>\n",
       "      <td>6.395683e-17</td>\n",
       "      <td>4.215418e-16</td>\n",
       "    </tr>\n",
       "    <tr>\n",
       "      <th>std</th>\n",
       "      <td>1.000115e+00</td>\n",
       "      <td>1.000115e+00</td>\n",
       "      <td>1.000115e+00</td>\n",
       "    </tr>\n",
       "    <tr>\n",
       "      <th>min</th>\n",
       "      <td>-2.633044e+00</td>\n",
       "      <td>-2.779493e+00</td>\n",
       "      <td>-4.373877e+00</td>\n",
       "    </tr>\n",
       "    <tr>\n",
       "      <th>25%</th>\n",
       "      <td>-6.136869e-01</td>\n",
       "      <td>-6.345797e-01</td>\n",
       "      <td>-6.801311e-01</td>\n",
       "    </tr>\n",
       "    <tr>\n",
       "      <th>50%</th>\n",
       "      <td>1.139244e-01</td>\n",
       "      <td>3.190506e-02</td>\n",
       "      <td>-6.193819e-02</td>\n",
       "    </tr>\n",
       "    <tr>\n",
       "      <th>75%</th>\n",
       "      <td>8.330196e-01</td>\n",
       "      <td>6.916040e-01</td>\n",
       "      <td>6.585423e-01</td>\n",
       "    </tr>\n",
       "    <tr>\n",
       "      <th>max</th>\n",
       "      <td>1.505935e+00</td>\n",
       "      <td>3.993059e+00</td>\n",
       "      <td>4.723916e+00</td>\n",
       "    </tr>\n",
       "  </tbody>\n",
       "</table>\n",
       "</div>"
      ],
      "text/plain": [
       "            Recency     Frequency  MonetaryValue\n",
       "count  4.338000e+03  4.338000e+03   4.338000e+03\n",
       "mean  -3.135241e-16  6.395683e-17   4.215418e-16\n",
       "std    1.000115e+00  1.000115e+00   1.000115e+00\n",
       "min   -2.633044e+00 -2.779493e+00  -4.373877e+00\n",
       "25%   -6.136869e-01 -6.345797e-01  -6.801311e-01\n",
       "50%    1.139244e-01  3.190506e-02  -6.193819e-02\n",
       "75%    8.330196e-01  6.916040e-01   6.585423e-01\n",
       "max    1.505935e+00  3.993059e+00   4.723916e+00"
      ]
     },
     "execution_count": 141,
     "metadata": {},
     "output_type": "execute_result"
    }
   ],
   "source": [
    "rfm_norm.describe()"
   ]
  },
  {
   "cell_type": "code",
   "execution_count": 119,
   "metadata": {},
   "outputs": [
    {
     "data": {
      "text/plain": [
       "<AxesSubplot:xlabel='MonetaryValue', ylabel='Density'>"
      ]
     },
     "execution_count": 119,
     "metadata": {},
     "output_type": "execute_result"
    },
    {
     "data": {
      "image/png": "[encoded data removed]",
      "text/plain": [
       "<Figure size 1800x360 with 3 Axes>"
      ]
     },
     "metadata": {
      "needs_background": "light"
     },
     "output_type": "display_data"
    }
   ],
   "source": [
    "f,ax = plt.subplots(figsize=(25, 5))\n",
    "plt.subplot(1, 3, 1); sns.kdeplot(rfm_norm['Recency'])\n",
    "plt.subplot(1, 3, 2); sns.kdeplot(rfm_norm['Frequency'])\n",
    "plt.subplot(1, 3, 3); sns.kdeplot(rfm_norm['MonetaryValue'])"
   ]
  },
  {
   "cell_type": "markdown",
   "metadata": {
    "id": "BhXjOKl5rMW7"
   },
   "source": [
    "To find out how many clusters would lead to the best division of our data, we can use the elbow method. What this does esentially, is give you a visual representation of how many clusters it takes to significantly reduce the euclidean distance between the data point and the centroid. I've decided to go with 5 clusters for this case although 3 or 4 also seem like a viable options.\n",
    "\n",
    "데이터를 가장 잘 나눌 수있는 군집 수를 알아보기 위해 엘보우 방법을 사용할 수 있습니다. 이것이 본질적으로하는 일은 데이터 포인트와 중심 사이의 유클리드 거리를 크게 줄이는 데 얼마나 많은 클러스터가 있는지 시각적으로 보여줍니다. 3 또는 4도 실행 가능한 옵션처럼 보이지만이 경우에는 5 개의 클러스터를 사용하기로 결정했습니다."
   ]
  },
  {
   "cell_type": "code",
   "execution_count": 120,
   "metadata": {
    "id": "uftfO61RrMW7",
    "outputId": "a6604efb-5a5d-42e7-9be6-622a1e3019c6"
   },
   "outputs": [
    {
     "data": {
      "image/png": "[encoded data removed]",
      "text/plain": [
       "<Figure size 1080x576 with 1 Axes>"
      ]
     },
     "metadata": {
      "needs_background": "light"
     },
     "output_type": "display_data"
    }
   ],
   "source": [
    "from sklearn.cluster import KMeans\n",
    "wcss = []\n",
    "for i in range(1, 20):\n",
    "    kmeans = KMeans(n_clusters = i, init = 'k-means++', random_state = 42)\n",
    "    # rfm_norm 값을 학습하고\n",
    "    kmeans.fit(rfm_norm)\n",
    "    # wcss 에 inertia_ 값을 넣어 elbow 값을 봅니다.\n",
    "    wcss.append(kmeans.inertia_)\n",
    "    \n",
    "plt.figure(figsize=(15,8))\n",
    "plt.plot(range(1, 20), wcss)\n",
    "plt.title('The Elbow Method')\n",
    "plt.xlabel('Number of clusters')\n",
    "plt.ylabel('WCSS')\n",
    "plt.xticks(range(1, 20))\n",
    "plt.grid(True)\n",
    "plt.show()"
   ]
  },
  {
   "cell_type": "code",
   "execution_count": 121,
   "metadata": {
    "id": "l5q_PWGhrMW7",
    "outputId": "285c462f-979c-4061-ddcf-d6e7f7ab55d3"
   },
   "outputs": [
    {
     "data": {
      "text/plain": [
       "KMeans(n_clusters=5)"
      ]
     },
     "execution_count": 121,
     "metadata": {},
     "output_type": "execute_result"
    }
   ],
   "source": [
    "from sklearn.cluster import KMeans\n",
    "kmeans = KMeans(n_clusters=5)\n",
    "kmeans.fit(rfm_norm)"
   ]
  },
  {
   "cell_type": "code",
   "execution_count": 122,
   "metadata": {
    "id": "eJZ5YNikrMW7",
    "outputId": "85461d0a-6ade-453f-9bc5-04586444e8ef"
   },
   "outputs": [
    {
     "data": {
      "text/plain": [
       "array([[-0.83721704, -0.12803845, -0.27266125],\n",
       "       [ 0.82059596, -0.32262984, -0.42402782],\n",
       "       [-1.37988592,  1.3010721 ,  1.39987989],\n",
       "       [ 0.1022728 ,  0.63563188,  0.62737139],\n",
       "       [ 0.71266544, -1.49816986, -1.2467288 ]])"
      ]
     },
     "execution_count": 122,
     "metadata": {},
     "output_type": "execute_result"
    }
   ],
   "source": [
    "kmeans.cluster_centers_"
   ]
  },
  {
   "cell_type": "code",
   "execution_count": 123,
   "metadata": {
    "id": "baL4HuBarMW8",
    "outputId": "f6430ec1-6a05-4c64-c9e1-5a9f3997b1b0"
   },
   "outputs": [
    {
     "data": {
      "text/plain": [
       "array([3, 2, 3, ..., 0, 2, 3])"
      ]
     },
     "execution_count": 123,
     "metadata": {},
     "output_type": "execute_result"
    }
   ],
   "source": [
    "kmeans.labels_"
   ]
  },
  {
   "cell_type": "code",
   "execution_count": 124,
   "metadata": {
    "id": "OVXizy5trMW8"
   },
   "outputs": [],
   "source": [
    "rfm['Cluster'] = kmeans.labels_"
   ]
  },
  {
   "cell_type": "code",
   "execution_count": 128,
   "metadata": {},
   "outputs": [
    {
     "data": {
      "text/html": [
       "<div>\n",
       "<style scoped>\n",
       "    .dataframe tbody tr th:only-of-type {\n",
       "        vertical-align: middle;\n",
       "    }\n",
       "\n",
       "    .dataframe tbody tr th {\n",
       "        vertical-align: top;\n",
       "    }\n",
       "\n",
       "    .dataframe thead th {\n",
       "        text-align: right;\n",
       "    }\n",
       "</style>\n",
       "<table border=\"1\" class=\"dataframe\">\n",
       "  <thead>\n",
       "    <tr style=\"text-align: right;\">\n",
       "      <th></th>\n",
       "      <th>Recency</th>\n",
       "      <th>Frequency</th>\n",
       "      <th>MonetaryValue</th>\n",
       "      <th>R</th>\n",
       "      <th>F</th>\n",
       "      <th>M</th>\n",
       "      <th>RFM_Segment</th>\n",
       "      <th>RFM_Score</th>\n",
       "      <th>General_Segment</th>\n",
       "      <th>Cluster</th>\n",
       "    </tr>\n",
       "    <tr>\n",
       "      <th>CustomerID</th>\n",
       "      <th></th>\n",
       "      <th></th>\n",
       "      <th></th>\n",
       "      <th></th>\n",
       "      <th></th>\n",
       "      <th></th>\n",
       "      <th></th>\n",
       "      <th></th>\n",
       "      <th></th>\n",
       "      <th></th>\n",
       "    </tr>\n",
       "  </thead>\n",
       "  <tbody>\n",
       "    <tr>\n",
       "      <th>12346.0</th>\n",
       "      <td>326</td>\n",
       "      <td>1</td>\n",
       "      <td>77183.60</td>\n",
       "      <td>1</td>\n",
       "      <td>1</td>\n",
       "      <td>4</td>\n",
       "      <td>114</td>\n",
       "      <td>6</td>\n",
       "      <td>Middle</td>\n",
       "      <td>3</td>\n",
       "    </tr>\n",
       "    <tr>\n",
       "      <th>12347.0</th>\n",
       "      <td>2</td>\n",
       "      <td>182</td>\n",
       "      <td>4310.00</td>\n",
       "      <td>4</td>\n",
       "      <td>4</td>\n",
       "      <td>4</td>\n",
       "      <td>444</td>\n",
       "      <td>12</td>\n",
       "      <td>Top</td>\n",
       "      <td>2</td>\n",
       "    </tr>\n",
       "    <tr>\n",
       "      <th>12348.0</th>\n",
       "      <td>75</td>\n",
       "      <td>31</td>\n",
       "      <td>1797.24</td>\n",
       "      <td>2</td>\n",
       "      <td>2</td>\n",
       "      <td>4</td>\n",
       "      <td>224</td>\n",
       "      <td>8</td>\n",
       "      <td>Middle</td>\n",
       "      <td>3</td>\n",
       "    </tr>\n",
       "    <tr>\n",
       "      <th>12349.0</th>\n",
       "      <td>19</td>\n",
       "      <td>73</td>\n",
       "      <td>1757.55</td>\n",
       "      <td>3</td>\n",
       "      <td>3</td>\n",
       "      <td>4</td>\n",
       "      <td>334</td>\n",
       "      <td>10</td>\n",
       "      <td>Top</td>\n",
       "      <td>3</td>\n",
       "    </tr>\n",
       "    <tr>\n",
       "      <th>12350.0</th>\n",
       "      <td>310</td>\n",
       "      <td>17</td>\n",
       "      <td>334.40</td>\n",
       "      <td>1</td>\n",
       "      <td>1</td>\n",
       "      <td>2</td>\n",
       "      <td>112</td>\n",
       "      <td>4</td>\n",
       "      <td>Low</td>\n",
       "      <td>1</td>\n",
       "    </tr>\n",
       "    <tr>\n",
       "      <th>12352.0</th>\n",
       "      <td>36</td>\n",
       "      <td>85</td>\n",
       "      <td>2506.04</td>\n",
       "      <td>3</td>\n",
       "      <td>3</td>\n",
       "      <td>4</td>\n",
       "      <td>334</td>\n",
       "      <td>10</td>\n",
       "      <td>Top</td>\n",
       "      <td>3</td>\n",
       "    </tr>\n",
       "    <tr>\n",
       "      <th>12353.0</th>\n",
       "      <td>204</td>\n",
       "      <td>4</td>\n",
       "      <td>89.00</td>\n",
       "      <td>1</td>\n",
       "      <td>1</td>\n",
       "      <td>1</td>\n",
       "      <td>111</td>\n",
       "      <td>3</td>\n",
       "      <td>Low</td>\n",
       "      <td>4</td>\n",
       "    </tr>\n",
       "    <tr>\n",
       "      <th>12354.0</th>\n",
       "      <td>232</td>\n",
       "      <td>58</td>\n",
       "      <td>1079.40</td>\n",
       "      <td>1</td>\n",
       "      <td>3</td>\n",
       "      <td>3</td>\n",
       "      <td>133</td>\n",
       "      <td>7</td>\n",
       "      <td>Middle</td>\n",
       "      <td>1</td>\n",
       "    </tr>\n",
       "    <tr>\n",
       "      <th>12355.0</th>\n",
       "      <td>214</td>\n",
       "      <td>13</td>\n",
       "      <td>459.40</td>\n",
       "      <td>1</td>\n",
       "      <td>1</td>\n",
       "      <td>2</td>\n",
       "      <td>112</td>\n",
       "      <td>4</td>\n",
       "      <td>Low</td>\n",
       "      <td>1</td>\n",
       "    </tr>\n",
       "    <tr>\n",
       "      <th>12356.0</th>\n",
       "      <td>23</td>\n",
       "      <td>59</td>\n",
       "      <td>2811.43</td>\n",
       "      <td>3</td>\n",
       "      <td>3</td>\n",
       "      <td>4</td>\n",
       "      <td>334</td>\n",
       "      <td>10</td>\n",
       "      <td>Top</td>\n",
       "      <td>3</td>\n",
       "    </tr>\n",
       "  </tbody>\n",
       "</table>\n",
       "</div>"
      ],
      "text/plain": [
       "            Recency  Frequency  MonetaryValue  R  F  M RFM_Segment  RFM_Score  \\\n",
       "CustomerID                                                                      \n",
       "12346.0         326          1       77183.60  1  1  4         114          6   \n",
       "12347.0           2        182        4310.00  4  4  4         444         12   \n",
       "12348.0          75         31        1797.24  2  2  4         224          8   \n",
       "12349.0          19         73        1757.55  3  3  4         334         10   \n",
       "12350.0         310         17         334.40  1  1  2         112          4   \n",
       "12352.0          36         85        2506.04  3  3  4         334         10   \n",
       "12353.0         204          4          89.00  1  1  1         111          3   \n",
       "12354.0         232         58        1079.40  1  3  3         133          7   \n",
       "12355.0         214         13         459.40  1  1  2         112          4   \n",
       "12356.0          23         59        2811.43  3  3  4         334         10   \n",
       "\n",
       "           General_Segment  Cluster  \n",
       "CustomerID                           \n",
       "12346.0             Middle        3  \n",
       "12347.0                Top        2  \n",
       "12348.0             Middle        3  \n",
       "12349.0                Top        3  \n",
       "12350.0                Low        1  \n",
       "12352.0                Top        3  \n",
       "12353.0                Low        4  \n",
       "12354.0             Middle        1  \n",
       "12355.0                Low        1  \n",
       "12356.0                Top        3  "
      ]
     },
     "execution_count": 128,
     "metadata": {},
     "output_type": "execute_result"
    }
   ],
   "source": [
    "rfm.head(10)"
   ]
  },
  {
   "cell_type": "code",
   "execution_count": 127,
   "metadata": {
    "id": "dtYqGMErrMW8",
    "outputId": "934fa876-12e7-444f-d128-8e840e60b465"
   },
   "outputs": [
    {
     "data": {
      "text/html": [
       "<div>\n",
       "<style scoped>\n",
       "    .dataframe tbody tr th:only-of-type {\n",
       "        vertical-align: middle;\n",
       "    }\n",
       "\n",
       "    .dataframe tbody tr th {\n",
       "        vertical-align: top;\n",
       "    }\n",
       "\n",
       "    .dataframe thead th {\n",
       "        text-align: right;\n",
       "    }\n",
       "</style>\n",
       "<table border=\"1\" class=\"dataframe\">\n",
       "  <thead>\n",
       "    <tr style=\"text-align: right;\">\n",
       "      <th></th>\n",
       "      <th>Recency</th>\n",
       "      <th>Frequency</th>\n",
       "      <th>MonetaryValue</th>\n",
       "    </tr>\n",
       "    <tr>\n",
       "      <th>Cluster</th>\n",
       "      <th></th>\n",
       "      <th></th>\n",
       "      <th></th>\n",
       "    </tr>\n",
       "  </thead>\n",
       "  <tbody>\n",
       "    <tr>\n",
       "      <th>0</th>\n",
       "      <td>17.0</td>\n",
       "      <td>41.0</td>\n",
       "      <td>641.0</td>\n",
       "    </tr>\n",
       "    <tr>\n",
       "      <th>1</th>\n",
       "      <td>169.0</td>\n",
       "      <td>30.0</td>\n",
       "      <td>504.0</td>\n",
       "    </tr>\n",
       "    <tr>\n",
       "      <th>2</th>\n",
       "      <td>9.0</td>\n",
       "      <td>315.0</td>\n",
       "      <td>8110.0</td>\n",
       "    </tr>\n",
       "    <tr>\n",
       "      <th>3</th>\n",
       "      <td>65.0</td>\n",
       "      <td>108.0</td>\n",
       "      <td>2042.0</td>\n",
       "    </tr>\n",
       "    <tr>\n",
       "      <th>4</th>\n",
       "      <td>168.0</td>\n",
       "      <td>7.0</td>\n",
       "      <td>199.0</td>\n",
       "    </tr>\n",
       "  </tbody>\n",
       "</table>\n",
       "</div>"
      ],
      "text/plain": [
       "         Recency  Frequency  MonetaryValue\n",
       "Cluster                                   \n",
       "0           17.0       41.0          641.0\n",
       "1          169.0       30.0          504.0\n",
       "2            9.0      315.0         8110.0\n",
       "3           65.0      108.0         2042.0\n",
       "4          168.0        7.0          199.0"
      ]
     },
     "execution_count": 127,
     "metadata": {},
     "output_type": "execute_result"
    }
   ],
   "source": [
    "#### Segment 로 범주화 했던 값을 그룹화 했던 것처럼 군집화 한 데이터의 값을 요약합니다.\n",
    "# Recency, Frequency 의 평균값을 구하고\n",
    "# MonetaryValue 는 평균과 count 값을 함께 구합니다. \n",
    "\n",
    "rfm.groupby(['Cluster']).agg({'Recency':'mean',\n",
    "                              'Frequency':'mean',\n",
    "                              'MonetaryValue': 'mean',\n",
    "                             }).round(0)\n",
    "\n",
    "\n",
    "# 2번 클러스터가 가장 TOP 으로 보이고, 4번 클러스터가 가장 낮은 등급으로 보인다."
   ]
  },
  {
   "cell_type": "markdown",
   "metadata": {
    "id": "GYLr2ck-rMW8"
   },
   "source": [
    "It looks like Cluster 1,2 and 3 are performing well with 1 and 2 performing significantly better. \n",
    "\n",
    "클러스터 1, 2 및 3이 1 및 2의 성능이 크게 향상되는 것처럼 보입니다.\n",
    "\n",
    "\n",
    "* ps. 상품불류 할때도 text 를 알고리즘으로 돌려서 분류할 수 있다."
   ]
  },
  {
   "cell_type": "code",
   "execution_count": 133,
   "metadata": {},
   "outputs": [
    {
     "data": {
      "text/html": [
       "<div>\n",
       "<style scoped>\n",
       "    .dataframe tbody tr th:only-of-type {\n",
       "        vertical-align: middle;\n",
       "    }\n",
       "\n",
       "    .dataframe tbody tr th {\n",
       "        vertical-align: top;\n",
       "    }\n",
       "\n",
       "    .dataframe thead th {\n",
       "        text-align: right;\n",
       "    }\n",
       "</style>\n",
       "<table border=\"1\" class=\"dataframe\">\n",
       "  <thead>\n",
       "    <tr style=\"text-align: right;\">\n",
       "      <th></th>\n",
       "      <th>InvoiceNo</th>\n",
       "      <th>StockCode</th>\n",
       "      <th>Description</th>\n",
       "      <th>Quantity</th>\n",
       "      <th>InvoiceDate</th>\n",
       "      <th>UnitPrice</th>\n",
       "      <th>CustomerID</th>\n",
       "      <th>Country</th>\n",
       "      <th>TotalCost</th>\n",
       "      <th>InvoiceDateCon</th>\n",
       "      <th>CohortMonth</th>\n",
       "      <th>CohortIndex</th>\n",
       "    </tr>\n",
       "  </thead>\n",
       "  <tbody>\n",
       "    <tr>\n",
       "      <th>0</th>\n",
       "      <td>536365</td>\n",
       "      <td>85123A</td>\n",
       "      <td>WHITE HANGING HEART T-LIGHT HOLDER</td>\n",
       "      <td>6</td>\n",
       "      <td>2010-12-01 08:26:00</td>\n",
       "      <td>2.55</td>\n",
       "      <td>17850.0</td>\n",
       "      <td>United Kingdom</td>\n",
       "      <td>15.3</td>\n",
       "      <td>2010-12-01</td>\n",
       "      <td>2010-12-01</td>\n",
       "      <td>1</td>\n",
       "    </tr>\n",
       "  </tbody>\n",
       "</table>\n",
       "</div>"
      ],
      "text/plain": [
       "  InvoiceNo StockCode                         Description  Quantity  \\\n",
       "0    536365    85123A  WHITE HANGING HEART T-LIGHT HOLDER         6   \n",
       "\n",
       "          InvoiceDate  UnitPrice  CustomerID         Country  TotalCost  \\\n",
       "0 2010-12-01 08:26:00       2.55     17850.0  United Kingdom       15.3   \n",
       "\n",
       "  InvoiceDateCon CohortMonth  CohortIndex  \n",
       "0     2010-12-01  2010-12-01            1  "
      ]
     },
     "execution_count": 133,
     "metadata": {},
     "output_type": "execute_result"
    }
   ],
   "source": [
    "df.head(1)"
   ]
  },
  {
   "cell_type": "code",
   "execution_count": 134,
   "metadata": {
    "id": "uyzopju0rMW9"
   },
   "outputs": [],
   "source": [
    "df_trim = df.iloc[:,[6,7,8,9,11]]"
   ]
  },
  {
   "cell_type": "code",
   "execution_count": 135,
   "metadata": {},
   "outputs": [
    {
     "data": {
      "text/html": [
       "<div>\n",
       "<style scoped>\n",
       "    .dataframe tbody tr th:only-of-type {\n",
       "        vertical-align: middle;\n",
       "    }\n",
       "\n",
       "    .dataframe tbody tr th {\n",
       "        vertical-align: top;\n",
       "    }\n",
       "\n",
       "    .dataframe thead th {\n",
       "        text-align: right;\n",
       "    }\n",
       "</style>\n",
       "<table border=\"1\" class=\"dataframe\">\n",
       "  <thead>\n",
       "    <tr style=\"text-align: right;\">\n",
       "      <th></th>\n",
       "      <th>CustomerID</th>\n",
       "      <th>Country</th>\n",
       "      <th>TotalCost</th>\n",
       "      <th>InvoiceDateCon</th>\n",
       "      <th>CohortIndex</th>\n",
       "    </tr>\n",
       "  </thead>\n",
       "  <tbody>\n",
       "    <tr>\n",
       "      <th>0</th>\n",
       "      <td>17850.0</td>\n",
       "      <td>United Kingdom</td>\n",
       "      <td>15.3</td>\n",
       "      <td>2010-12-01</td>\n",
       "      <td>1</td>\n",
       "    </tr>\n",
       "  </tbody>\n",
       "</table>\n",
       "</div>"
      ],
      "text/plain": [
       "   CustomerID         Country  TotalCost InvoiceDateCon  CohortIndex\n",
       "0     17850.0  United Kingdom       15.3     2010-12-01            1"
      ]
     },
     "execution_count": 135,
     "metadata": {},
     "output_type": "execute_result"
    }
   ],
   "source": [
    "df_trim.head(1)"
   ]
  },
  {
   "cell_type": "code",
   "execution_count": 137,
   "metadata": {},
   "outputs": [
    {
     "data": {
      "text/html": [
       "<div>\n",
       "<style scoped>\n",
       "    .dataframe tbody tr th:only-of-type {\n",
       "        vertical-align: middle;\n",
       "    }\n",
       "\n",
       "    .dataframe tbody tr th {\n",
       "        vertical-align: top;\n",
       "    }\n",
       "\n",
       "    .dataframe thead th {\n",
       "        text-align: right;\n",
       "    }\n",
       "</style>\n",
       "<table border=\"1\" class=\"dataframe\">\n",
       "  <thead>\n",
       "    <tr style=\"text-align: right;\">\n",
       "      <th></th>\n",
       "      <th>Recency</th>\n",
       "      <th>Frequency</th>\n",
       "      <th>MonetaryValue</th>\n",
       "      <th>RFM_Score</th>\n",
       "    </tr>\n",
       "    <tr>\n",
       "      <th>Cluster</th>\n",
       "      <th></th>\n",
       "      <th></th>\n",
       "      <th></th>\n",
       "      <th></th>\n",
       "    </tr>\n",
       "  </thead>\n",
       "  <tbody>\n",
       "    <tr>\n",
       "      <th>0</th>\n",
       "      <td>17.405685</td>\n",
       "      <td>41.487080</td>\n",
       "      <td>640.724963</td>\n",
       "      <td>8.027132</td>\n",
       "    </tr>\n",
       "    <tr>\n",
       "      <th>1</th>\n",
       "      <td>168.786260</td>\n",
       "      <td>29.888889</td>\n",
       "      <td>503.937347</td>\n",
       "      <td>5.443596</td>\n",
       "    </tr>\n",
       "    <tr>\n",
       "      <th>2</th>\n",
       "      <td>9.174174</td>\n",
       "      <td>315.243243</td>\n",
       "      <td>8109.844700</td>\n",
       "      <td>11.615616</td>\n",
       "    </tr>\n",
       "    <tr>\n",
       "      <th>3</th>\n",
       "      <td>64.533724</td>\n",
       "      <td>108.055718</td>\n",
       "      <td>2041.750177</td>\n",
       "      <td>9.261975</td>\n",
       "    </tr>\n",
       "    <tr>\n",
       "      <th>4</th>\n",
       "      <td>168.145115</td>\n",
       "      <td>6.965517</td>\n",
       "      <td>199.438276</td>\n",
       "      <td>3.876437</td>\n",
       "    </tr>\n",
       "  </tbody>\n",
       "</table>\n",
       "</div>"
      ],
      "text/plain": [
       "            Recency   Frequency  MonetaryValue  RFM_Score\n",
       "Cluster                                                  \n",
       "0         17.405685   41.487080     640.724963   8.027132\n",
       "1        168.786260   29.888889     503.937347   5.443596\n",
       "2          9.174174  315.243243    8109.844700  11.615616\n",
       "3         64.533724  108.055718    2041.750177   9.261975\n",
       "4        168.145115    6.965517     199.438276   3.876437"
      ]
     },
     "execution_count": 137,
     "metadata": {},
     "output_type": "execute_result"
    }
   ],
   "source": [
    "rfm.groupby(['Cluster']).mean()"
   ]
  },
  {
   "cell_type": "code",
   "execution_count": 138,
   "metadata": {},
   "outputs": [
    {
     "data": {
      "text/plain": [
       "Recency            92.583679\n",
       "Frequency          90.523513\n",
       "MonetaryValue    2009.852304\n",
       "RFM_Segment              inf\n",
       "RFM_Score           7.501153\n",
       "Cluster             1.928077\n",
       "dtype: float64"
      ]
     },
     "execution_count": 138,
     "metadata": {},
     "output_type": "execute_result"
    }
   ],
   "source": [
    "rfm.mean()"
   ]
  },
  {
   "cell_type": "code",
   "execution_count": 139,
   "metadata": {
    "id": "AqBR5WterMW9"
   },
   "outputs": [],
   "source": [
    "mean_clus = rfm.groupby(['Cluster']).mean() # 머신러닝으로 구한값 \n",
    "pop_avg = rfm.mean() # 머신러닝으로 구하지 않은 값.\n",
    "relative_imp = mean_clus / pop_avg - 1\n",
    "relative_imp = relative_imp.dropna(axis=1).iloc[:,[3,0,1]]"
   ]
  },
  {
   "cell_type": "code",
   "execution_count": 140,
   "metadata": {
    "id": "i5_u80O6rMW9",
    "outputId": "a64ae0d3-8c82-43e7-b39b-08959de14120",
    "scrolled": true
   },
   "outputs": [
    {
     "data": {
      "text/html": [
       "<div>\n",
       "<style scoped>\n",
       "    .dataframe tbody tr th:only-of-type {\n",
       "        vertical-align: middle;\n",
       "    }\n",
       "\n",
       "    .dataframe tbody tr th {\n",
       "        vertical-align: top;\n",
       "    }\n",
       "\n",
       "    .dataframe thead th {\n",
       "        text-align: right;\n",
       "    }\n",
       "</style>\n",
       "<table border=\"1\" class=\"dataframe\">\n",
       "  <thead>\n",
       "    <tr style=\"text-align: right;\">\n",
       "      <th></th>\n",
       "      <th>Recency</th>\n",
       "      <th>Frequency</th>\n",
       "      <th>MonetaryValue</th>\n",
       "    </tr>\n",
       "    <tr>\n",
       "      <th>Cluster</th>\n",
       "      <th></th>\n",
       "      <th></th>\n",
       "      <th></th>\n",
       "    </tr>\n",
       "  </thead>\n",
       "  <tbody>\n",
       "    <tr>\n",
       "      <th>0</th>\n",
       "      <td>-0.812001</td>\n",
       "      <td>-0.541698</td>\n",
       "      <td>-0.681208</td>\n",
       "    </tr>\n",
       "    <tr>\n",
       "      <th>1</th>\n",
       "      <td>0.823067</td>\n",
       "      <td>-0.669822</td>\n",
       "      <td>-0.749266</td>\n",
       "    </tr>\n",
       "    <tr>\n",
       "      <th>2</th>\n",
       "      <td>-0.900909</td>\n",
       "      <td>2.482446</td>\n",
       "      <td>3.035045</td>\n",
       "    </tr>\n",
       "    <tr>\n",
       "      <th>3</th>\n",
       "      <td>-0.302969</td>\n",
       "      <td>0.193676</td>\n",
       "      <td>0.015871</td>\n",
       "    </tr>\n",
       "    <tr>\n",
       "      <th>4</th>\n",
       "      <td>0.816142</td>\n",
       "      <td>-0.923053</td>\n",
       "      <td>-0.900770</td>\n",
       "    </tr>\n",
       "  </tbody>\n",
       "</table>\n",
       "</div>"
      ],
      "text/plain": [
       "          Recency  Frequency  MonetaryValue\n",
       "Cluster                                    \n",
       "0       -0.812001  -0.541698      -0.681208\n",
       "1        0.823067  -0.669822      -0.749266\n",
       "2       -0.900909   2.482446       3.035045\n",
       "3       -0.302969   0.193676       0.015871\n",
       "4        0.816142  -0.923053      -0.900770"
      ]
     },
     "execution_count": 140,
     "metadata": {},
     "output_type": "execute_result"
    }
   ],
   "source": [
    "relative_imp"
   ]
  },
  {
   "cell_type": "code",
   "execution_count": 143,
   "metadata": {
    "id": "5DWfHDPFrMW9",
    "outputId": "adda7fd0-87d2-4f9e-e20c-058beafb8afc"
   },
   "outputs": [
    {
     "data": {
      "text/plain": [
       "<AxesSubplot:ylabel='Cluster'>"
      ]
     },
     "execution_count": 143,
     "metadata": {},
     "output_type": "execute_result"
    },
    {
     "data": {
      "image/png": "[encoded data removed]",
      "text/plain": [
       "<Figure size 432x288 with 2 Axes>"
      ]
     },
     "metadata": {
      "needs_background": "light"
     },
     "output_type": "display_data"
    }
   ],
   "source": [
    "# 위의 값을 heatmap으로 표시합니다.\n",
    "sns.heatmap(relative_imp ,annot=True, fmt='.2f', cmap='Blues')"
   ]
  },
  {
   "cell_type": "markdown",
   "metadata": {
    "id": "6zcrWAwKrMW9"
   },
   "source": [
    "We can now break this data set down into separate dataframe and perform further analysis on which segments seem to show up in which cluster. It would only make sense that cluster 1 and 2 (renamed 2 and 3 respectively) have big chunk of customers from the Top and Middle tier.\n",
    "\n",
    "\n",
    "이제 이 데이터 세트를 별도의 데이터 프레임으로 분류하고 어떤 클러스터에 어떤 세그먼트가 나타나는지에 대한 추가 분석을 수행 할 수 있습니다. 클러스터 1과 2 (각각 2와 3으로 이름이 바))는 상위 및 미들 티어의 고객이 많습니다."
   ]
  },
  {
   "cell_type": "code",
   "execution_count": 144,
   "metadata": {
    "id": "yysEMMVjrMW-"
   },
   "outputs": [],
   "source": [
    "rfm_c1 = rfm[rfm['Cluster'] == 0]\n",
    "rfm_c2 = rfm[rfm['Cluster'] == 1]\n",
    "rfm_c3 = rfm[rfm['Cluster'] == 2]\n",
    "rfm_c4 = rfm[rfm['Cluster'] == 3]\n",
    "rfm_c5 = rfm[rfm['Cluster'] == 4]"
   ]
  },
  {
   "cell_type": "code",
   "execution_count": 145,
   "metadata": {
    "id": "jJdhAKvtrMW-",
    "outputId": "5598ef1d-091e-4f15-b8d8-b491c9547b69"
   },
   "outputs": [
    {
     "data": {
      "text/html": [
       "<div>\n",
       "<style scoped>\n",
       "    .dataframe tbody tr th:only-of-type {\n",
       "        vertical-align: middle;\n",
       "    }\n",
       "\n",
       "    .dataframe tbody tr th {\n",
       "        vertical-align: top;\n",
       "    }\n",
       "\n",
       "    .dataframe thead tr th {\n",
       "        text-align: left;\n",
       "    }\n",
       "\n",
       "    .dataframe thead tr:last-of-type th {\n",
       "        text-align: right;\n",
       "    }\n",
       "</style>\n",
       "<table border=\"1\" class=\"dataframe\">\n",
       "  <thead>\n",
       "    <tr>\n",
       "      <th></th>\n",
       "      <th>Recency</th>\n",
       "      <th>Frequency</th>\n",
       "      <th colspan=\"2\" halign=\"left\">MonetaryValue</th>\n",
       "    </tr>\n",
       "    <tr>\n",
       "      <th></th>\n",
       "      <th>mean</th>\n",
       "      <th>mean</th>\n",
       "      <th>mean</th>\n",
       "      <th>count</th>\n",
       "    </tr>\n",
       "    <tr>\n",
       "      <th>General_Segment</th>\n",
       "      <th></th>\n",
       "      <th></th>\n",
       "      <th></th>\n",
       "      <th></th>\n",
       "    </tr>\n",
       "  </thead>\n",
       "  <tbody>\n",
       "    <tr>\n",
       "      <th>Low</th>\n",
       "      <td>25.0</td>\n",
       "      <td>14.0</td>\n",
       "      <td>233.0</td>\n",
       "      <td>28</td>\n",
       "    </tr>\n",
       "    <tr>\n",
       "      <th>Middle</th>\n",
       "      <td>19.0</td>\n",
       "      <td>36.0</td>\n",
       "      <td>553.0</td>\n",
       "      <td>595</td>\n",
       "    </tr>\n",
       "    <tr>\n",
       "      <th>Top</th>\n",
       "      <td>9.0</td>\n",
       "      <td>70.0</td>\n",
       "      <td>1061.0</td>\n",
       "      <td>151</td>\n",
       "    </tr>\n",
       "  </tbody>\n",
       "</table>\n",
       "</div>"
      ],
      "text/plain": [
       "                Recency Frequency MonetaryValue      \n",
       "                   mean      mean          mean count\n",
       "General_Segment                                      \n",
       "Low                25.0      14.0         233.0    28\n",
       "Middle             19.0      36.0         553.0   595\n",
       "Top                 9.0      70.0        1061.0   151"
      ]
     },
     "execution_count": 145,
     "metadata": {},
     "output_type": "execute_result"
    }
   ],
   "source": [
    "# 1번 클러스터 그룹\n",
    "rfm_c1.groupby(['General_Segment']).agg({'Recency': 'mean',\n",
    "                                         'Frequency': 'mean',\n",
    "                                         'MonetaryValue': ['mean', 'count'],\n",
    "                                        }).round(0)"
   ]
  },
  {
   "cell_type": "code",
   "execution_count": 146,
   "metadata": {
    "id": "LK3E3N8VrMW-",
    "outputId": "9f2ec956-a387-47f5-e43e-e9a052c2048f"
   },
   "outputs": [
    {
     "data": {
      "text/html": [
       "<div>\n",
       "<style scoped>\n",
       "    .dataframe tbody tr th:only-of-type {\n",
       "        vertical-align: middle;\n",
       "    }\n",
       "\n",
       "    .dataframe tbody tr th {\n",
       "        vertical-align: top;\n",
       "    }\n",
       "\n",
       "    .dataframe thead tr th {\n",
       "        text-align: left;\n",
       "    }\n",
       "\n",
       "    .dataframe thead tr:last-of-type th {\n",
       "        text-align: right;\n",
       "    }\n",
       "</style>\n",
       "<table border=\"1\" class=\"dataframe\">\n",
       "  <thead>\n",
       "    <tr>\n",
       "      <th></th>\n",
       "      <th>Recency</th>\n",
       "      <th>Frequency</th>\n",
       "      <th colspan=\"2\" halign=\"left\">MonetaryValue</th>\n",
       "    </tr>\n",
       "    <tr>\n",
       "      <th></th>\n",
       "      <th>mean</th>\n",
       "      <th>mean</th>\n",
       "      <th>mean</th>\n",
       "      <th>count</th>\n",
       "    </tr>\n",
       "    <tr>\n",
       "      <th>General_Segment</th>\n",
       "      <th></th>\n",
       "      <th></th>\n",
       "      <th></th>\n",
       "      <th></th>\n",
       "    </tr>\n",
       "  </thead>\n",
       "  <tbody>\n",
       "    <tr>\n",
       "      <th>Low</th>\n",
       "      <td>214.0</td>\n",
       "      <td>23.0</td>\n",
       "      <td>358.0</td>\n",
       "      <td>616</td>\n",
       "    </tr>\n",
       "    <tr>\n",
       "      <th>Middle</th>\n",
       "      <td>120.0</td>\n",
       "      <td>37.0</td>\n",
       "      <td>664.0</td>\n",
       "      <td>563</td>\n",
       "    </tr>\n",
       "  </tbody>\n",
       "</table>\n",
       "</div>"
      ],
      "text/plain": [
       "                Recency Frequency MonetaryValue      \n",
       "                   mean      mean          mean count\n",
       "General_Segment                                      \n",
       "Low               214.0      23.0         358.0   616\n",
       "Middle            120.0      37.0         664.0   563"
      ]
     },
     "execution_count": 146,
     "metadata": {},
     "output_type": "execute_result"
    }
   ],
   "source": [
    "rfm_c2.groupby(['General_Segment']).agg({'Recency': 'mean',\n",
    "                                         'Frequency': 'mean',\n",
    "                                         'MonetaryValue': ['mean', 'count'],\n",
    "                                        }).round(0)"
   ]
  },
  {
   "cell_type": "code",
   "execution_count": 147,
   "metadata": {
    "id": "SBgwZ9avrMW-",
    "outputId": "9277cede-757c-4392-a9cd-1c21e54d08fe"
   },
   "outputs": [
    {
     "data": {
      "text/html": [
       "<div>\n",
       "<style scoped>\n",
       "    .dataframe tbody tr th:only-of-type {\n",
       "        vertical-align: middle;\n",
       "    }\n",
       "\n",
       "    .dataframe tbody tr th {\n",
       "        vertical-align: top;\n",
       "    }\n",
       "\n",
       "    .dataframe thead tr th {\n",
       "        text-align: left;\n",
       "    }\n",
       "\n",
       "    .dataframe thead tr:last-of-type th {\n",
       "        text-align: right;\n",
       "    }\n",
       "</style>\n",
       "<table border=\"1\" class=\"dataframe\">\n",
       "  <thead>\n",
       "    <tr>\n",
       "      <th></th>\n",
       "      <th>Recency</th>\n",
       "      <th>Frequency</th>\n",
       "      <th colspan=\"2\" halign=\"left\">MonetaryValue</th>\n",
       "    </tr>\n",
       "    <tr>\n",
       "      <th></th>\n",
       "      <th>mean</th>\n",
       "      <th>mean</th>\n",
       "      <th>mean</th>\n",
       "      <th>count</th>\n",
       "    </tr>\n",
       "    <tr>\n",
       "      <th>General_Segment</th>\n",
       "      <th></th>\n",
       "      <th></th>\n",
       "      <th></th>\n",
       "      <th></th>\n",
       "    </tr>\n",
       "  </thead>\n",
       "  <tbody>\n",
       "    <tr>\n",
       "      <th>Middle</th>\n",
       "      <td>3.0</td>\n",
       "      <td>9.0</td>\n",
       "      <td>12394.0</td>\n",
       "      <td>1</td>\n",
       "    </tr>\n",
       "    <tr>\n",
       "      <th>Top</th>\n",
       "      <td>9.0</td>\n",
       "      <td>316.0</td>\n",
       "      <td>8103.0</td>\n",
       "      <td>665</td>\n",
       "    </tr>\n",
       "  </tbody>\n",
       "</table>\n",
       "</div>"
      ],
      "text/plain": [
       "                Recency Frequency MonetaryValue      \n",
       "                   mean      mean          mean count\n",
       "General_Segment                                      \n",
       "Middle              3.0       9.0       12394.0     1\n",
       "Top                 9.0     316.0        8103.0   665"
      ]
     },
     "execution_count": 147,
     "metadata": {},
     "output_type": "execute_result"
    }
   ],
   "source": [
    "rfm_c3.groupby(['General_Segment']).agg({'Recency': 'mean',\n",
    "                                         'Frequency': 'mean',\n",
    "                                         'MonetaryValue': ['mean', 'count'],\n",
    "                                        }).round(0)"
   ]
  },
  {
   "cell_type": "code",
   "execution_count": 148,
   "metadata": {
    "id": "oWM91wGFrMW_",
    "outputId": "8dfddf71-a97e-4b7f-9c89-584297a57eb8"
   },
   "outputs": [
    {
     "data": {
      "text/html": [
       "<div>\n",
       "<style scoped>\n",
       "    .dataframe tbody tr th:only-of-type {\n",
       "        vertical-align: middle;\n",
       "    }\n",
       "\n",
       "    .dataframe tbody tr th {\n",
       "        vertical-align: top;\n",
       "    }\n",
       "\n",
       "    .dataframe thead tr th {\n",
       "        text-align: left;\n",
       "    }\n",
       "\n",
       "    .dataframe thead tr:last-of-type th {\n",
       "        text-align: right;\n",
       "    }\n",
       "</style>\n",
       "<table border=\"1\" class=\"dataframe\">\n",
       "  <thead>\n",
       "    <tr>\n",
       "      <th></th>\n",
       "      <th>Recency</th>\n",
       "      <th>Frequency</th>\n",
       "      <th colspan=\"2\" halign=\"left\">MonetaryValue</th>\n",
       "    </tr>\n",
       "    <tr>\n",
       "      <th></th>\n",
       "      <th>mean</th>\n",
       "      <th>mean</th>\n",
       "      <th>mean</th>\n",
       "      <th>count</th>\n",
       "    </tr>\n",
       "    <tr>\n",
       "      <th>General_Segment</th>\n",
       "      <th></th>\n",
       "      <th></th>\n",
       "      <th></th>\n",
       "      <th></th>\n",
       "    </tr>\n",
       "  </thead>\n",
       "  <tbody>\n",
       "    <tr>\n",
       "      <th>Middle</th>\n",
       "      <td>84.0</td>\n",
       "      <td>80.0</td>\n",
       "      <td>1755.0</td>\n",
       "      <td>576</td>\n",
       "    </tr>\n",
       "    <tr>\n",
       "      <th>Top</th>\n",
       "      <td>40.0</td>\n",
       "      <td>144.0</td>\n",
       "      <td>2411.0</td>\n",
       "      <td>447</td>\n",
       "    </tr>\n",
       "  </tbody>\n",
       "</table>\n",
       "</div>"
      ],
      "text/plain": [
       "                Recency Frequency MonetaryValue      \n",
       "                   mean      mean          mean count\n",
       "General_Segment                                      \n",
       "Middle             84.0      80.0        1755.0   576\n",
       "Top                40.0     144.0        2411.0   447"
      ]
     },
     "execution_count": 148,
     "metadata": {},
     "output_type": "execute_result"
    }
   ],
   "source": [
    "rfm_c4.groupby(['General_Segment']).agg({'Recency': 'mean',\n",
    "                                         'Frequency': 'mean',\n",
    "                                         'MonetaryValue': ['mean', 'count'],\n",
    "                                        }).round(0)"
   ]
  },
  {
   "cell_type": "code",
   "execution_count": 149,
   "metadata": {
    "id": "kVFNUi4ZrMW_",
    "outputId": "9fe88609-9c80-4efb-d4e7-4d81e9ecc49c"
   },
   "outputs": [
    {
     "data": {
      "text/html": [
       "<div>\n",
       "<style scoped>\n",
       "    .dataframe tbody tr th:only-of-type {\n",
       "        vertical-align: middle;\n",
       "    }\n",
       "\n",
       "    .dataframe tbody tr th {\n",
       "        vertical-align: top;\n",
       "    }\n",
       "\n",
       "    .dataframe thead tr th {\n",
       "        text-align: left;\n",
       "    }\n",
       "\n",
       "    .dataframe thead tr:last-of-type th {\n",
       "        text-align: right;\n",
       "    }\n",
       "</style>\n",
       "<table border=\"1\" class=\"dataframe\">\n",
       "  <thead>\n",
       "    <tr>\n",
       "      <th></th>\n",
       "      <th>Recency</th>\n",
       "      <th>Frequency</th>\n",
       "      <th colspan=\"2\" halign=\"left\">MonetaryValue</th>\n",
       "    </tr>\n",
       "    <tr>\n",
       "      <th></th>\n",
       "      <th>mean</th>\n",
       "      <th>mean</th>\n",
       "      <th>mean</th>\n",
       "      <th>count</th>\n",
       "    </tr>\n",
       "    <tr>\n",
       "      <th>General_Segment</th>\n",
       "      <th></th>\n",
       "      <th></th>\n",
       "      <th></th>\n",
       "      <th></th>\n",
       "    </tr>\n",
       "  </thead>\n",
       "  <tbody>\n",
       "    <tr>\n",
       "      <th>Low</th>\n",
       "      <td>179.0</td>\n",
       "      <td>7.0</td>\n",
       "      <td>180.0</td>\n",
       "      <td>644</td>\n",
       "    </tr>\n",
       "    <tr>\n",
       "      <th>Middle</th>\n",
       "      <td>37.0</td>\n",
       "      <td>5.0</td>\n",
       "      <td>435.0</td>\n",
       "      <td>52</td>\n",
       "    </tr>\n",
       "  </tbody>\n",
       "</table>\n",
       "</div>"
      ],
      "text/plain": [
       "                Recency Frequency MonetaryValue      \n",
       "                   mean      mean          mean count\n",
       "General_Segment                                      \n",
       "Low               179.0       7.0         180.0   644\n",
       "Middle             37.0       5.0         435.0    52"
      ]
     },
     "execution_count": 149,
     "metadata": {},
     "output_type": "execute_result"
    }
   ],
   "source": [
    "rfm_c5.groupby(['General_Segment']).agg({'Recency': 'mean',\n",
    "                                         'Frequency': 'mean',\n",
    "                                         'MonetaryValue': ['mean', 'count'],\n",
    "                                        }).round(0)"
   ]
  },
  {
   "cell_type": "code",
   "execution_count": 156,
   "metadata": {},
   "outputs": [
    {
     "data": {
      "text/html": [
       "<div>\n",
       "<style scoped>\n",
       "    .dataframe tbody tr th:only-of-type {\n",
       "        vertical-align: middle;\n",
       "    }\n",
       "\n",
       "    .dataframe tbody tr th {\n",
       "        vertical-align: top;\n",
       "    }\n",
       "\n",
       "    .dataframe thead th {\n",
       "        text-align: right;\n",
       "    }\n",
       "</style>\n",
       "<table border=\"1\" class=\"dataframe\">\n",
       "  <thead>\n",
       "    <tr style=\"text-align: right;\">\n",
       "      <th></th>\n",
       "      <th>CustomerID</th>\n",
       "      <th>Country</th>\n",
       "      <th>TotalCost</th>\n",
       "      <th>InvoiceDateCon</th>\n",
       "      <th>CohortIndex</th>\n",
       "    </tr>\n",
       "  </thead>\n",
       "  <tbody>\n",
       "    <tr>\n",
       "      <th>0</th>\n",
       "      <td>17850.0</td>\n",
       "      <td>United Kingdom</td>\n",
       "      <td>15.30</td>\n",
       "      <td>2010-12-01</td>\n",
       "      <td>1</td>\n",
       "    </tr>\n",
       "    <tr>\n",
       "      <th>1</th>\n",
       "      <td>17850.0</td>\n",
       "      <td>United Kingdom</td>\n",
       "      <td>20.34</td>\n",
       "      <td>2010-12-01</td>\n",
       "      <td>1</td>\n",
       "    </tr>\n",
       "  </tbody>\n",
       "</table>\n",
       "</div>"
      ],
      "text/plain": [
       "   CustomerID         Country  TotalCost InvoiceDateCon  CohortIndex\n",
       "0     17850.0  United Kingdom      15.30     2010-12-01            1\n",
       "1     17850.0  United Kingdom      20.34     2010-12-01            1"
      ]
     },
     "execution_count": 156,
     "metadata": {},
     "output_type": "execute_result"
    }
   ],
   "source": [
    "df_trim.head(2)"
   ]
  },
  {
   "cell_type": "code",
   "execution_count": 152,
   "metadata": {
    "scrolled": true
   },
   "outputs": [
    {
     "data": {
      "text/html": [
       "<div>\n",
       "<style scoped>\n",
       "    .dataframe tbody tr th:only-of-type {\n",
       "        vertical-align: middle;\n",
       "    }\n",
       "\n",
       "    .dataframe tbody tr th {\n",
       "        vertical-align: top;\n",
       "    }\n",
       "\n",
       "    .dataframe thead th {\n",
       "        text-align: right;\n",
       "    }\n",
       "</style>\n",
       "<table border=\"1\" class=\"dataframe\">\n",
       "  <thead>\n",
       "    <tr style=\"text-align: right;\">\n",
       "      <th></th>\n",
       "      <th>Recency</th>\n",
       "      <th>Frequency</th>\n",
       "      <th>MonetaryValue</th>\n",
       "      <th>R</th>\n",
       "      <th>F</th>\n",
       "      <th>M</th>\n",
       "      <th>RFM_Segment</th>\n",
       "      <th>RFM_Score</th>\n",
       "      <th>General_Segment</th>\n",
       "      <th>Cluster</th>\n",
       "    </tr>\n",
       "    <tr>\n",
       "      <th>CustomerID</th>\n",
       "      <th></th>\n",
       "      <th></th>\n",
       "      <th></th>\n",
       "      <th></th>\n",
       "      <th></th>\n",
       "      <th></th>\n",
       "      <th></th>\n",
       "      <th></th>\n",
       "      <th></th>\n",
       "      <th></th>\n",
       "    </tr>\n",
       "  </thead>\n",
       "  <tbody>\n",
       "    <tr>\n",
       "      <th>12346.0</th>\n",
       "      <td>326</td>\n",
       "      <td>1</td>\n",
       "      <td>77183.6</td>\n",
       "      <td>1</td>\n",
       "      <td>1</td>\n",
       "      <td>4</td>\n",
       "      <td>114</td>\n",
       "      <td>6</td>\n",
       "      <td>Middle</td>\n",
       "      <td>3</td>\n",
       "    </tr>\n",
       "    <tr>\n",
       "      <th>12347.0</th>\n",
       "      <td>2</td>\n",
       "      <td>182</td>\n",
       "      <td>4310.0</td>\n",
       "      <td>4</td>\n",
       "      <td>4</td>\n",
       "      <td>4</td>\n",
       "      <td>444</td>\n",
       "      <td>12</td>\n",
       "      <td>Top</td>\n",
       "      <td>2</td>\n",
       "    </tr>\n",
       "  </tbody>\n",
       "</table>\n",
       "</div>"
      ],
      "text/plain": [
       "            Recency  Frequency  MonetaryValue  R  F  M RFM_Segment  RFM_Score  \\\n",
       "CustomerID                                                                      \n",
       "12346.0         326          1        77183.6  1  1  4         114          6   \n",
       "12347.0           2        182         4310.0  4  4  4         444         12   \n",
       "\n",
       "           General_Segment  Cluster  \n",
       "CustomerID                           \n",
       "12346.0             Middle        3  \n",
       "12347.0                Top        2  "
      ]
     },
     "execution_count": 152,
     "metadata": {},
     "output_type": "execute_result"
    }
   ],
   "source": [
    "rfm.head(2)"
   ]
  },
  {
   "cell_type": "code",
   "execution_count": 153,
   "metadata": {
    "id": "f3KmFVE2rMW_"
   },
   "outputs": [],
   "source": [
    "rfm['CustomerID'] = rfm.index"
   ]
  },
  {
   "cell_type": "code",
   "execution_count": 154,
   "metadata": {
    "id": "rQh0hF_ArMW_",
    "outputId": "6b5c2ce1-993b-46eb-a3ab-90c6ad1114ca"
   },
   "outputs": [
    {
     "data": {
      "text/html": [
       "<div>\n",
       "<style scoped>\n",
       "    .dataframe tbody tr th:only-of-type {\n",
       "        vertical-align: middle;\n",
       "    }\n",
       "\n",
       "    .dataframe tbody tr th {\n",
       "        vertical-align: top;\n",
       "    }\n",
       "\n",
       "    .dataframe thead th {\n",
       "        text-align: right;\n",
       "    }\n",
       "</style>\n",
       "<table border=\"1\" class=\"dataframe\">\n",
       "  <thead>\n",
       "    <tr style=\"text-align: right;\">\n",
       "      <th></th>\n",
       "      <th>Recency</th>\n",
       "      <th>Frequency</th>\n",
       "      <th>MonetaryValue</th>\n",
       "      <th>R</th>\n",
       "      <th>F</th>\n",
       "      <th>M</th>\n",
       "      <th>RFM_Segment</th>\n",
       "      <th>RFM_Score</th>\n",
       "      <th>General_Segment</th>\n",
       "      <th>Cluster</th>\n",
       "      <th>CustomerID</th>\n",
       "    </tr>\n",
       "    <tr>\n",
       "      <th>CustomerID</th>\n",
       "      <th></th>\n",
       "      <th></th>\n",
       "      <th></th>\n",
       "      <th></th>\n",
       "      <th></th>\n",
       "      <th></th>\n",
       "      <th></th>\n",
       "      <th></th>\n",
       "      <th></th>\n",
       "      <th></th>\n",
       "      <th></th>\n",
       "    </tr>\n",
       "  </thead>\n",
       "  <tbody>\n",
       "    <tr>\n",
       "      <th>12346.0</th>\n",
       "      <td>326</td>\n",
       "      <td>1</td>\n",
       "      <td>77183.60</td>\n",
       "      <td>1</td>\n",
       "      <td>1</td>\n",
       "      <td>4</td>\n",
       "      <td>114</td>\n",
       "      <td>6</td>\n",
       "      <td>Middle</td>\n",
       "      <td>3</td>\n",
       "      <td>12346.0</td>\n",
       "    </tr>\n",
       "    <tr>\n",
       "      <th>12347.0</th>\n",
       "      <td>2</td>\n",
       "      <td>182</td>\n",
       "      <td>4310.00</td>\n",
       "      <td>4</td>\n",
       "      <td>4</td>\n",
       "      <td>4</td>\n",
       "      <td>444</td>\n",
       "      <td>12</td>\n",
       "      <td>Top</td>\n",
       "      <td>2</td>\n",
       "      <td>12347.0</td>\n",
       "    </tr>\n",
       "    <tr>\n",
       "      <th>12348.0</th>\n",
       "      <td>75</td>\n",
       "      <td>31</td>\n",
       "      <td>1797.24</td>\n",
       "      <td>2</td>\n",
       "      <td>2</td>\n",
       "      <td>4</td>\n",
       "      <td>224</td>\n",
       "      <td>8</td>\n",
       "      <td>Middle</td>\n",
       "      <td>3</td>\n",
       "      <td>12348.0</td>\n",
       "    </tr>\n",
       "    <tr>\n",
       "      <th>12349.0</th>\n",
       "      <td>19</td>\n",
       "      <td>73</td>\n",
       "      <td>1757.55</td>\n",
       "      <td>3</td>\n",
       "      <td>3</td>\n",
       "      <td>4</td>\n",
       "      <td>334</td>\n",
       "      <td>10</td>\n",
       "      <td>Top</td>\n",
       "      <td>3</td>\n",
       "      <td>12349.0</td>\n",
       "    </tr>\n",
       "    <tr>\n",
       "      <th>12350.0</th>\n",
       "      <td>310</td>\n",
       "      <td>17</td>\n",
       "      <td>334.40</td>\n",
       "      <td>1</td>\n",
       "      <td>1</td>\n",
       "      <td>2</td>\n",
       "      <td>112</td>\n",
       "      <td>4</td>\n",
       "      <td>Low</td>\n",
       "      <td>1</td>\n",
       "      <td>12350.0</td>\n",
       "    </tr>\n",
       "    <tr>\n",
       "      <th>...</th>\n",
       "      <td>...</td>\n",
       "      <td>...</td>\n",
       "      <td>...</td>\n",
       "      <td>...</td>\n",
       "      <td>...</td>\n",
       "      <td>...</td>\n",
       "      <td>...</td>\n",
       "      <td>...</td>\n",
       "      <td>...</td>\n",
       "      <td>...</td>\n",
       "      <td>...</td>\n",
       "    </tr>\n",
       "    <tr>\n",
       "      <th>18280.0</th>\n",
       "      <td>278</td>\n",
       "      <td>10</td>\n",
       "      <td>180.60</td>\n",
       "      <td>1</td>\n",
       "      <td>1</td>\n",
       "      <td>1</td>\n",
       "      <td>111</td>\n",
       "      <td>3</td>\n",
       "      <td>Low</td>\n",
       "      <td>4</td>\n",
       "      <td>18280.0</td>\n",
       "    </tr>\n",
       "    <tr>\n",
       "      <th>18281.0</th>\n",
       "      <td>181</td>\n",
       "      <td>7</td>\n",
       "      <td>80.82</td>\n",
       "      <td>1</td>\n",
       "      <td>1</td>\n",
       "      <td>1</td>\n",
       "      <td>111</td>\n",
       "      <td>3</td>\n",
       "      <td>Low</td>\n",
       "      <td>4</td>\n",
       "      <td>18281.0</td>\n",
       "    </tr>\n",
       "    <tr>\n",
       "      <th>18282.0</th>\n",
       "      <td>8</td>\n",
       "      <td>12</td>\n",
       "      <td>178.05</td>\n",
       "      <td>4</td>\n",
       "      <td>1</td>\n",
       "      <td>1</td>\n",
       "      <td>411</td>\n",
       "      <td>6</td>\n",
       "      <td>Middle</td>\n",
       "      <td>0</td>\n",
       "      <td>18282.0</td>\n",
       "    </tr>\n",
       "    <tr>\n",
       "      <th>18283.0</th>\n",
       "      <td>4</td>\n",
       "      <td>721</td>\n",
       "      <td>2045.53</td>\n",
       "      <td>4</td>\n",
       "      <td>4</td>\n",
       "      <td>4</td>\n",
       "      <td>444</td>\n",
       "      <td>12</td>\n",
       "      <td>Top</td>\n",
       "      <td>2</td>\n",
       "      <td>18283.0</td>\n",
       "    </tr>\n",
       "    <tr>\n",
       "      <th>18287.0</th>\n",
       "      <td>43</td>\n",
       "      <td>70</td>\n",
       "      <td>1837.28</td>\n",
       "      <td>3</td>\n",
       "      <td>3</td>\n",
       "      <td>4</td>\n",
       "      <td>334</td>\n",
       "      <td>10</td>\n",
       "      <td>Top</td>\n",
       "      <td>3</td>\n",
       "      <td>18287.0</td>\n",
       "    </tr>\n",
       "  </tbody>\n",
       "</table>\n",
       "<p>4338 rows × 11 columns</p>\n",
       "</div>"
      ],
      "text/plain": [
       "            Recency  Frequency  MonetaryValue  R  F  M RFM_Segment  RFM_Score  \\\n",
       "CustomerID                                                                      \n",
       "12346.0         326          1       77183.60  1  1  4         114          6   \n",
       "12347.0           2        182        4310.00  4  4  4         444         12   \n",
       "12348.0          75         31        1797.24  2  2  4         224          8   \n",
       "12349.0          19         73        1757.55  3  3  4         334         10   \n",
       "12350.0         310         17         334.40  1  1  2         112          4   \n",
       "...             ...        ...            ... .. .. ..         ...        ...   \n",
       "18280.0         278         10         180.60  1  1  1         111          3   \n",
       "18281.0         181          7          80.82  1  1  1         111          3   \n",
       "18282.0           8         12         178.05  4  1  1         411          6   \n",
       "18283.0           4        721        2045.53  4  4  4         444         12   \n",
       "18287.0          43         70        1837.28  3  3  4         334         10   \n",
       "\n",
       "           General_Segment  Cluster  CustomerID  \n",
       "CustomerID                                       \n",
       "12346.0             Middle        3     12346.0  \n",
       "12347.0                Top        2     12347.0  \n",
       "12348.0             Middle        3     12348.0  \n",
       "12349.0                Top        3     12349.0  \n",
       "12350.0                Low        1     12350.0  \n",
       "...                    ...      ...         ...  \n",
       "18280.0                Low        4     18280.0  \n",
       "18281.0                Low        4     18281.0  \n",
       "18282.0             Middle        0     18282.0  \n",
       "18283.0                Top        2     18283.0  \n",
       "18287.0                Top        3     18287.0  \n",
       "\n",
       "[4338 rows x 11 columns]"
      ]
     },
     "execution_count": 154,
     "metadata": {},
     "output_type": "execute_result"
    }
   ],
   "source": [
    "rfm"
   ]
  },
  {
   "cell_type": "code",
   "execution_count": 158,
   "metadata": {
    "id": "Amg8H6kArMXA"
   },
   "outputs": [],
   "source": [
    "rfm.reset_index(drop=True, inplace=True)"
   ]
  },
  {
   "cell_type": "markdown",
   "metadata": {
    "id": "l0Q5UETTrMXA"
   },
   "source": [
    "Now that we have all of our dataframes finalized, we can finally go back and make the necessary merges. This will allow us to map our CustomerIDs from our first dataframe to our clusters, rfm scores and segments. This will give us a nice and clean dataset which can then be used for further analysis and targeting by our Marketing and Sales teams.\n",
    "\n",
    "이제 모든 데이터 프레임이 완성되었으므로 마지막으로 돌아가 필요한 병합을 수행 할 수 있습니다. 이를 통해 첫 번째 데이터 프레임에서 고객 ID를 클러스터, rfm 점수 및 세그먼트로 매핑 할 수 있습니다. 이를 통해 마케팅 및 영업 팀에서 추가 분석 및 타겟팅에 사용할 수있는 훌륭하고 깨끗한 데이터 세트를 제공 할 수 있습니다."
   ]
  },
  {
   "cell_type": "code",
   "execution_count": 159,
   "metadata": {
    "id": "P4u4UXOlrMXA"
   },
   "outputs": [],
   "source": [
    "df_rework = pd.merge(df_trim, rfm, on='CustomerID')"
   ]
  },
  {
   "cell_type": "code",
   "execution_count": 160,
   "metadata": {
    "id": "kos2TcVvrMXA",
    "outputId": "4b8c73f0-aa10-4d64-e93f-6d408f12f1d3"
   },
   "outputs": [
    {
     "data": {
      "text/html": [
       "<div>\n",
       "<style scoped>\n",
       "    .dataframe tbody tr th:only-of-type {\n",
       "        vertical-align: middle;\n",
       "    }\n",
       "\n",
       "    .dataframe tbody tr th {\n",
       "        vertical-align: top;\n",
       "    }\n",
       "\n",
       "    .dataframe thead th {\n",
       "        text-align: right;\n",
       "    }\n",
       "</style>\n",
       "<table border=\"1\" class=\"dataframe\">\n",
       "  <thead>\n",
       "    <tr style=\"text-align: right;\">\n",
       "      <th></th>\n",
       "      <th>CustomerID</th>\n",
       "      <th>Country</th>\n",
       "      <th>TotalCost</th>\n",
       "      <th>InvoiceDateCon</th>\n",
       "      <th>CohortIndex</th>\n",
       "      <th>Recency</th>\n",
       "      <th>Frequency</th>\n",
       "      <th>MonetaryValue</th>\n",
       "      <th>R</th>\n",
       "      <th>F</th>\n",
       "      <th>M</th>\n",
       "      <th>RFM_Segment</th>\n",
       "      <th>RFM_Score</th>\n",
       "      <th>General_Segment</th>\n",
       "      <th>Cluster</th>\n",
       "    </tr>\n",
       "  </thead>\n",
       "  <tbody>\n",
       "    <tr>\n",
       "      <th>0</th>\n",
       "      <td>17850.0</td>\n",
       "      <td>United Kingdom</td>\n",
       "      <td>15.30</td>\n",
       "      <td>2010-12-01</td>\n",
       "      <td>1</td>\n",
       "      <td>372</td>\n",
       "      <td>297</td>\n",
       "      <td>5391.21</td>\n",
       "      <td>1</td>\n",
       "      <td>4</td>\n",
       "      <td>4</td>\n",
       "      <td>144</td>\n",
       "      <td>9</td>\n",
       "      <td>Middle</td>\n",
       "      <td>3</td>\n",
       "    </tr>\n",
       "    <tr>\n",
       "      <th>1</th>\n",
       "      <td>17850.0</td>\n",
       "      <td>United Kingdom</td>\n",
       "      <td>20.34</td>\n",
       "      <td>2010-12-01</td>\n",
       "      <td>1</td>\n",
       "      <td>372</td>\n",
       "      <td>297</td>\n",
       "      <td>5391.21</td>\n",
       "      <td>1</td>\n",
       "      <td>4</td>\n",
       "      <td>4</td>\n",
       "      <td>144</td>\n",
       "      <td>9</td>\n",
       "      <td>Middle</td>\n",
       "      <td>3</td>\n",
       "    </tr>\n",
       "    <tr>\n",
       "      <th>2</th>\n",
       "      <td>17850.0</td>\n",
       "      <td>United Kingdom</td>\n",
       "      <td>22.00</td>\n",
       "      <td>2010-12-01</td>\n",
       "      <td>1</td>\n",
       "      <td>372</td>\n",
       "      <td>297</td>\n",
       "      <td>5391.21</td>\n",
       "      <td>1</td>\n",
       "      <td>4</td>\n",
       "      <td>4</td>\n",
       "      <td>144</td>\n",
       "      <td>9</td>\n",
       "      <td>Middle</td>\n",
       "      <td>3</td>\n",
       "    </tr>\n",
       "    <tr>\n",
       "      <th>3</th>\n",
       "      <td>17850.0</td>\n",
       "      <td>United Kingdom</td>\n",
       "      <td>20.34</td>\n",
       "      <td>2010-12-01</td>\n",
       "      <td>1</td>\n",
       "      <td>372</td>\n",
       "      <td>297</td>\n",
       "      <td>5391.21</td>\n",
       "      <td>1</td>\n",
       "      <td>4</td>\n",
       "      <td>4</td>\n",
       "      <td>144</td>\n",
       "      <td>9</td>\n",
       "      <td>Middle</td>\n",
       "      <td>3</td>\n",
       "    </tr>\n",
       "    <tr>\n",
       "      <th>4</th>\n",
       "      <td>17850.0</td>\n",
       "      <td>United Kingdom</td>\n",
       "      <td>20.34</td>\n",
       "      <td>2010-12-01</td>\n",
       "      <td>1</td>\n",
       "      <td>372</td>\n",
       "      <td>297</td>\n",
       "      <td>5391.21</td>\n",
       "      <td>1</td>\n",
       "      <td>4</td>\n",
       "      <td>4</td>\n",
       "      <td>144</td>\n",
       "      <td>9</td>\n",
       "      <td>Middle</td>\n",
       "      <td>3</td>\n",
       "    </tr>\n",
       "  </tbody>\n",
       "</table>\n",
       "</div>"
      ],
      "text/plain": [
       "   CustomerID         Country  TotalCost InvoiceDateCon  CohortIndex  Recency  \\\n",
       "0     17850.0  United Kingdom      15.30     2010-12-01            1      372   \n",
       "1     17850.0  United Kingdom      20.34     2010-12-01            1      372   \n",
       "2     17850.0  United Kingdom      22.00     2010-12-01            1      372   \n",
       "3     17850.0  United Kingdom      20.34     2010-12-01            1      372   \n",
       "4     17850.0  United Kingdom      20.34     2010-12-01            1      372   \n",
       "\n",
       "   Frequency  MonetaryValue  R  F  M RFM_Segment  RFM_Score General_Segment  \\\n",
       "0        297        5391.21  1  4  4         144          9          Middle   \n",
       "1        297        5391.21  1  4  4         144          9          Middle   \n",
       "2        297        5391.21  1  4  4         144          9          Middle   \n",
       "3        297        5391.21  1  4  4         144          9          Middle   \n",
       "4        297        5391.21  1  4  4         144          9          Middle   \n",
       "\n",
       "   Cluster  \n",
       "0        3  \n",
       "1        3  \n",
       "2        3  \n",
       "3        3  \n",
       "4        3  "
      ]
     },
     "execution_count": 160,
     "metadata": {},
     "output_type": "execute_result"
    }
   ],
   "source": [
    "df_rework.head()"
   ]
  },
  {
   "cell_type": "code",
   "execution_count": 161,
   "metadata": {
    "id": "OHfDQ_VurMXA",
    "outputId": "80976a97-1c18-453f-b5e0-affc1bb2cfd3"
   },
   "outputs": [
    {
     "data": {
      "text/html": [
       "<div>\n",
       "<style scoped>\n",
       "    .dataframe tbody tr th:only-of-type {\n",
       "        vertical-align: middle;\n",
       "    }\n",
       "\n",
       "    .dataframe tbody tr th {\n",
       "        vertical-align: top;\n",
       "    }\n",
       "\n",
       "    .dataframe thead th {\n",
       "        text-align: right;\n",
       "    }\n",
       "</style>\n",
       "<table border=\"1\" class=\"dataframe\">\n",
       "  <thead>\n",
       "    <tr style=\"text-align: right;\">\n",
       "      <th></th>\n",
       "      <th>CustomerID</th>\n",
       "      <th>TotalCost</th>\n",
       "      <th>CohortIndex</th>\n",
       "      <th>Recency</th>\n",
       "      <th>Frequency</th>\n",
       "      <th>MonetaryValue</th>\n",
       "      <th>RFM_Score</th>\n",
       "      <th>Cluster</th>\n",
       "    </tr>\n",
       "  </thead>\n",
       "  <tbody>\n",
       "    <tr>\n",
       "      <th>count</th>\n",
       "      <td>392691.000000</td>\n",
       "      <td>392691.000000</td>\n",
       "      <td>392691.000000</td>\n",
       "      <td>392691.000000</td>\n",
       "      <td>392691.000000</td>\n",
       "      <td>392691.000000</td>\n",
       "      <td>392691.000000</td>\n",
       "      <td>392691.000000</td>\n",
       "    </tr>\n",
       "    <tr>\n",
       "      <th>mean</th>\n",
       "      <td>15287.840916</td>\n",
       "      <td>22.202544</td>\n",
       "      <td>5.147592</td>\n",
       "      <td>41.114057</td>\n",
       "      <td>652.164447</td>\n",
       "      <td>11564.495722</td>\n",
       "      <td>10.274539</td>\n",
       "      <td>2.052907</td>\n",
       "    </tr>\n",
       "    <tr>\n",
       "      <th>std</th>\n",
       "      <td>1713.540734</td>\n",
       "      <td>156.608909</td>\n",
       "      <td>3.850200</td>\n",
       "      <td>65.403960</td>\n",
       "      <td>1421.138766</td>\n",
       "      <td>31428.874857</td>\n",
       "      <td>2.152055</td>\n",
       "      <td>0.863079</td>\n",
       "    </tr>\n",
       "    <tr>\n",
       "      <th>min</th>\n",
       "      <td>12346.000000</td>\n",
       "      <td>0.001000</td>\n",
       "      <td>1.000000</td>\n",
       "      <td>1.000000</td>\n",
       "      <td>1.000000</td>\n",
       "      <td>2.900000</td>\n",
       "      <td>3.000000</td>\n",
       "      <td>0.000000</td>\n",
       "    </tr>\n",
       "    <tr>\n",
       "      <th>25%</th>\n",
       "      <td>13955.000000</td>\n",
       "      <td>4.950000</td>\n",
       "      <td>1.000000</td>\n",
       "      <td>4.000000</td>\n",
       "      <td>89.000000</td>\n",
       "      <td>1097.620000</td>\n",
       "      <td>9.000000</td>\n",
       "      <td>2.000000</td>\n",
       "    </tr>\n",
       "    <tr>\n",
       "      <th>50%</th>\n",
       "      <td>15150.000000</td>\n",
       "      <td>12.450000</td>\n",
       "      <td>4.000000</td>\n",
       "      <td>17.000000</td>\n",
       "      <td>197.000000</td>\n",
       "      <td>2662.060000</td>\n",
       "      <td>11.000000</td>\n",
       "      <td>2.000000</td>\n",
       "    </tr>\n",
       "    <tr>\n",
       "      <th>75%</th>\n",
       "      <td>16791.000000</td>\n",
       "      <td>19.800000</td>\n",
       "      <td>8.000000</td>\n",
       "      <td>43.000000</td>\n",
       "      <td>441.000000</td>\n",
       "      <td>6287.770000</td>\n",
       "      <td>12.000000</td>\n",
       "      <td>3.000000</td>\n",
       "    </tr>\n",
       "    <tr>\n",
       "      <th>max</th>\n",
       "      <td>18287.000000</td>\n",
       "      <td>77183.600000</td>\n",
       "      <td>13.000000</td>\n",
       "      <td>374.000000</td>\n",
       "      <td>7676.000000</td>\n",
       "      <td>280206.020000</td>\n",
       "      <td>12.000000</td>\n",
       "      <td>4.000000</td>\n",
       "    </tr>\n",
       "  </tbody>\n",
       "</table>\n",
       "</div>"
      ],
      "text/plain": [
       "          CustomerID      TotalCost    CohortIndex        Recency  \\\n",
       "count  392691.000000  392691.000000  392691.000000  392691.000000   \n",
       "mean    15287.840916      22.202544       5.147592      41.114057   \n",
       "std      1713.540734     156.608909       3.850200      65.403960   \n",
       "min     12346.000000       0.001000       1.000000       1.000000   \n",
       "25%     13955.000000       4.950000       1.000000       4.000000   \n",
       "50%     15150.000000      12.450000       4.000000      17.000000   \n",
       "75%     16791.000000      19.800000       8.000000      43.000000   \n",
       "max     18287.000000   77183.600000      13.000000     374.000000   \n",
       "\n",
       "           Frequency  MonetaryValue      RFM_Score        Cluster  \n",
       "count  392691.000000  392691.000000  392691.000000  392691.000000  \n",
       "mean      652.164447   11564.495722      10.274539       2.052907  \n",
       "std      1421.138766   31428.874857       2.152055       0.863079  \n",
       "min         1.000000       2.900000       3.000000       0.000000  \n",
       "25%        89.000000    1097.620000       9.000000       2.000000  \n",
       "50%       197.000000    2662.060000      11.000000       2.000000  \n",
       "75%       441.000000    6287.770000      12.000000       3.000000  \n",
       "max      7676.000000  280206.020000      12.000000       4.000000  "
      ]
     },
     "execution_count": 161,
     "metadata": {},
     "output_type": "execute_result"
    }
   ],
   "source": [
    "df_rework.describe()"
   ]
  },
  {
   "cell_type": "markdown",
   "metadata": {
    "id": "Sva-J2vjrMXB"
   },
   "source": [
    "덧붙여 아래 노트북도 분석이 잘 되어 있습니다.\n",
    "\n",
    "https://www.kaggle.com/fabiendaniel/customer-segmentation"
   ]
  },
  {
   "cell_type": "code",
   "execution_count": null,
   "metadata": {
    "id": "oPG6z2UerMXB"
   },
   "outputs": [],
   "source": []
  }
 ],
 "metadata": {
  "colab": {
   "collapsed_sections": [
    "6UUTl74ArMWt",
    "AtCad2XhrMWz"
   ],
   "name": "08-RFM, Cohort Analysis and Customer Segmentation-input.ipynb",
   "provenance": []
  },
  "kernelspec": {
   "display_name": "Python 3",
   "language": "python",
   "name": "python3"
  },
  "language_info": {
   "codemirror_mode": {
    "name": "ipython",
    "version": 3
   },
   "file_extension": ".py",
   "mimetype": "text/x-python",
   "name": "python",
   "nbconvert_exporter": "python",
   "pygments_lexer": "ipython3",
   "version": "3.8.8"
  },
  "toc": {
   "base_numbering": 1,
   "nav_menu": {},
   "number_sections": true,
   "sideBar": true,
   "skip_h1_title": false,
   "title_cell": "Table of Contents",
   "title_sidebar": "Contents",
   "toc_cell": false,
   "toc_position": {
    "height": "calc(100% - 180px)",
    "left": "10px",
    "top": "150px",
    "width": "255.984px"
   },
   "toc_section_display": true,
   "toc_window_display": true
  },
  "varInspector": {
   "cols": {
    "lenName": 16,
    "lenType": 16,
    "lenVar": 40
   },
   "kernels_config": {
    "python": {
     "delete_cmd_postfix": "",
     "delete_cmd_prefix": "del ",
     "library": "var_list.py",
     "varRefreshCmd": "print(var_dic_list())"
    },
    "r": {
     "delete_cmd_postfix": ") ",
     "delete_cmd_prefix": "rm(",
     "library": "var_list.r",
     "varRefreshCmd": "cat(var_dic_list()) "
    }
   },
   "types_to_exclude": [
    "module",
    "function",
    "builtin_function_or_method",
    "instance",
    "_Feature"
   ],
   "window_display": false
  }
 },
 "nbformat": 4,
 "nbformat_minor": 1
}
